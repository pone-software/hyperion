{
 "cells": [
  {
   "cell_type": "code",
   "execution_count": 1,
   "id": "fb39d67c-145a-411e-875b-85425d96fb39",
   "metadata": {},
   "outputs": [],
   "source": [
    "from jax.config import config\n",
    "config.update(\"jax_enable_x64\", True)\n",
    "\n",
    "import numpy as np\n",
    "import matplotlib.pyplot as plt\n",
    "import seaborn as sns\n",
    "import matplotlib as mpl\n",
    "\n",
    "import pickle\n",
    "import scipy.optimize\n",
    "from hyperion.utils import cherenkov_ang_dist, ANG_DIST_INT\n",
    "from tqdm.notebook import trange, tqdm\n",
    "import torch\n",
    "import torch.nn as nn\n",
    "import torch.nn.functional as F\n",
    "\n",
    "if torch.cuda.is_available():\n",
    "    device = torch.device(\"cuda\")\n",
    "else:\n",
    "    device = torch.device(\"cpu\")\n",
    "\n",
    "import sys\n",
    "sys.path.append(\"../gnn_testbed\")\n",
    "from gnn_testbed.event_generation import (\n",
    "    Detector,\n",
    "    make_line,\n",
    ")\n",
    "from gnn_testbed.event_generation.photon_propagation import make_generate_photons_nn, source_to_model_input, PhotonSource\n",
    "from gnn_testbed.event_generation import generate_cascade\n",
    "from hyperion.models.photon_arrival_time.net import PhotonArivalTimePars\n",
    "from hyperion.models.photon_arrival_time.pdf import make_exp_exp_exp, sample_exp_exp_exp\n",
    "\n",
    "%matplotlib inline\n",
    "\n",
    "\n",
    "from jax import numpy as jnp\n",
    "from jax import value_and_grad, jit\n",
    "import pandas as pd\n",
    "from glob import glob\n",
    "\n",
    "import awkward as ak\n",
    "from torch.autograd.functional import hessian, jacobian"
   ]
  },
  {
   "cell_type": "code",
   "execution_count": 2,
   "id": "8e8eb8ca-4271-453c-aec8-5bd37553f8a2",
   "metadata": {},
   "outputs": [],
   "source": [
    "rng = np.random.RandomState(31338)\n",
    "oms_per_line = 20\n",
    "dist_z = 50\n",
    "dark_noise_rate = 16 * 1E-6 # 1/ns\n",
    "\n",
    "modules = make_line(0, 0, oms_per_line, dist_z, rng, dark_noise_rate, 0, efficiency=0.3)\n",
    "modules += make_line(0, 100, oms_per_line, dist_z, rng, dark_noise_rate, 1, efficiency=0.3)\n",
    "modules += make_line(100, 0, oms_per_line, dist_z, rng, dark_noise_rate, 2, efficiency=0.3)\n",
    "det = Detector(modules)\n",
    "\n",
    "\n",
    "lc_links = {}\n",
    "for i in range(60):\n",
    "  \n",
    "    links = list(range(max(i-1, (i//20)*20), min(i+2, (i//20+1)*20)))\n",
    "    links.remove(i)\n",
    "    lc_links[i] = links\n",
    "\n",
    "height = 1500\n",
    "radius = 200\n"
   ]
  },
  {
   "cell_type": "code",
   "execution_count": 3,
   "id": "a0eae685-3ee9-4927-874b-bc78b0c4d09e",
   "metadata": {},
   "outputs": [],
   "source": [
    "def sph_to_cart(theta, phi=0):\n",
    "    \"\"\"Transform spherical to cartesian coordinates.\"\"\"\n",
    "    x = torch.sin(theta) * torch.cos(phi)\n",
    "    y = torch.sin(theta) * torch.sin(phi)\n",
    "    z = torch.cos(theta)\n",
    "    \n",
    "    out = torch.empty(3, device=device, dtype=torch.float)\n",
    "    out[0] = x\n",
    "    out[1] = y\n",
    "    out[2] = z\n",
    "    \n",
    "    return out\n",
    "\n",
    "def sph_to_cart_np(theta, phi=0, r=1):\n",
    "    \"\"\"Transform spherical to cartesian coordinates.\"\"\"\n",
    "    x = np.sin(theta) * np.cos(phi)\n",
    "    y = np.sin(theta) * np.sin(phi)\n",
    "    z = np.cos(theta)\n",
    "\n",
    "    return np.asarray([x, y, z])\n"
   ]
  },
  {
   "cell_type": "code",
   "execution_count": 591,
   "id": "69e8e658-be39-42d2-9324-67fe74f62c8b",
   "metadata": {},
   "outputs": [],
   "source": [
    "def source_to_model_input_torch(module_coords, source_pos, source_dir, source_t0, c_vac, n_gr):\n",
    "    \"\"\"Convert photon sources an module coordinates into neural net input.\"\"\"\n",
    "\n",
    "    source_targ_vec = module_coords - source_pos\n",
    "    dist = torch.linalg.norm(source_targ_vec, dim=-1)\n",
    "    angles = torch.arccos(torch.einsum(\"ak, k -> a\", source_targ_vec, source_dir) / dist)\n",
    "    time_geo = dist / (c_vac / n_gr) + source_t0\n",
    "    \n",
    "    inp_pars = torch.stack([angles, torch.log10(dist)], axis=1)\n",
    "    return inp_pars, time_geo\n",
    "\n",
    "\n",
    "def expon_pdf(x, a):\n",
    "    \"\"\"Exponential PDF.\"\"\"\n",
    "    return 1 / a * torch.exp(-x[:, np.newaxis] / a)\n",
    "\n",
    "def expon_int(x, a):\n",
    "    \"\"\"Exponential CDF\"\"\"\n",
    "    return 1 - torch.exp(-x[:, np.newaxis] / a)\n",
    "\n",
    "\n",
    "def weight_param(w1, w2):\n",
    "    weights = torch.empty((w1.shape[0], 3), device=device)\n",
    "    weights[:, 0] = torch.sin(w1) * torch.cos(w2)\n",
    "    weights[:, 1] = torch.sin(w1) * torch.sin(w2)\n",
    "    weights[:, 2] = torch.cos(w1)\n",
    "    weights = weights**2\n",
    "    return weights\n",
    "\n",
    "def triple_exp(xs, parameters):\n",
    "    \n",
    "    scales = parameters[:, 0:3] * 100\n",
    "    scales, indices = torch.sort(scales, dim=1)\n",
    "    w1 = parameters[:, 3]\n",
    "    w2 = parameters[:, 4]\n",
    "    \n",
    "\n",
    "    weights = weight_param(w1, w2)\n",
    "\n",
    "\n",
    "    res = torch.log(\n",
    "        weights[:, 0] * expon_pdf(xs, scales[:, 0])\n",
    "        + weights[:, 1] * expon_pdf(xs, scales[:, 1])\n",
    "        + weights[:, 2] * expon_pdf(xs, scales[:, 2])\n",
    "    )\n",
    "\n",
    "    return res\n",
    "\n",
    "def triple_exp_integral(tmax, parameters):\n",
    "    \n",
    "    scales = parameters[:, 0:3] * 100\n",
    "    scales, indices = torch.sort(scales, dim=1)\n",
    "    w1 = parameters[:, 3]\n",
    "    w2 = parameters[:, 4]\n",
    "    weights = weight_param(w1, w2)\n",
    "    \n",
    "\n",
    "    res = (\n",
    "        weights[:, 0] * expon_int(tmax, scales[:, 0]) + \n",
    "        weights[:, 1] * expon_int(tmax, scales[:, 1]) + \n",
    "        weights[:, 2] * expon_int(tmax, scales[:, 2])\n",
    "    )\n",
    "   \n",
    "    return res\n",
    "    \n",
    "\n",
    "def uniform_triple_exp(xs, parameters):\n",
    "    log_usf = parameters[:, -2]\n",
    "    usf = 1 - 10 ** (-log_usf)\n",
    "    \n",
    "    unif = torch.log(usf * 1/2)\n",
    "    texp = torch.log(1-usf) +triple_exp(xs+2, parameters[:, :-2]) # TODO: Check +2!\n",
    "    \n",
    "    out = torch.where(xs < 2, unif, texp)\n",
    "   \n",
    "    return out\n",
    "\n",
    "def uniform_triple_exp_int(tmax, parameters):\n",
    "    log_usf = parameters[:, -2]\n",
    "    usf = 1 - 10 ** (-log_usf)\n",
    "    \n",
    "    unif_int = usf * tmax / 2\n",
    "    texp_int = (1-usf) * triple_exp_integral(tmax, parameters[:, :-2]) # TODO: Check +2!\n",
    "    \n",
    "    out = torch.where(tmax < 2, unif_int, texp_int+usf)\n",
    "   \n",
    "    return out\n",
    "\n",
    "\n",
    "module_positions = torch.tensor(det.module_coords, dtype=torch.float, device=device)\n",
    "net = torch.load(\"data/arival_time_pars_net.dat\")\n",
    "net.to(\"cuda\")\n",
    "\n",
    "\n",
    "def eval_dist(times, amp_exp, pos, theta, phi, t0, module_ix, mod_eff=0.3):\n",
    "    cdir = sph_to_cart(theta, phi)\n",
    "    model_in, tgeo = source_to_model_input_torch(module_positions, pos, cdir, t0, 0.3, 1.35)\n",
    "    pdf_params = net(model_in).reshape(module_positions.shape[0], 7)\n",
    "    \n",
    "    twindow = torch.tensor(1000, device=device, dtype=torch.float) # TODO: Improve\n",
    "\n",
    "    nnoise = dark_noise_rate * twindow\n",
    "    amp_meas = times.shape[0]\n",
    "    \n",
    "    log_nph = pdf_params[module_ix, -1]\n",
    "    surv_ratio = 10 ** log_nph / 300e7 \n",
    "    n_ph_exp = amp_exp * surv_ratio * mod_eff\n",
    "\n",
    "    times = times-tgeo[module_ix]\n",
    "    tres_lh = torch.empty(times.shape, device=device)\n",
    "    \n",
    "    noise_term = torch.full(times.shape, torch.log(nnoise), device=device)\n",
    "\n",
    "    trespdf_eval = torch.logsumexp(\n",
    "        torch.stack(\n",
    "            (uniform_triple_exp(times, pdf_params[module_ix][np.newaxis, :])[:, 0] + torch.log(n_ph_exp),\n",
    "             noise_term),\n",
    "            dim=-1)\n",
    "        , dim=-1)\n",
    "\n",
    "    tres_lh = torch.where(times >= 0, trespdf_eval, noise_term)\n",
    "    \n",
    "   \n",
    "    \n",
    "    return tres_lh, n_ph_exp\n",
    "    \n",
    "\n",
    "def eval_likelihood(event, amp_exp, pos, theta, phi, t0, mod_eff=0.3):\n",
    "   \n",
    "    cdir = sph_to_cart(theta, phi)\n",
    "    model_in, tgeo = source_to_model_input_torch(module_positions, pos, cdir, t0, 0.3, 1.35)\n",
    "    pdf_params = net(model_in).reshape(module_positions.shape[0], 7)\n",
    "    \n",
    "    likelihood = 0\n",
    "    for i, times in enumerate(event):\n",
    "        if len(times) == 0:\n",
    "            continue\n",
    "        times = torch.tensor(times, device=device, dtype=torch.float, requires_grad=True)- tgeo[i]\n",
    "        twindow = torch.tensor(1000, device=device, dtype=torch.float) # TODO: Improve\n",
    "        nnoise = dark_noise_rate * twindow\n",
    "\n",
    "        log_nph = pdf_params[i, -1]\n",
    "        surv_ratio = 10 ** log_nph / 300e7 \n",
    "        n_ph_exp = amp_exp * surv_ratio * mod_eff\n",
    "\n",
    "        tres_lh = torch.empty(times.shape, device=device)\n",
    "\n",
    "        noise_term = torch.full(times.shape, torch.log(nnoise), device=device)\n",
    "\n",
    "\n",
    "        trespdf_eval = torch.logsumexp(\n",
    "            torch.stack(\n",
    "                (uniform_triple_exp(times, pdf_params[i][np.newaxis, :])[:, 0] + torch.log(n_ph_exp),\n",
    "                 noise_term),\n",
    "                dim=-1)\n",
    "            , dim=-1)\n",
    "        \n",
    "        tres_lh = torch.where(times >= 0, trespdf_eval, noise_term)\n",
    "        \n",
    "        likelihood += tres_lh.sum() - n_ph_exp\n",
    "\n",
    "    return likelihood\n",
    "    \n",
    "    \n",
    "    "
   ]
  },
  {
   "cell_type": "code",
   "execution_count": 594,
   "id": "55ae93c8-727c-43f6-8e82-2fcf446e92ad",
   "metadata": {},
   "outputs": [
    {
     "data": {
      "text/plain": [
       "7.547169811320755"
      ]
     },
     "execution_count": 594,
     "metadata": {},
     "output_type": "execute_result"
    }
   ],
   "source": [
    "1E12 / ( 5.3 * 250 * 1e2) / 1E6"
   ]
  },
  {
   "cell_type": "code",
   "execution_count": 583,
   "id": "b133a89a-e1b6-4bf1-ad2e-23fde449987d",
   "metadata": {},
   "outputs": [],
   "source": [
    "theta = np.radians(30)\n",
    "theta2 = np.radians(20)\n",
    "phi = np.radians(10)\n",
    "cdir = sph_to_cart_np(theta, phi)\n",
    "cdir2 = sph_to_cart_np(theta2, phi)\n",
    "pos = np.asarray([30., 40, 0])\n",
    "t0_gen = 20\n",
    "amp_gen = 1E10\n",
    "\n",
    "\n",
    "gen_ph = make_generate_photons_nn(\"../hyperion/data/arival_time_pars_net.dat\")\n",
    "phsrc = PhotonSource(pos, amp_gen, 0, cdir)\n",
    "samples = gen_ph(det.module_coords, det.module_efficiencies, [phsrc])\n",
    "\n",
    "theta_t = torch.tensor(theta, device=device, dtype=torch.float)\n",
    "theta2_t = torch.tensor(theta2, device=device, dtype=torch.float)\n",
    "cdir_t = torch.tensor(cdir, device=device, dtype=torch.float)\n",
    "phi_t = torch.tensor(phi, device=device, dtype=torch.float)\n",
    "pos_t = torch.tensor(pos, device=device, dtype=torch.float)\n",
    "amp_gen_t = torch.tensor(amp_gen, device=device, dtype=torch.float)\n",
    "t0_gen_t = torch.tensor(t0_gen, device=device, dtype=torch.float)\n",
    "xs = np.linspace(0, 500, 500)\n",
    "\n",
    "event, record = generate_cascade(det, pos, t0_gen, cdir, n_photons=1E8,  pprop_func=gen_ph)\n",
    "event2, record2 = generate_cascade(det, pos, t0_gen, cdir2, n_photons=1E8,  pprop_func=gen_ph)"
   ]
  },
  {
   "cell_type": "code",
   "execution_count": 592,
   "id": "f8b514c0-2241-4251-b39a-5ed3fa3a2eda",
   "metadata": {},
   "outputs": [
    {
     "data": {
      "text/plain": [
       "tensor([[1.0000, 1.0000, 1.0000, 1.0000, 1.0000, 1.0000, 1.0000, 1.0000, 1.0000,\n",
       "         1.0000, 1.0000, 1.0000, 1.0000, 1.0000, 1.0000, 1.0000, 1.0000, 1.0000,\n",
       "         1.0000, 1.0000, 1.0000, 1.0000, 1.0000, 1.0000, 1.0000, 1.0000, 1.0000,\n",
       "         1.0000, 1.0000, 1.0000, 1.0000, 1.0000, 1.0000, 1.0000, 1.0000, 1.0000,\n",
       "         1.0000, 1.0000, 1.0000, 1.0000, 1.0000, 1.0000, 1.0000, 1.0000, 1.0000,\n",
       "         1.0000, 1.0000, 1.0000, 1.0000, 1.0000, 1.0000, 1.0000, 1.0000, 1.0000,\n",
       "         1.0000, 1.0000, 1.0000, 1.0000, 1.0000, 1.0000]], device='cuda:0',\n",
       "       grad_fn=<SWhereBackward>)"
      ]
     },
     "execution_count": 592,
     "metadata": {},
     "output_type": "execute_result"
    }
   ],
   "source": [
    "model_in, tgeo = source_to_model_input_torch(module_positions, pos_t, cdir_t, t0_gen_t, 0.3, 1.35)\n",
    "pdf_params = net(model_in).reshape(module_positions.shape[0], 7)\n",
    "uniform_triple_exp_int(torch.tensor([5000], device=device, dtype=torch.float), pdf_params)"
   ]
  },
  {
   "cell_type": "code",
   "execution_count": 576,
   "id": "f57f198b-1b80-42ce-92f0-4b6febd14b21",
   "metadata": {},
   "outputs": [
    {
     "data": {
      "text/plain": [
       "torch.Size([60, 2])"
      ]
     },
     "execution_count": 576,
     "metadata": {},
     "output_type": "execute_result"
    }
   ],
   "source": [
    "inp_params.shape"
   ]
  },
  {
   "cell_type": "code",
   "execution_count": 530,
   "id": "ee4604ba-b6ff-4fa6-91b0-c37100777d9f",
   "metadata": {},
   "outputs": [],
   "source": [
    "def dpsi(zen1, azi1, zen2, azi2):\n",
    "    v1 = sph_to_cart(zen1, azi1)\n",
    "    v2 = sph_to_cart(zen2, azi2)\n",
    "    return np.arccos(np.dot(v1, v2))"
   ]
  },
  {
   "cell_type": "code",
   "execution_count": 543,
   "id": "0bbf05ef-bc9e-47c9-982b-69227ae84245",
   "metadata": {},
   "outputs": [],
   "source": [
    "def make_obj_func(event, llh):\n",
    "    def func(pars):\n",
    "        pars = torch.tensor(pars, dtype=torch.float, device=device, requires_grad=True)\n",
    "        val = -llh(event, 10**pars[0], pars[1:4], pars[4], pars[5], pars[6])\n",
    "        val.backward()\n",
    "        grads = pars.grad\n",
    "        return np.asarray(val.detach().cpu().numpy(), dtype=np.float64), np.asarray(grads.detach().cpu().numpy(), dtype=np.float64)\n",
    "    return func\n",
    "\n",
    "\n",
    "results = []\n",
    "for i in range(100):\n",
    "    event, record = generate_cascade(det, pos, t0_gen, cdir, n_photons=amp_gen, pprop_func=gen_ph, seed=i)\n",
    "\n",
    "    minfunc = make_obj_func(event, eval_likelihood)\n",
    "\n",
    "    if phi > np.pi:\n",
    "        phi_seed = phi - 2*np.pi\n",
    "    else:\n",
    "        phi_seed = phi\n",
    "    res = scipy.optimize.fmin_l_bfgs_b(\n",
    "        minfunc,\n",
    "        (np.log10(amp_gen), pos[0], pos[1], pos[2], theta, phi_seed, t0_gen),\n",
    "        bounds=((-1, None), (None, None), (None, None), (None, None), (0, np.pi), (-np.pi, np.pi), (None,None))\n",
    "    )\n",
    "    results.append(res[0])\n",
    "        \n",
    "\n",
    "    "
   ]
  },
  {
   "cell_type": "code",
   "execution_count": 544,
   "id": "e5047e99-4ce5-4d3a-b56e-c7d7bd39dc43",
   "metadata": {},
   "outputs": [],
   "source": [
    "results_df = pd.DataFrame(results, columns=[\"log10(E)\", \"x\", \"y\", \"z\", \"theta\", \"phi\", \"t\"])\n",
    "\n"
   ]
  },
  {
   "cell_type": "code",
   "execution_count": 545,
   "id": "c8d56dd0-b232-4316-86b3-9f444ca0ef37",
   "metadata": {},
   "outputs": [],
   "source": [
    "results_df[\"phi\"] = results_df[\"phi\"]"
   ]
  },
  {
   "cell_type": "code",
   "execution_count": 546,
   "id": "3d52dfc4-dc6f-46f0-9f43-07a4529b5287",
   "metadata": {},
   "outputs": [
    {
     "data": {
      "text/html": [
       "<div>\n",
       "<style scoped>\n",
       "    .dataframe tbody tr th:only-of-type {\n",
       "        vertical-align: middle;\n",
       "    }\n",
       "\n",
       "    .dataframe tbody tr th {\n",
       "        vertical-align: top;\n",
       "    }\n",
       "\n",
       "    .dataframe thead th {\n",
       "        text-align: right;\n",
       "    }\n",
       "</style>\n",
       "<table border=\"1\" class=\"dataframe\">\n",
       "  <thead>\n",
       "    <tr style=\"text-align: right;\">\n",
       "      <th></th>\n",
       "      <th>log10(E)</th>\n",
       "      <th>x</th>\n",
       "      <th>y</th>\n",
       "      <th>z</th>\n",
       "      <th>theta</th>\n",
       "      <th>phi</th>\n",
       "      <th>t</th>\n",
       "    </tr>\n",
       "  </thead>\n",
       "  <tbody>\n",
       "    <tr>\n",
       "      <th>count</th>\n",
       "      <td>100.000000</td>\n",
       "      <td>100.000000</td>\n",
       "      <td>100.000000</td>\n",
       "      <td>100.000000</td>\n",
       "      <td>100.000000</td>\n",
       "      <td>100.000000</td>\n",
       "      <td>100.000000</td>\n",
       "    </tr>\n",
       "    <tr>\n",
       "      <th>mean</th>\n",
       "      <td>9.991931</td>\n",
       "      <td>29.837519</td>\n",
       "      <td>40.119795</td>\n",
       "      <td>-0.199552</td>\n",
       "      <td>0.540959</td>\n",
       "      <td>0.152957</td>\n",
       "      <td>20.094443</td>\n",
       "    </tr>\n",
       "    <tr>\n",
       "      <th>std</th>\n",
       "      <td>0.012585</td>\n",
       "      <td>0.094098</td>\n",
       "      <td>0.069418</td>\n",
       "      <td>0.122405</td>\n",
       "      <td>0.013628</td>\n",
       "      <td>0.020839</td>\n",
       "      <td>0.057223</td>\n",
       "    </tr>\n",
       "    <tr>\n",
       "      <th>min</th>\n",
       "      <td>9.936906</td>\n",
       "      <td>29.710017</td>\n",
       "      <td>40.015234</td>\n",
       "      <td>-0.555390</td>\n",
       "      <td>0.483275</td>\n",
       "      <td>0.020532</td>\n",
       "      <td>20.010529</td>\n",
       "    </tr>\n",
       "    <tr>\n",
       "      <th>25%</th>\n",
       "      <td>9.986023</td>\n",
       "      <td>29.729241</td>\n",
       "      <td>40.077552</td>\n",
       "      <td>-0.326447</td>\n",
       "      <td>0.533287</td>\n",
       "      <td>0.140981</td>\n",
       "      <td>20.055598</td>\n",
       "    </tr>\n",
       "    <tr>\n",
       "      <th>50%</th>\n",
       "      <td>9.995061</td>\n",
       "      <td>29.884621</td>\n",
       "      <td>40.085342</td>\n",
       "      <td>-0.135711</td>\n",
       "      <td>0.535687</td>\n",
       "      <td>0.157868</td>\n",
       "      <td>20.064027</td>\n",
       "    </tr>\n",
       "    <tr>\n",
       "      <th>75%</th>\n",
       "      <td>9.998581</td>\n",
       "      <td>29.898301</td>\n",
       "      <td>40.201581</td>\n",
       "      <td>-0.116437</td>\n",
       "      <td>0.553462</td>\n",
       "      <td>0.166256</td>\n",
       "      <td>20.155272</td>\n",
       "    </tr>\n",
       "    <tr>\n",
       "      <th>max</th>\n",
       "      <td>10.024909</td>\n",
       "      <td>29.980395</td>\n",
       "      <td>40.221210</td>\n",
       "      <td>-0.021938</td>\n",
       "      <td>0.567275</td>\n",
       "      <td>0.174660</td>\n",
       "      <td>20.241541</td>\n",
       "    </tr>\n",
       "  </tbody>\n",
       "</table>\n",
       "</div>"
      ],
      "text/plain": [
       "         log10(E)           x           y           z       theta         phi  \\\n",
       "count  100.000000  100.000000  100.000000  100.000000  100.000000  100.000000   \n",
       "mean     9.991931   29.837519   40.119795   -0.199552    0.540959    0.152957   \n",
       "std      0.012585    0.094098    0.069418    0.122405    0.013628    0.020839   \n",
       "min      9.936906   29.710017   40.015234   -0.555390    0.483275    0.020532   \n",
       "25%      9.986023   29.729241   40.077552   -0.326447    0.533287    0.140981   \n",
       "50%      9.995061   29.884621   40.085342   -0.135711    0.535687    0.157868   \n",
       "75%      9.998581   29.898301   40.201581   -0.116437    0.553462    0.166256   \n",
       "max     10.024909   29.980395   40.221210   -0.021938    0.567275    0.174660   \n",
       "\n",
       "                t  \n",
       "count  100.000000  \n",
       "mean    20.094443  \n",
       "std      0.057223  \n",
       "min     20.010529  \n",
       "25%     20.055598  \n",
       "50%     20.064027  \n",
       "75%     20.155272  \n",
       "max     20.241541  "
      ]
     },
     "execution_count": 546,
     "metadata": {},
     "output_type": "execute_result"
    }
   ],
   "source": [
    "results_df.describe()"
   ]
  },
  {
   "cell_type": "code",
   "execution_count": 547,
   "id": "2fb5b0bf-f1e4-4f83-8111-97f75fa37487",
   "metadata": {},
   "outputs": [
    {
     "data": {
      "text/plain": [
       "0.020729045719075308"
      ]
     },
     "execution_count": 547,
     "metadata": {},
     "output_type": "execute_result"
    }
   ],
   "source": [
    "scipy.stats.circstd(results_df[\"phi\"])"
   ]
  },
  {
   "cell_type": "code",
   "execution_count": 548,
   "id": "c8ae39e5-d95a-4783-b284-8a10fc34cb9b",
   "metadata": {},
   "outputs": [
    {
     "name": "stderr",
     "output_type": "stream",
     "text": [
      "/opt/conda/lib/python3.7/site-packages/seaborn/distributions.py:2619: FutureWarning: `distplot` is a deprecated function and will be removed in a future version. Please adapt your code to use either `displot` (a figure-level function with similar flexibility) or `histplot` (an axes-level function for histograms).\n",
      "  warnings.warn(msg, FutureWarning)\n"
     ]
    },
    {
     "data": {
      "text/plain": [
       "<AxesSubplot:xlabel='phi', ylabel='Density'>"
      ]
     },
     "execution_count": 548,
     "metadata": {},
     "output_type": "execute_result"
    },
    {
     "data": {
      "image/png": "[encoded data removed]",
      "text/plain": [
       "<Figure size 432x288 with 1 Axes>"
      ]
     },
     "metadata": {
      "needs_background": "light"
     },
     "output_type": "display_data"
    }
   ],
   "source": [
    "sns.distplot(results_df[\"phi\"])"
   ]
  },
  {
   "cell_type": "code",
   "execution_count": 365,
   "id": "a685901f-8785-4b99-9fe2-a2c91c606ad5",
   "metadata": {},
   "outputs": [
    {
     "data": {
      "text/plain": [
       "Text(0, 0.5, 'LLH')"
      ]
     },
     "execution_count": 365,
     "metadata": {},
     "output_type": "execute_result"
    },
    {
     "data": {
      "image/png": "[encoded data removed]",
      "text/plain": [
       "<Figure size 432x288 with 1 Axes>"
      ]
     },
     "metadata": {
      "needs_background": "light"
     },
     "output_type": "display_data"
    }
   ],
   "source": [
    "xs = np.linspace(300, 700, 1000)\n",
    "xs_t = torch.tensor(xs, device=device, dtype=torch.float)\n",
    "pdf_val, p = eval_dist(xs_t, amp_gen_t, pos_t, theta_t, phi_t, t0_gen, 30)\n",
    "\n",
    "plt.plot(xs, pdf_val.detach().cpu())\n",
    "plt.xlabel(\"time (ns)\")\n",
    "plt.ylabel(\"LLH\")\n",
    "\n",
    "\n",
    "\n"
   ]
  },
  {
   "cell_type": "code",
   "execution_count": 595,
   "id": "bc120520-2c48-48c1-8165-560540768667",
   "metadata": {},
   "outputs": [
    {
     "ename": "RuntimeError",
     "evalue": "CUDA out of memory. Tried to allocate 692.00 MiB (GPU 0; 3.82 GiB total capacity; 2.07 GiB already allocated; 656.12 MiB free; 2.09 GiB reserved in total by PyTorch)",
     "output_type": "error",
     "traceback": [
      "\u001b[0;31m---------------------------------------------------------------------------\u001b[0m",
      "\u001b[0;31mRuntimeError\u001b[0m                              Traceback (most recent call last)",
      "\u001b[0;32m/tmp/ipykernel_139/3597119812.py\u001b[0m in \u001b[0;36m<module>\u001b[0;34m\u001b[0m\n\u001b[1;32m     28\u001b[0m         \u001b[0mwrap\u001b[0m \u001b[0;34m=\u001b[0m \u001b[0mmake_wrap\u001b[0m\u001b[0;34m(\u001b[0m\u001b[0mevent\u001b[0m\u001b[0;34m)\u001b[0m\u001b[0;34m\u001b[0m\u001b[0;34m\u001b[0m\u001b[0m\n\u001b[1;32m     29\u001b[0m         \u001b[0;31m#hess = hessian(wrap, (torch.log10(amp_gen_t), theta_t, phi_t, pos_t[0], pos_t[1], pos_t[2], t0_gen_t), strict=True)\u001b[0m\u001b[0;34m\u001b[0m\u001b[0;34m\u001b[0m\u001b[0;34m\u001b[0m\u001b[0m\n\u001b[0;32m---> 30\u001b[0;31m         \u001b[0mjac\u001b[0m \u001b[0;34m=\u001b[0m \u001b[0mtorch\u001b[0m\u001b[0;34m.\u001b[0m\u001b[0mstack\u001b[0m\u001b[0;34m(\u001b[0m\u001b[0mjacobian\u001b[0m\u001b[0;34m(\u001b[0m\u001b[0mwrap\u001b[0m\u001b[0;34m,\u001b[0m \u001b[0;34m(\u001b[0m\u001b[0mtorch\u001b[0m\u001b[0;34m.\u001b[0m\u001b[0mlog10\u001b[0m\u001b[0;34m(\u001b[0m\u001b[0mamp_gen_t\u001b[0m\u001b[0;34m)\u001b[0m\u001b[0;34m,\u001b[0m \u001b[0mtheta_t\u001b[0m\u001b[0;34m,\u001b[0m \u001b[0mphi_t\u001b[0m\u001b[0;34m,\u001b[0m \u001b[0mpos_t\u001b[0m\u001b[0;34m[\u001b[0m\u001b[0;36m0\u001b[0m\u001b[0;34m]\u001b[0m\u001b[0;34m,\u001b[0m \u001b[0mpos_t\u001b[0m\u001b[0;34m[\u001b[0m\u001b[0;36m1\u001b[0m\u001b[0;34m]\u001b[0m\u001b[0;34m,\u001b[0m \u001b[0mpos_t\u001b[0m\u001b[0;34m[\u001b[0m\u001b[0;36m2\u001b[0m\u001b[0;34m]\u001b[0m\u001b[0;34m,\u001b[0m \u001b[0mt0_gen_t\u001b[0m\u001b[0;34m)\u001b[0m\u001b[0;34m,\u001b[0m \u001b[0mstrict\u001b[0m\u001b[0;34m=\u001b[0m\u001b[0;32mTrue\u001b[0m\u001b[0;34m)\u001b[0m\u001b[0;34m)\u001b[0m\u001b[0;34m\u001b[0m\u001b[0;34m\u001b[0m\u001b[0m\n\u001b[0m\u001b[1;32m     31\u001b[0m         \u001b[0;31m#hessians.append(unpack_hessian(hess))\u001b[0m\u001b[0;34m\u001b[0m\u001b[0;34m\u001b[0m\u001b[0;34m\u001b[0m\u001b[0m\n\u001b[1;32m     32\u001b[0m         \u001b[0mhessians_f\u001b[0m\u001b[0;34m.\u001b[0m\u001b[0mappend\u001b[0m\u001b[0;34m(\u001b[0m\u001b[0;34m(\u001b[0m\u001b[0mjac\u001b[0m\u001b[0;34m[\u001b[0m\u001b[0mnp\u001b[0m\u001b[0;34m.\u001b[0m\u001b[0mnewaxis\u001b[0m\u001b[0;34m,\u001b[0m \u001b[0;34m:\u001b[0m\u001b[0;34m]\u001b[0m \u001b[0;34m*\u001b[0m \u001b[0mjac\u001b[0m\u001b[0;34m[\u001b[0m\u001b[0;34m:\u001b[0m\u001b[0;34m,\u001b[0m \u001b[0mnp\u001b[0m\u001b[0;34m.\u001b[0m\u001b[0mnewaxis\u001b[0m\u001b[0;34m]\u001b[0m\u001b[0;34m)\u001b[0m\u001b[0;34m.\u001b[0m\u001b[0mdetach\u001b[0m\u001b[0;34m(\u001b[0m\u001b[0;34m)\u001b[0m\u001b[0;34m.\u001b[0m\u001b[0mcpu\u001b[0m\u001b[0;34m(\u001b[0m\u001b[0;34m)\u001b[0m\u001b[0;34m.\u001b[0m\u001b[0mnumpy\u001b[0m\u001b[0;34m(\u001b[0m\u001b[0;34m)\u001b[0m\u001b[0;34m)\u001b[0m\u001b[0;34m\u001b[0m\u001b[0;34m\u001b[0m\u001b[0m\n",
      "\u001b[0;32m/opt/conda/lib/python3.7/site-packages/torch/autograd/functional.py\u001b[0m in \u001b[0;36mjacobian\u001b[0;34m(func, inputs, create_graph, strict, vectorize)\u001b[0m\n\u001b[1;32m    578\u001b[0m             \u001b[0;32mfor\u001b[0m \u001b[0mj\u001b[0m \u001b[0;32min\u001b[0m \u001b[0mrange\u001b[0m\u001b[0;34m(\u001b[0m\u001b[0mout\u001b[0m\u001b[0;34m.\u001b[0m\u001b[0mnelement\u001b[0m\u001b[0;34m(\u001b[0m\u001b[0;34m)\u001b[0m\u001b[0;34m)\u001b[0m\u001b[0;34m:\u001b[0m\u001b[0;34m\u001b[0m\u001b[0;34m\u001b[0m\u001b[0m\n\u001b[1;32m    579\u001b[0m                 vj = _autograd_grad((out.reshape(-1)[j],), inputs,\n\u001b[0;32m--> 580\u001b[0;31m                                     retain_graph=True, create_graph=create_graph)\n\u001b[0m\u001b[1;32m    581\u001b[0m \u001b[0;34m\u001b[0m\u001b[0m\n\u001b[1;32m    582\u001b[0m                 \u001b[0;32mfor\u001b[0m \u001b[0mel_idx\u001b[0m\u001b[0;34m,\u001b[0m \u001b[0;34m(\u001b[0m\u001b[0mjac_i_el\u001b[0m\u001b[0;34m,\u001b[0m \u001b[0mvj_el\u001b[0m\u001b[0;34m,\u001b[0m \u001b[0minp_el\u001b[0m\u001b[0;34m)\u001b[0m \u001b[0;32min\u001b[0m \u001b[0menumerate\u001b[0m\u001b[0;34m(\u001b[0m\u001b[0mzip\u001b[0m\u001b[0;34m(\u001b[0m\u001b[0mjac_i\u001b[0m\u001b[0;34m,\u001b[0m \u001b[0mvj\u001b[0m\u001b[0;34m,\u001b[0m \u001b[0minputs\u001b[0m\u001b[0;34m)\u001b[0m\u001b[0;34m)\u001b[0m\u001b[0;34m:\u001b[0m\u001b[0;34m\u001b[0m\u001b[0;34m\u001b[0m\u001b[0m\n",
      "\u001b[0;32m/opt/conda/lib/python3.7/site-packages/torch/autograd/functional.py\u001b[0m in \u001b[0;36m_autograd_grad\u001b[0;34m(outputs, inputs, grad_outputs, create_graph, retain_graph)\u001b[0m\n\u001b[1;32m    146\u001b[0m     \u001b[0;32melse\u001b[0m\u001b[0;34m:\u001b[0m\u001b[0;34m\u001b[0m\u001b[0;34m\u001b[0m\u001b[0m\n\u001b[1;32m    147\u001b[0m         return torch.autograd.grad(new_outputs, inputs, new_grad_outputs, allow_unused=True,\n\u001b[0;32m--> 148\u001b[0;31m                                    create_graph=create_graph, retain_graph=retain_graph)\n\u001b[0m\u001b[1;32m    149\u001b[0m \u001b[0;34m\u001b[0m\u001b[0m\n\u001b[1;32m    150\u001b[0m \u001b[0;32mdef\u001b[0m \u001b[0m_fill_in_zeros\u001b[0m\u001b[0;34m(\u001b[0m\u001b[0mgrads\u001b[0m\u001b[0;34m,\u001b[0m \u001b[0mrefs\u001b[0m\u001b[0;34m,\u001b[0m \u001b[0mstrict\u001b[0m\u001b[0;34m,\u001b[0m \u001b[0mcreate_graph\u001b[0m\u001b[0;34m,\u001b[0m \u001b[0mstage\u001b[0m\u001b[0;34m)\u001b[0m\u001b[0;34m:\u001b[0m\u001b[0;34m\u001b[0m\u001b[0;34m\u001b[0m\u001b[0m\n",
      "\u001b[0;32m/opt/conda/lib/python3.7/site-packages/torch/autograd/__init__.py\u001b[0m in \u001b[0;36mgrad\u001b[0;34m(outputs, inputs, grad_outputs, retain_graph, create_graph, only_inputs, allow_unused)\u001b[0m\n\u001b[1;32m    226\u001b[0m     return Variable._execution_engine.run_backward(\n\u001b[1;32m    227\u001b[0m         \u001b[0moutputs\u001b[0m\u001b[0;34m,\u001b[0m \u001b[0mgrad_outputs_\u001b[0m\u001b[0;34m,\u001b[0m \u001b[0mretain_graph\u001b[0m\u001b[0;34m,\u001b[0m \u001b[0mcreate_graph\u001b[0m\u001b[0;34m,\u001b[0m\u001b[0;34m\u001b[0m\u001b[0;34m\u001b[0m\u001b[0m\n\u001b[0;32m--> 228\u001b[0;31m         inputs, allow_unused, accumulate_grad=False)\n\u001b[0m\u001b[1;32m    229\u001b[0m \u001b[0;34m\u001b[0m\u001b[0m\n\u001b[1;32m    230\u001b[0m \u001b[0;34m\u001b[0m\u001b[0m\n",
      "\u001b[0;31mRuntimeError\u001b[0m: CUDA out of memory. Tried to allocate 692.00 MiB (GPU 0; 3.82 GiB total capacity; 2.07 GiB already allocated; 656.12 MiB free; 2.09 GiB reserved in total by PyTorch)"
     ]
    }
   ],
   "source": [
    "def make_wrap(event):\n",
    "    def wrap(logamp, theta, phi, pos_x, pos_y, pos_z, t0):\n",
    "        pos = torch.stack([pos_x, pos_y, pos_z])\n",
    "        res = eval_likelihood(event, 10**logamp, pos, theta, phi, t0)\n",
    "        return res\n",
    "    return wrap\n",
    "\n",
    "def unpack_hessian(hess):\n",
    "    hess_len = len(hess)\n",
    "    out = np.empty((hess_len, hess_len))\n",
    "    for i in range(len(hess)):\n",
    "        for j in range(len(hess)):\n",
    "            out[i, j] = hess[i][j].detach().cpu().numpy()\n",
    "    return out\n",
    "    \n",
    "\n",
    "    \n",
    "all_hessians = []\n",
    "hessians = []\n",
    "hessians_f = []\n",
    "\n",
    "all_n_photons_gen = np.linspace(1E8, 1E12, 50)\n",
    "for amp_gen in all_n_photons_gen:\n",
    "    amp_gen_t = torch.tensor(amp_gen, device=device, dtype=torch.float)\n",
    "    hessians_f = []\n",
    "    for seed in range(200):\n",
    "        event, record = generate_cascade(det, pos, t0_gen, cdir, n_photons=amp_gen, pprop_func=gen_ph)\n",
    "        wrap = make_wrap(event)\n",
    "        #hess = hessian(wrap, (torch.log10(amp_gen_t), theta_t, phi_t, pos_t[0], pos_t[1], pos_t[2], t0_gen_t), strict=True)\n",
    "        jac = torch.stack(jacobian(wrap, (torch.log10(amp_gen_t), theta_t, phi_t, pos_t[0], pos_t[1], pos_t[2], t0_gen_t), strict=True))\n",
    "        #hessians.append(unpack_hessian(hess))\n",
    "        hessians_f.append((jac[np.newaxis, :] * jac[:, np.newaxis]).detach().cpu().numpy())\n",
    "    all_hessians.append(hessians_f)\n",
    "\n",
    "   \n",
    "    \n"
   ]
  },
  {
   "cell_type": "code",
   "execution_count": 550,
   "id": "c40c9375-33ba-4abd-9f8a-466f10515183",
   "metadata": {},
   "outputs": [],
   "source": [
    "hess_m = np.average(hessians, axis=0)\n",
    "hess_mf = np.average(hessians_f, axis=0)"
   ]
  },
  {
   "cell_type": "code",
   "execution_count": 551,
   "id": "06ddd1fa-1788-4000-a5bd-9db12de74291",
   "metadata": {},
   "outputs": [
    {
     "data": {
      "text/plain": [
       "array([0.01182786, 0.01607182, 0.02285083, 0.19836146, 0.14107321,\n",
       "       0.33902225, 1.0296952 ], dtype=float32)"
      ]
     },
     "execution_count": 551,
     "metadata": {},
     "output_type": "execute_result"
    }
   ],
   "source": [
    "np.sqrt(np.diag(np.linalg.inv(hess_mf)))"
   ]
  },
  {
   "cell_type": "code",
   "execution_count": 552,
   "id": "4c70474f-0db4-4562-9b6e-26af3122a56e",
   "metadata": {},
   "outputs": [
    {
     "data": {
      "text/plain": [
       "0.9208471"
      ]
     },
     "execution_count": 552,
     "metadata": {},
     "output_type": "execute_result"
    }
   ],
   "source": [
    "np.degrees(np.sqrt(np.linalg.inv(hess_mf)[1, 1]))"
   ]
  },
  {
   "cell_type": "code",
   "execution_count": 553,
   "id": "ba384b33-6d22-4d66-b56c-39575ca3161b",
   "metadata": {},
   "outputs": [
    {
     "data": {
      "text/plain": [
       "1.3092561"
      ]
     },
     "execution_count": 553,
     "metadata": {},
     "output_type": "execute_result"
    }
   ],
   "source": [
    "np.degrees(np.sqrt(np.linalg.inv(hess_mf)[2, 2]))"
   ]
  },
  {
   "cell_type": "code",
   "execution_count": 449,
   "id": "4554fde6-66ec-489f-8514-ee2c00570d7f",
   "metadata": {},
   "outputs": [
    {
     "name": "stderr",
     "output_type": "stream",
     "text": [
      "/opt/conda/lib/python3.7/site-packages/ipykernel_launcher.py:1: RuntimeWarning: invalid value encountered in sqrt\n",
      "  \"\"\"Entry point for launching an IPython kernel.\n"
     ]
    },
    {
     "data": {
      "text/plain": [
       "nan"
      ]
     },
     "execution_count": 449,
     "metadata": {},
     "output_type": "execute_result"
    }
   ],
   "source": [
    "np.degrees(np.sqrt(np.linalg.inv(-hess_m)[2, 2]))"
   ]
  },
  {
   "cell_type": "code",
   "execution_count": 339,
   "id": "af4af04f-2770-4d21-80a9-685efdf60582",
   "metadata": {},
   "outputs": [
    {
     "ename": "TypeError",
     "evalue": "source_to_model_input() missing 2 required positional arguments: 'c_vac' and 'n_gr'",
     "output_type": "error",
     "traceback": [
      "\u001b[0;31m---------------------------------------------------------------------------\u001b[0m",
      "\u001b[0;31mTypeError\u001b[0m                                 Traceback (most recent call last)",
      "\u001b[0;32m/tmp/ipykernel_139/3734230258.py\u001b[0m in \u001b[0;36m<module>\u001b[0;34m\u001b[0m\n\u001b[0;32m----> 1\u001b[0;31m \u001b[0mmodel_in\u001b[0m \u001b[0;34m=\u001b[0m \u001b[0msource_to_model_input\u001b[0m\u001b[0;34m(\u001b[0m\u001b[0mdet\u001b[0m\u001b[0;34m.\u001b[0m\u001b[0mmodule_coords\u001b[0m\u001b[0;34m,\u001b[0m \u001b[0;34m[\u001b[0m\u001b[0mphsrc\u001b[0m\u001b[0;34m]\u001b[0m\u001b[0;34m)\u001b[0m\u001b[0;34m\u001b[0m\u001b[0;34m\u001b[0m\u001b[0m\n\u001b[0m\u001b[1;32m      2\u001b[0m \u001b[0;34m\u001b[0m\u001b[0m\n\u001b[1;32m      3\u001b[0m \u001b[0mxs\u001b[0m \u001b[0;34m=\u001b[0m \u001b[0mnp\u001b[0m\u001b[0;34m.\u001b[0m\u001b[0mlinspace\u001b[0m\u001b[0;34m(\u001b[0m\u001b[0;36m0\u001b[0m\u001b[0;34m,\u001b[0m \u001b[0;36m100\u001b[0m\u001b[0;34m,\u001b[0m \u001b[0;36m1000\u001b[0m\u001b[0;34m)\u001b[0m\u001b[0;34m\u001b[0m\u001b[0;34m\u001b[0m\u001b[0m\n\u001b[1;32m      4\u001b[0m \u001b[0mxs_t\u001b[0m \u001b[0;34m=\u001b[0m \u001b[0mtorch\u001b[0m\u001b[0;34m.\u001b[0m\u001b[0mtensor\u001b[0m\u001b[0;34m(\u001b[0m\u001b[0mxs\u001b[0m\u001b[0;34m,\u001b[0m \u001b[0mdevice\u001b[0m\u001b[0;34m=\u001b[0m\u001b[0mdevice\u001b[0m\u001b[0;34m,\u001b[0m \u001b[0mdtype\u001b[0m\u001b[0;34m=\u001b[0m\u001b[0mtorch\u001b[0m\u001b[0;34m.\u001b[0m\u001b[0mfloat\u001b[0m\u001b[0;34m)\u001b[0m\u001b[0;34m\u001b[0m\u001b[0;34m\u001b[0m\u001b[0m\n\u001b[1;32m      5\u001b[0m \u001b[0;34m\u001b[0m\u001b[0m\n",
      "\u001b[0;31mTypeError\u001b[0m: source_to_model_input() missing 2 required positional arguments: 'c_vac' and 'n_gr'"
     ]
    }
   ],
   "source": [
    "\n",
    "model_in = source_to_model_input(det.module_coords, [phsrc])\n",
    "\n",
    "xs = np.linspace(0, 100, 1000)\n",
    "xs_t = torch.tensor(xs, device=device, dtype=torch.float)\n",
    "\n",
    "plt.plot(xs, torch.exp(uniform_triple_exp(xs_t, pdf_params)[:, 30]).detach().cpu(), color=\"r\")\n",
    "\n",
    "#times = \n",
    "#sns.histplot(times, bins = np.linspace(0, 100, 100), stat=\"density\")\n",
    "#plt.semilogy()\n"
   ]
  },
  {
   "cell_type": "code",
   "execution_count": null,
   "id": "ac472e0f-6d3f-4ae6-80b8-67335bffc876",
   "metadata": {},
   "outputs": [],
   "source": []
  },
  {
   "cell_type": "code",
   "execution_count": 58,
   "id": "58185f53-8388-4305-9790-941427b6efc7",
   "metadata": {},
   "outputs": [
    {
     "data": {
      "image/png": "[encoded data removed]",
      "text/plain": [
       "<Figure size 432x288 with 1 Axes>"
      ]
     },
     "metadata": {
      "needs_background": "light"
     },
     "output_type": "display_data"
    }
   ],
   "source": [
    "thetas = torch.linspace(np.radians(0), np.radians(30), 180)\n",
    "for theta in thetas:\n",
    "    plt.plot(np.degrees(theta.cpu().detach()), eval_dist(event2, 0.3*1E9, pos, theta, phi).cpu().detach(), \"ok\")\n"
   ]
  },
  {
   "cell_type": "code",
   "execution_count": 7,
   "id": "c6982636-7e37-412a-bb19-d809106c9679",
   "metadata": {},
   "outputs": [],
   "source": []
  },
  {
   "cell_type": "code",
   "execution_count": 32,
   "id": "5805eac4-2dec-4f0c-a883-505f37f2b39a",
   "metadata": {},
   "outputs": [],
   "source": [
    "def wrap(theta, phi):        \n",
    "    return eval_dist(event, 1E6, pos, theta, phi)\n",
    "\n",
    "theta = torch.tensor(20., device=device)#\n",
    "phi = torch.tensor(0., device=device)\n",
    "hess = hessian(wrap, (theta, phi), strict=True)"
   ]
  },
  {
   "cell_type": "code",
   "execution_count": 33,
   "id": "af54b89d-2c85-4b65-9fb1-a9e88fdcbd65",
   "metadata": {},
   "outputs": [
    {
     "data": {
      "text/plain": [
       "((tensor(-3.4984, device='cuda:0'), tensor(1.6891, device='cuda:0')),\n",
       " (tensor(1.6891, device='cuda:0'), tensor(2.5304, device='cuda:0')))"
      ]
     },
     "execution_count": 33,
     "metadata": {},
     "output_type": "execute_result"
    }
   ],
   "source": [
    "hess"
   ]
  },
  {
   "cell_type": "code",
   "execution_count": 24,
   "id": "43cf9dab-cd19-4abb-a725-3a389d37ba14",
   "metadata": {},
   "outputs": [
    {
     "data": {
      "text/plain": [
       "((tensor(0., device='cuda:0'), tensor(0., device='cuda:0')),\n",
       " (tensor(0., device='cuda:0'), tensor(0., device='cuda:0')))"
      ]
     },
     "execution_count": 24,
     "metadata": {},
     "output_type": "execute_result"
    }
   ],
   "source": [
    "\n",
    "hessian(lambda theta, phi: net(source_to_model_input(module_positions, pos, sph_to_cart(theta, phi))).reshape(module_positions.shape[0], 7).sum(), (theta, phi))"
   ]
  },
  {
   "cell_type": "code",
   "execution_count": 228,
   "id": "41e796b3-07fc-4689-8462-a99ea758f00d",
   "metadata": {},
   "outputs": [
    {
     "ename": "IndexError",
     "evalue": "too many indices for tensor of dimension 1",
     "output_type": "error",
     "traceback": [
      "\u001b[0;31m---------------------------------------------------------------------------\u001b[0m",
      "\u001b[0;31mIndexError\u001b[0m                                Traceback (most recent call last)",
      "\u001b[0;32m/tmp/ipykernel_449/3315566254.py\u001b[0m in \u001b[0;36m<module>\u001b[0;34m\u001b[0m\n\u001b[1;32m      1\u001b[0m \u001b[0mxs\u001b[0m \u001b[0;34m=\u001b[0m \u001b[0mtorch\u001b[0m\u001b[0;34m.\u001b[0m\u001b[0mlinspace\u001b[0m\u001b[0;34m(\u001b[0m\u001b[0;36m0\u001b[0m\u001b[0;34m,\u001b[0m \u001b[0;36m200\u001b[0m\u001b[0;34m,\u001b[0m \u001b[0;36m1000\u001b[0m\u001b[0;34m,\u001b[0m \u001b[0mdevice\u001b[0m\u001b[0;34m=\u001b[0m\u001b[0mdevice\u001b[0m\u001b[0;34m)\u001b[0m\u001b[0;34m\u001b[0m\u001b[0;34m\u001b[0m\u001b[0m\n\u001b[0;32m----> 2\u001b[0;31m \u001b[0mplt\u001b[0m\u001b[0;34m.\u001b[0m\u001b[0mplot\u001b[0m\u001b[0;34m(\u001b[0m\u001b[0mxs\u001b[0m\u001b[0;34m.\u001b[0m\u001b[0mdetach\u001b[0m\u001b[0;34m(\u001b[0m\u001b[0;34m)\u001b[0m\u001b[0;34m.\u001b[0m\u001b[0mcpu\u001b[0m\u001b[0;34m(\u001b[0m\u001b[0;34m)\u001b[0m\u001b[0;34m,\u001b[0m \u001b[0muniform_triple_exp\u001b[0m\u001b[0;34m(\u001b[0m\u001b[0mxs\u001b[0m\u001b[0;34m,\u001b[0m \u001b[0mpdf_params\u001b[0m\u001b[0;34m[\u001b[0m\u001b[0;36m10\u001b[0m\u001b[0;34m,\u001b[0m \u001b[0;34m:\u001b[0m\u001b[0;34m-\u001b[0m\u001b[0;36m1\u001b[0m\u001b[0;34m]\u001b[0m\u001b[0;34m)\u001b[0m\u001b[0;34m.\u001b[0m\u001b[0mdetach\u001b[0m\u001b[0;34m(\u001b[0m\u001b[0;34m)\u001b[0m\u001b[0;34m.\u001b[0m\u001b[0mcpu\u001b[0m\u001b[0;34m(\u001b[0m\u001b[0;34m)\u001b[0m\u001b[0;34m)\u001b[0m\u001b[0;34m\u001b[0m\u001b[0;34m\u001b[0m\u001b[0m\n\u001b[0m\u001b[1;32m      3\u001b[0m \u001b[0mplt\u001b[0m\u001b[0;34m.\u001b[0m\u001b[0mplot\u001b[0m\u001b[0;34m(\u001b[0m\u001b[0mxs\u001b[0m\u001b[0;34m.\u001b[0m\u001b[0mdetach\u001b[0m\u001b[0;34m(\u001b[0m\u001b[0;34m)\u001b[0m\u001b[0;34m.\u001b[0m\u001b[0mcpu\u001b[0m\u001b[0;34m(\u001b[0m\u001b[0;34m)\u001b[0m\u001b[0;34m,\u001b[0m \u001b[0muniform_triple_exp\u001b[0m\u001b[0;34m(\u001b[0m\u001b[0mxs\u001b[0m\u001b[0;34m,\u001b[0m \u001b[0mpdf_params2\u001b[0m\u001b[0;34m[\u001b[0m\u001b[0;36m10\u001b[0m\u001b[0;34m,\u001b[0m \u001b[0;34m:\u001b[0m\u001b[0;34m-\u001b[0m\u001b[0;36m1\u001b[0m\u001b[0;34m]\u001b[0m\u001b[0;34m)\u001b[0m\u001b[0;34m.\u001b[0m\u001b[0mdetach\u001b[0m\u001b[0;34m(\u001b[0m\u001b[0;34m)\u001b[0m\u001b[0;34m.\u001b[0m\u001b[0mcpu\u001b[0m\u001b[0;34m(\u001b[0m\u001b[0;34m)\u001b[0m\u001b[0;34m)\u001b[0m\u001b[0;34m\u001b[0m\u001b[0;34m\u001b[0m\u001b[0m\n\u001b[1;32m      4\u001b[0m \u001b[0;31m#plt.semilogy()\u001b[0m\u001b[0;34m\u001b[0m\u001b[0;34m\u001b[0m\u001b[0;34m\u001b[0m\u001b[0m\n",
      "\u001b[0;32m/tmp/ipykernel_449/491382807.py\u001b[0m in \u001b[0;36muniform_triple_exp\u001b[0;34m(xs, parameters)\u001b[0m\n\u001b[1;32m     49\u001b[0m \u001b[0;34m\u001b[0m\u001b[0m\n\u001b[1;32m     50\u001b[0m \u001b[0;32mdef\u001b[0m \u001b[0muniform_triple_exp\u001b[0m\u001b[0;34m(\u001b[0m\u001b[0mxs\u001b[0m\u001b[0;34m,\u001b[0m \u001b[0mparameters\u001b[0m\u001b[0;34m)\u001b[0m\u001b[0;34m:\u001b[0m\u001b[0;34m\u001b[0m\u001b[0;34m\u001b[0m\u001b[0m\n\u001b[0;32m---> 51\u001b[0;31m     \u001b[0mlog_usf\u001b[0m \u001b[0;34m=\u001b[0m \u001b[0mparameters\u001b[0m\u001b[0;34m[\u001b[0m\u001b[0;34m:\u001b[0m\u001b[0;34m,\u001b[0m \u001b[0;34m-\u001b[0m\u001b[0;36m2\u001b[0m\u001b[0;34m]\u001b[0m\u001b[0;34m\u001b[0m\u001b[0;34m\u001b[0m\u001b[0m\n\u001b[0m\u001b[1;32m     52\u001b[0m     \u001b[0musf\u001b[0m \u001b[0;34m=\u001b[0m \u001b[0;36m1\u001b[0m \u001b[0;34m-\u001b[0m \u001b[0;36m10\u001b[0m \u001b[0;34m**\u001b[0m \u001b[0;34m(\u001b[0m\u001b[0;34m-\u001b[0m\u001b[0mlog_usf\u001b[0m\u001b[0;34m)\u001b[0m\u001b[0;34m\u001b[0m\u001b[0;34m\u001b[0m\u001b[0m\n\u001b[1;32m     53\u001b[0m     \u001b[0mout\u001b[0m \u001b[0;34m=\u001b[0m \u001b[0mtorch\u001b[0m\u001b[0;34m.\u001b[0m\u001b[0mempty\u001b[0m\u001b[0;34m(\u001b[0m\u001b[0;34m(\u001b[0m\u001b[0mxs\u001b[0m\u001b[0;34m.\u001b[0m\u001b[0mshape\u001b[0m\u001b[0;34m[\u001b[0m\u001b[0;36m0\u001b[0m\u001b[0;34m]\u001b[0m\u001b[0;34m,\u001b[0m \u001b[0mparameters\u001b[0m\u001b[0;34m.\u001b[0m\u001b[0mshape\u001b[0m\u001b[0;34m[\u001b[0m\u001b[0;36m0\u001b[0m\u001b[0;34m]\u001b[0m\u001b[0;34m)\u001b[0m\u001b[0;34m,\u001b[0m \u001b[0mdevice\u001b[0m\u001b[0;34m=\u001b[0m\u001b[0mdevice\u001b[0m\u001b[0;34m)\u001b[0m\u001b[0;34m\u001b[0m\u001b[0;34m\u001b[0m\u001b[0m\n",
      "\u001b[0;31mIndexError\u001b[0m: too many indices for tensor of dimension 1"
     ]
    }
   ],
   "source": [
    "xs = torch.linspace(0, 200, 1000, device=device)\n",
    "plt.plot(xs.detach().cpu(), uniform_triple_exp(xs, pdf_params[10, :-1]).detach().cpu())\n",
    "plt.plot(xs.detach().cpu(), uniform_triple_exp(xs, pdf_params2[10, :-1]).detach().cpu())\n",
    "#plt.semilogy()"
   ]
  },
  {
   "cell_type": "code",
   "execution_count": 200,
   "id": "18f3c85d-227e-4ccd-abb2-06d0ddf1727b",
   "metadata": {},
   "outputs": [
    {
     "data": {
      "text/plain": [
       "[<matplotlib.lines.Line2D at 0x7fcc104dbb10>]"
      ]
     },
     "execution_count": 200,
     "metadata": {},
     "output_type": "execute_result"
    },
    {
     "data": {
      "image/png": "[encoded data removed]",
      "text/plain": [
       "<Figure size 432x288 with 1 Axes>"
      ]
     },
     "metadata": {
      "needs_background": "light"
     },
     "output_type": "display_data"
    }
   ],
   "source": [
    "xs = torch.linspace(0, 200, 1000, device=device)\n",
    "plt.plot(xs.detach().cpu(), poisson_utr_exp(1E5, xs, *pdf_params[10, ]).detach().cpu())\n",
    "plt.plot(xs.detach().cpu(), poisson_utr_exp(1E5, xs, *pdf_params2[10, ]).detach().cpu())\n",
    "#plt.semilogy()"
   ]
  },
  {
   "cell_type": "code",
   "execution_count": 139,
   "id": "bdd786a7-0d5c-4c19-b6f7-0360a2e732e2",
   "metadata": {},
   "outputs": [
    {
     "data": {
      "text/plain": [
       "tensor(0.0153, device='cuda:0', grad_fn=<RsubBackward1>)"
      ]
     },
     "execution_count": 139,
     "metadata": {},
     "output_type": "execute_result"
    }
   ],
   "source": [
    "torch.autograd.functional.hessian"
   ]
  },
  {
   "cell_type": "code",
   "execution_count": 126,
   "id": "52fa6cfa-595c-41ba-a352-37136bad4a7f",
   "metadata": {},
   "outputs": [
    {
     "data": {
      "text/plain": [
       "tensor([ 0.1407,  0.4384,  0.7594,  0.7884,  0.6862,  0.0066, -6.5473],\n",
       "       device='cuda:0', grad_fn=<SelectBackward>)"
      ]
     },
     "execution_count": 126,
     "metadata": {},
     "output_type": "execute_result"
    }
   ],
   "source": [
    "pdf_params2[0]"
   ]
  },
  {
   "cell_type": "code",
   "execution_count": 179,
   "id": "4d16a30c-3a11-499b-b3bf-93d598b11a29",
   "metadata": {},
   "outputs": [
    {
     "data": {
      "text/plain": [
       "[<matplotlib.lines.Line2D at 0x7fcc104c4f10>]"
      ]
     },
     "execution_count": 179,
     "metadata": {},
     "output_type": "execute_result"
    },
    {
     "data": {
      "image/png": "[encoded data removed]",
      "text/plain": [
       "<Figure size 432x288 with 1 Axes>"
      ]
     },
     "metadata": {
      "needs_background": "light"
     },
     "output_type": "display_data"
    }
   ],
   "source": [
    "xs = np.linspace(0, 300, 1000)\n",
    "plt.plot(xs[xs > 20], 0.9 * 1/100 * np.exp((-(xs[xs > 20]-20) / 100)))\n",
    "plt.plot(xs[xs < 20], 0.1 * 1/20*np.ones((xs < 20).sum()))"
   ]
  },
  {
   "cell_type": "code",
   "execution_count": 180,
   "id": "f7f62c59-fada-47a4-8692-95dadc8cb139",
   "metadata": {},
   "outputs": [],
   "source": [
    "def func(xs):\n",
    "    xs = np.atleast_1d(xs)\n",
    "    out = np.empty_like(xs)\n",
    "    out[xs > 20] = 0.9 * 1/100 * np.exp((-(xs[xs > 20]-20)) / 100)\n",
    "    out[xs <= 20] = 0.1 * 1/20*np.ones((xs <= 20).sum())\n",
    "    return out"
   ]
  },
  {
   "cell_type": "code",
   "execution_count": 181,
   "id": "6ef3d8a6-77e9-4dab-9e28-bf6e9434eb4a",
   "metadata": {},
   "outputs": [],
   "source": [
    "from scipy.integrate import quad"
   ]
  },
  {
   "cell_type": "code",
   "execution_count": 183,
   "id": "b7bd888b-3367-4bda-beb7-5016cd6a6fa0",
   "metadata": {},
   "outputs": [
    {
     "data": {
      "text/plain": [
       "(0.9999500936055827, 1.4619977228846892e-08)"
      ]
     },
     "execution_count": 183,
     "metadata": {},
     "output_type": "execute_result"
    }
   ],
   "source": [
    "quad(func, 0, 1000)"
   ]
  },
  {
   "cell_type": "code",
   "execution_count": 178,
   "id": "ce42b69f-a5d2-4825-8eb4-c50804db939f",
   "metadata": {},
   "outputs": [
    {
     "data": {
      "text/plain": [
       "(0.8143128162955776, 1.7995457225188243e-14)"
      ]
     },
     "execution_count": 178,
     "metadata": {},
     "output_type": "execute_result"
    }
   ],
   "source": [
    "quad(lambda xs: 0.9 * 1/100 * np.exp((-xs / 100)), 10, 1000)"
   ]
  },
  {
   "cell_type": "code",
   "execution_count": null,
   "id": "6602915d-49d9-4d89-8fa8-da98a02e0c22",
   "metadata": {},
   "outputs": [],
   "source": []
  }
 ],
 "metadata": {
  "kernelspec": {
   "display_name": "Python 3 (ipykernel)",
   "language": "python",
   "name": "python3"
  },
  "language_info": {
   "codemirror_mode": {
    "name": "ipython",
    "version": 3
   },
   "file_extension": ".py",
   "mimetype": "text/x-python",
   "name": "python",
   "nbconvert_exporter": "python",
   "pygments_lexer": "ipython3",
   "version": "3.7.10"
  }
 },
 "nbformat": 4,
 "nbformat_minor": 5
}
