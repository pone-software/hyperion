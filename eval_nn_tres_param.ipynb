{
 "cells": [
  {
   "cell_type": "code",
   "execution_count": 81,
   "id": "fb39d67c-145a-411e-875b-85425d96fb39",
   "metadata": {},
   "outputs": [],
   "source": [
    "from jax.config import config\n",
    "config.update(\"jax_enable_x64\", True)\n",
    "\n",
    "import numpy as np\n",
    "import matplotlib.pyplot as plt\n",
    "import seaborn as sns\n",
    "import matplotlib as mpl\n",
    "\n",
    "import pickle\n",
    "import scipy.optimize\n",
    "from hyperion.utils import cherenkov_ang_dist, ANG_DIST_INT\n",
    "from tqdm.notebook import trange, tqdm\n",
    "import torch\n",
    "import torch.nn as nn\n",
    "import torch.nn.functional as F\n",
    "\n",
    "if torch.cuda.is_available():\n",
    "    device = torch.device(\"cuda\")\n",
    "else:\n",
    "    device = torch.device(\"cpu\")\n",
    "\n",
    "import sys\n",
    "sys.path.append(\"../gnn_testbed\")\n",
    "from gnn_testbed.event_generation import (\n",
    "    Detector,\n",
    "    make_line,\n",
    ")\n",
    "from gnn_testbed.event_generation.photon_propagation import make_generate_photons_nn, source_to_model_input, PhotonSource\n",
    "from gnn_testbed.event_generation import generate_cascade\n",
    "from hyperion.models.photon_arrival_time.net import PhotonArivalTimePars\n",
    "from hyperion.models.photon_arrival_time.pdf import make_exp_exp_exp, sample_exp_exp_exp\n",
    "\n",
    "%matplotlib inline\n",
    "\n",
    "\n",
    "from jax import numpy as jnp\n",
    "from jax import value_and_grad, jit\n",
    "import pandas as pd\n",
    "from glob import glob\n",
    "\n",
    "import awkward as ak\n",
    "from torch.autograd.functional import hessian, jacobian"
   ]
  },
  {
   "cell_type": "code",
   "execution_count": 2,
   "id": "8e8eb8ca-4271-453c-aec8-5bd37553f8a2",
   "metadata": {},
   "outputs": [],
   "source": [
    "rng = np.random.RandomState(31338)\n",
    "oms_per_line = 20\n",
    "dist_z = 50\n",
    "dark_noise_rate = 16 * 1E-6 # 1/ns\n",
    "\n",
    "modules = make_line(0, 0, oms_per_line, dist_z, rng, dark_noise_rate, 0, efficiency=0.3)\n",
    "modules += make_line(0, 50, oms_per_line, dist_z, rng, dark_noise_rate, 0, efficiency=0.3)\n",
    "det = Detector(modules)\n",
    "\n",
    "\n",
    "lc_links = {}\n",
    "for i in range(60):\n",
    "  \n",
    "    links = list(range(max(i-1, (i//20)*20), min(i+2, (i//20+1)*20)))\n",
    "    links.remove(i)\n",
    "    lc_links[i] = links\n",
    "\n",
    "height = 1500\n",
    "radius = 200\n"
   ]
  },
  {
   "cell_type": "code",
   "execution_count": 59,
   "id": "a0eae685-3ee9-4927-874b-bc78b0c4d09e",
   "metadata": {},
   "outputs": [],
   "source": [
    "def sph_to_cart(theta, phi=0):\n",
    "    \"\"\"Transform spherical to cartesian coordinates.\"\"\"\n",
    "    x = torch.sin(theta) * torch.cos(phi)\n",
    "    y = torch.sin(theta) * torch.sin(phi)\n",
    "    z = torch.cos(theta)\n",
    "    \n",
    "    out = torch.empty(3, device=device, dtype=torch.float)\n",
    "    out[0] = x\n",
    "    out[1] = y\n",
    "    out[2] = z\n",
    "    \n",
    "    return out\n",
    "\n",
    "def sph_to_cart_np(theta, phi=0, r=1):\n",
    "    \"\"\"Transform spherical to cartesian coordinates.\"\"\"\n",
    "    x = np.sin(theta) * np.cos(phi)\n",
    "    y = np.sin(theta) * np.sin(phi)\n",
    "    z = np.cos(theta)\n",
    "\n",
    "    return np.asarray([x, y, z])\n"
   ]
  },
  {
   "cell_type": "code",
   "execution_count": 71,
   "id": "69e8e658-be39-42d2-9324-67fe74f62c8b",
   "metadata": {},
   "outputs": [],
   "source": [
    "def source_to_model_input_torch(module_coords, source_pos, source_dir):\n",
    "    \"\"\"Convert photon sources an module coordinates into neural net input.\"\"\"\n",
    "\n",
    "    source_targ_vec = module_coords - source_pos\n",
    "    dist = torch.linalg.norm(source_targ_vec, dim=-1)\n",
    "    angles = torch.arccos(torch.einsum(\"ak, k -> a\", source_targ_vec, source_dir) / dist)\n",
    "\n",
    "    inp_pars = torch.stack([angles, torch.log10(dist)], axis=1)\n",
    "    return inp_pars\n",
    "\n",
    "\n",
    "def expon_pdf(x, a):\n",
    "    \"\"\"Exponential PDF.\"\"\"\n",
    "    return 1 / a * torch.exp(-x[:, np.newaxis] / a)\n",
    "\n",
    "def triple_exp(xs, parameters):\n",
    "    \n",
    "    scales = parameters[:, 0:3] * 100\n",
    "    scales, indices = torch.sort(scales, dim=1)\n",
    "\n",
    "    w1 = parameters[:, 3]\n",
    "    w2 = parameters[:, 4]\n",
    "    weights = torch.empty((parameters.shape[0], 3), device=device)\n",
    "    weights[:, 0] = torch.sin(w1) * torch.cos(w2)\n",
    "    weights[:, 1] = torch.sin(w1) * torch.sin(w2)\n",
    "    weights[:, 2] = torch.cos(w1)\n",
    "    weights = weights**2\n",
    "\n",
    "    res = torch.log(\n",
    "        weights[:, 0] * expon_pdf(xs, scales[:, 0])\n",
    "        + weights[:, 1] * expon_pdf(xs, scales[:, 1])\n",
    "        + weights[:, 2] * expon_pdf(xs, scales[:, 2])\n",
    "    )\n",
    "\n",
    "    return res\n",
    "\n",
    "\n",
    "def uniform_triple_exp(xs, parameters):\n",
    "    log_usf = parameters[:, -2]\n",
    "    usf = 1 - 10 ** (-log_usf)\n",
    "    out = torch.empty((xs.shape[0], parameters.shape[0]), device=device)\n",
    "    out[xs < 2] = torch.log(usf * 1/2)\n",
    "    out[xs >=2] = torch.log(1-usf) +triple_exp(xs[xs >=2]+2, parameters[:, :-2])\n",
    "    return out\n",
    "\n",
    "def poisson_utr_exp(times, amp_meas, amp_exp, parameters):\n",
    "    log_nph = parameters[:, -1]\n",
    "    surv_ratio = 10 ** log_nph / 300e7 \n",
    "    n_ph_exp = amp_exp * surv_ratio   \n",
    "    log_poisson_factor = amp_meas * torch.log(n_ph_exp) - n_ph_exp\n",
    "    \n",
    "    return log_poisson_factor, uniform_triple_exp(times, parameters)\n",
    "\n",
    "\n",
    "module_positions = torch.tensor(det.module_coords, dtype=torch.float, device=device)\n",
    "net = torch.load(\"data/arival_time_pars_net.dat\")\n",
    "net.to(\"cuda\")\n",
    "\n",
    "\n",
    "def eval_dist(times, amp_meas, amp_exp, pos, theta, phi, module_ix):\n",
    "    cdir = sph_to_cart(theta, phi)\n",
    "    model_in = source_to_model_input_torch(module_positions, pos, cdir)\n",
    "    pdf_params = net(model_in).reshape(module_positions.shape[0], 7)\n",
    "    \n",
    "    pdf_eval = poisson_utr_exp(times, amp_meas, amp_exp, pdf_params[module_ix][np.newaxis, :])\n",
    "    return pdf_eval\n",
    "    \n",
    "\n",
    "def eval_likelihood(event, amp, pos, theta, phi):\n",
    "   \n",
    "    cdir = sph_to_cart(theta, phi)\n",
    "    model_in = source_to_model_input_torch(module_positions, pos, cdir)\n",
    "    pdf_params = net(model_in).reshape(module_positions.shape[0], 7)\n",
    "    \n",
    "    likelihood = 0\n",
    "    for i, times in enumerate(event):\n",
    "        times = torch.tensor(times, device=device, dtype=torch.float)\n",
    "        \n",
    "        poisson_f, shape_f = poisson_utr_exp(times, amp, pdf_params[i][np.newaxis, :])\n",
    "        \n",
    "        likelihood += poisson_f + shape_f.sum()\n",
    "    \n",
    "    return likelihood\n",
    "    \n",
    "    \n",
    "    "
   ]
  },
  {
   "cell_type": "code",
   "execution_count": 115,
   "id": "b133a89a-e1b6-4bf1-ad2e-23fde449987d",
   "metadata": {},
   "outputs": [],
   "source": [
    "theta = np.radians(5)\n",
    "theta2 = np.radians(20)\n",
    "phi = 0\n",
    "cdir = sph_to_cart_np(theta, phi)\n",
    "cdir2 = sph_to_cart_np(theta2, phi)\n",
    "pos = np.asarray([30., 40, 0])\n",
    "\n",
    "amp = 1E10\n",
    "\n",
    "gen_ph = make_generate_photons_nn(\"../hyperion/data/arival_time_pars_net.dat\")\n",
    "phsrc = PhotonSource(pos, amp, 0, cdir)\n",
    "samples = gen_ph(det.module_coords, det.module_efficiencies, [phsrc])[30]\n",
    "\n",
    "theta_t = torch.tensor(theta, device=device, dtype=torch.float)\n",
    "theta2_t = torch.tensor(theta, device=device, dtype=torch.float)\n",
    "phi_t = torch.tensor(phi, device=device, dtype=torch.float)\n",
    "pos_t = torch.tensor(pos, device=device, dtype=torch.float)\n",
    "\n",
    "xs = np.linspace(0, 500, 500)\n",
    "\n",
    "#event, record = generate_cascade(det, pos, 0., cdir, n_photons=1E8,  pprop_func=gen_ph)\n",
    "#event2, record2 = generate_cascade(det, pos, 0., cdir2, n_photons=1E9,  pprop_func=gen_ph)"
   ]
  },
  {
   "cell_type": "code",
   "execution_count": 140,
   "id": "a685901f-8785-4b99-9fe2-a2c91c606ad5",
   "metadata": {},
   "outputs": [
    {
     "ename": "RuntimeError",
     "evalue": "CUDA error: unspecified launch failure\nCUDA kernel errors might be asynchronously reported at some other API call,so the stacktrace below might be incorrect.\nFor debugging consider passing CUDA_LAUNCH_BLOCKING=1.",
     "output_type": "error",
     "traceback": [
      "\u001b[0;31m---------------------------------------------------------------------------\u001b[0m",
      "\u001b[0;31mRuntimeError\u001b[0m                              Traceback (most recent call last)",
      "\u001b[0;32m/tmp/ipykernel_91/2329041410.py\u001b[0m in \u001b[0;36m<module>\u001b[0;34m\u001b[0m\n\u001b[0;32m----> 1\u001b[0;31m \u001b[0mxs_t\u001b[0m \u001b[0;34m=\u001b[0m \u001b[0mtorch\u001b[0m\u001b[0;34m.\u001b[0m\u001b[0mtensor\u001b[0m\u001b[0;34m(\u001b[0m\u001b[0mxs\u001b[0m\u001b[0;34m,\u001b[0m \u001b[0mdevice\u001b[0m\u001b[0;34m=\u001b[0m\u001b[0mdevice\u001b[0m\u001b[0;34m,\u001b[0m \u001b[0mdtype\u001b[0m\u001b[0;34m=\u001b[0m\u001b[0mtorch\u001b[0m\u001b[0;34m.\u001b[0m\u001b[0mfloat\u001b[0m\u001b[0;34m)\u001b[0m\u001b[0;34m\u001b[0m\u001b[0;34m\u001b[0m\u001b[0m\n\u001b[0m\u001b[1;32m      2\u001b[0m \u001b[0mpoiss\u001b[0m\u001b[0;34m,\u001b[0m \u001b[0mshape\u001b[0m \u001b[0;34m=\u001b[0m \u001b[0meval_dist\u001b[0m\u001b[0;34m(\u001b[0m\u001b[0mxs_t\u001b[0m\u001b[0;34m,\u001b[0m \u001b[0mamp\u001b[0m\u001b[0;34m,\u001b[0m \u001b[0mpos_t\u001b[0m\u001b[0;34m,\u001b[0m \u001b[0mtheta_t\u001b[0m\u001b[0;34m,\u001b[0m \u001b[0mphi_t\u001b[0m\u001b[0;34m,\u001b[0m \u001b[0;36m30\u001b[0m\u001b[0;34m)\u001b[0m\u001b[0;34m\u001b[0m\u001b[0;34m\u001b[0m\u001b[0m\n\u001b[1;32m      3\u001b[0m \u001b[0mpdf_val\u001b[0m \u001b[0;34m=\u001b[0m \u001b[0mpoiss\u001b[0m \u001b[0;34m+\u001b[0m \u001b[0mshape\u001b[0m\u001b[0;34m\u001b[0m\u001b[0;34m\u001b[0m\u001b[0m\n\u001b[1;32m      4\u001b[0m \u001b[0mplt\u001b[0m\u001b[0;34m.\u001b[0m\u001b[0mplot\u001b[0m\u001b[0;34m(\u001b[0m\u001b[0mxs\u001b[0m\u001b[0;34m,\u001b[0m \u001b[0mpdf_val\u001b[0m\u001b[0;34m.\u001b[0m\u001b[0mdetach\u001b[0m\u001b[0;34m(\u001b[0m\u001b[0;34m)\u001b[0m\u001b[0;34m.\u001b[0m\u001b[0mcpu\u001b[0m\u001b[0;34m(\u001b[0m\u001b[0;34m)\u001b[0m\u001b[0;34m)\u001b[0m\u001b[0;34m\u001b[0m\u001b[0;34m\u001b[0m\u001b[0m\n\u001b[1;32m      5\u001b[0m \u001b[0;34m\u001b[0m\u001b[0m\n",
      "\u001b[0;31mRuntimeError\u001b[0m: CUDA error: unspecified launch failure\nCUDA kernel errors might be asynchronously reported at some other API call,so the stacktrace below might be incorrect.\nFor debugging consider passing CUDA_LAUNCH_BLOCKING=1."
     ]
    }
   ],
   "source": [
    "xs_t = torch.tensor(xs, device=device, dtype=torch.float)\n",
    "poiss, shape = eval_dist(xs_t, amp, pos_t, theta_t, phi_t, 30)\n",
    "pdf_val = poiss + shape\n",
    "plt.plot(xs, pdf_val.detach().cpu())\n",
    "\n",
    "poiss, shape = eval_dist(xs_t, amp, pos_t, theta2_t, phi_t, 30)\n",
    "pdf_val = poiss + shape\n",
    "plt.plot(xs, pdf_val.detach().cpu())\n",
    "\n",
    "\n"
   ]
  },
  {
   "cell_type": "code",
   "execution_count": 128,
   "id": "bc120520-2c48-48c1-8165-560540768667",
   "metadata": {},
   "outputs": [],
   "source": [
    "def make_wrap(t, amp, pos_t, mod_index):\n",
    "    def wrap(theta, phi):\n",
    "        res = eval_dist(torch.tensor([t], device=device, dtype=torch.float), amp, pos_t, theta, phi, mod_index)\n",
    "        return res[0] + res[1]\n",
    "    return wrap\n",
    "\n",
    "hess_m = 0\n",
    "for t in samples[:100]:\n",
    "    wrap = make_wrap(t, amp, pos_t, 30)\n",
    "    hess = hessian(wrap, (theta_t, phi_t), strict=True)\n",
    "    hess_m += np.asarray([[hess[0][0].detach().cpu().numpy(), hess[0][1].detach().cpu().numpy()],\n",
    "                     [hess[1][0].detach().cpu().numpy(), hess[1][1].detach().cpu().numpy()]])\n",
    "    \n",
    "hess_m /= 100"
   ]
  },
  {
   "cell_type": "code",
   "execution_count": 125,
   "id": "deefed10-4ddc-4088-b8b0-d6ca7b5a776e",
   "metadata": {},
   "outputs": [],
   "source": [
    "wrap = make_wrap(samples[0], amp, pos_t, 30)\n",
    "hess = hessian(wrap, (theta_t, phi_t), strict=True)"
   ]
  },
  {
   "cell_type": "code",
   "execution_count": 126,
   "id": "9dab2f1f-e70f-4884-9bc1-d9afffa50bd4",
   "metadata": {},
   "outputs": [
    {
     "data": {
      "text/plain": [
       "((tensor(-900108.5625, device='cuda:0'), tensor(-28789.0723, device='cuda:0')),\n",
       " (tensor(-28789.0703, device='cuda:0'), tensor(-15670.5957, device='cuda:0')))"
      ]
     },
     "execution_count": 126,
     "metadata": {},
     "output_type": "execute_result"
    }
   ],
   "source": [
    "hess"
   ]
  },
  {
   "cell_type": "code",
   "execution_count": 131,
   "id": "4c70474f-0db4-4562-9b6e-26af3122a56e",
   "metadata": {},
   "outputs": [
    {
     "data": {
      "text/plain": [
       "0.06224788"
      ]
     },
     "execution_count": 131,
     "metadata": {},
     "output_type": "execute_result"
    }
   ],
   "source": [
    "np.degrees(np.sqrt(np.linalg.inv(-hess_m)[0, 0]))"
   ]
  },
  {
   "cell_type": "code",
   "execution_count": 55,
   "id": "af4af04f-2770-4d21-80a9-685efdf60582",
   "metadata": {},
   "outputs": [
    {
     "data": {
      "text/plain": [
       "[]"
      ]
     },
     "execution_count": 55,
     "metadata": {},
     "output_type": "execute_result"
    },
    {
     "data": {
      "image/png": "[encoded data removed]",
      "text/plain": [
       "<Figure size 432x288 with 1 Axes>"
      ]
     },
     "metadata": {
      "needs_background": "light"
     },
     "output_type": "display_data"
    }
   ],
   "source": [
    "\n",
    "model_in = source_to_model_input(det.module_coords, [phsrc])\n",
    "\n",
    "xs = np.linspace(0, 100, 1000)\n",
    "xs_t = torch.tensor(xs, device=device, dtype=torch.float)\n",
    "\n",
    "plt.plot(xs, torch.exp(uniform_triple_exp(xs_t, pdf_params)[:, 30]).detach().cpu(), color=\"r\")\n",
    "\n",
    "times = \n",
    "sns.histplot(times, bins = np.linspace(0, 100, 100), stat=\"density\")\n",
    "plt.semilogy()\n"
   ]
  },
  {
   "cell_type": "code",
   "execution_count": null,
   "id": "ac472e0f-6d3f-4ae6-80b8-67335bffc876",
   "metadata": {},
   "outputs": [],
   "source": []
  },
  {
   "cell_type": "code",
   "execution_count": 58,
   "id": "58185f53-8388-4305-9790-941427b6efc7",
   "metadata": {},
   "outputs": [
    {
     "data": {
      "image/png": "[encoded data removed]",
      "text/plain": [
       "<Figure size 432x288 with 1 Axes>"
      ]
     },
     "metadata": {
      "needs_background": "light"
     },
     "output_type": "display_data"
    }
   ],
   "source": [
    "thetas = torch.linspace(np.radians(0), np.radians(30), 180)\n",
    "for theta in thetas:\n",
    "    plt.plot(np.degrees(theta.cpu().detach()), eval_dist(event2, 0.3*1E9, pos, theta, phi).cpu().detach(), \"ok\")\n"
   ]
  },
  {
   "cell_type": "code",
   "execution_count": 7,
   "id": "c6982636-7e37-412a-bb19-d809106c9679",
   "metadata": {},
   "outputs": [],
   "source": []
  },
  {
   "cell_type": "code",
   "execution_count": 32,
   "id": "5805eac4-2dec-4f0c-a883-505f37f2b39a",
   "metadata": {},
   "outputs": [],
   "source": [
    "def wrap(theta, phi):        \n",
    "    return eval_dist(event, 1E6, pos, theta, phi)\n",
    "\n",
    "theta = torch.tensor(20., device=device)#\n",
    "phi = torch.tensor(0., device=device)\n",
    "hess = hessian(wrap, (theta, phi), strict=True)"
   ]
  },
  {
   "cell_type": "code",
   "execution_count": 33,
   "id": "af54b89d-2c85-4b65-9fb1-a9e88fdcbd65",
   "metadata": {},
   "outputs": [
    {
     "data": {
      "text/plain": [
       "((tensor(-3.4984, device='cuda:0'), tensor(1.6891, device='cuda:0')),\n",
       " (tensor(1.6891, device='cuda:0'), tensor(2.5304, device='cuda:0')))"
      ]
     },
     "execution_count": 33,
     "metadata": {},
     "output_type": "execute_result"
    }
   ],
   "source": [
    "hess"
   ]
  },
  {
   "cell_type": "code",
   "execution_count": 24,
   "id": "43cf9dab-cd19-4abb-a725-3a389d37ba14",
   "metadata": {},
   "outputs": [
    {
     "data": {
      "text/plain": [
       "((tensor(0., device='cuda:0'), tensor(0., device='cuda:0')),\n",
       " (tensor(0., device='cuda:0'), tensor(0., device='cuda:0')))"
      ]
     },
     "execution_count": 24,
     "metadata": {},
     "output_type": "execute_result"
    }
   ],
   "source": [
    "\n",
    "hessian(lambda theta, phi: net(source_to_model_input(module_positions, pos, sph_to_cart(theta, phi))).reshape(module_positions.shape[0], 7).sum(), (theta, phi))"
   ]
  },
  {
   "cell_type": "code",
   "execution_count": 228,
   "id": "41e796b3-07fc-4689-8462-a99ea758f00d",
   "metadata": {},
   "outputs": [
    {
     "ename": "IndexError",
     "evalue": "too many indices for tensor of dimension 1",
     "output_type": "error",
     "traceback": [
      "\u001b[0;31m---------------------------------------------------------------------------\u001b[0m",
      "\u001b[0;31mIndexError\u001b[0m                                Traceback (most recent call last)",
      "\u001b[0;32m/tmp/ipykernel_449/3315566254.py\u001b[0m in \u001b[0;36m<module>\u001b[0;34m\u001b[0m\n\u001b[1;32m      1\u001b[0m \u001b[0mxs\u001b[0m \u001b[0;34m=\u001b[0m \u001b[0mtorch\u001b[0m\u001b[0;34m.\u001b[0m\u001b[0mlinspace\u001b[0m\u001b[0;34m(\u001b[0m\u001b[0;36m0\u001b[0m\u001b[0;34m,\u001b[0m \u001b[0;36m200\u001b[0m\u001b[0;34m,\u001b[0m \u001b[0;36m1000\u001b[0m\u001b[0;34m,\u001b[0m \u001b[0mdevice\u001b[0m\u001b[0;34m=\u001b[0m\u001b[0mdevice\u001b[0m\u001b[0;34m)\u001b[0m\u001b[0;34m\u001b[0m\u001b[0;34m\u001b[0m\u001b[0m\n\u001b[0;32m----> 2\u001b[0;31m \u001b[0mplt\u001b[0m\u001b[0;34m.\u001b[0m\u001b[0mplot\u001b[0m\u001b[0;34m(\u001b[0m\u001b[0mxs\u001b[0m\u001b[0;34m.\u001b[0m\u001b[0mdetach\u001b[0m\u001b[0;34m(\u001b[0m\u001b[0;34m)\u001b[0m\u001b[0;34m.\u001b[0m\u001b[0mcpu\u001b[0m\u001b[0;34m(\u001b[0m\u001b[0;34m)\u001b[0m\u001b[0;34m,\u001b[0m \u001b[0muniform_triple_exp\u001b[0m\u001b[0;34m(\u001b[0m\u001b[0mxs\u001b[0m\u001b[0;34m,\u001b[0m \u001b[0mpdf_params\u001b[0m\u001b[0;34m[\u001b[0m\u001b[0;36m10\u001b[0m\u001b[0;34m,\u001b[0m \u001b[0;34m:\u001b[0m\u001b[0;34m-\u001b[0m\u001b[0;36m1\u001b[0m\u001b[0;34m]\u001b[0m\u001b[0;34m)\u001b[0m\u001b[0;34m.\u001b[0m\u001b[0mdetach\u001b[0m\u001b[0;34m(\u001b[0m\u001b[0;34m)\u001b[0m\u001b[0;34m.\u001b[0m\u001b[0mcpu\u001b[0m\u001b[0;34m(\u001b[0m\u001b[0;34m)\u001b[0m\u001b[0;34m)\u001b[0m\u001b[0;34m\u001b[0m\u001b[0;34m\u001b[0m\u001b[0m\n\u001b[0m\u001b[1;32m      3\u001b[0m \u001b[0mplt\u001b[0m\u001b[0;34m.\u001b[0m\u001b[0mplot\u001b[0m\u001b[0;34m(\u001b[0m\u001b[0mxs\u001b[0m\u001b[0;34m.\u001b[0m\u001b[0mdetach\u001b[0m\u001b[0;34m(\u001b[0m\u001b[0;34m)\u001b[0m\u001b[0;34m.\u001b[0m\u001b[0mcpu\u001b[0m\u001b[0;34m(\u001b[0m\u001b[0;34m)\u001b[0m\u001b[0;34m,\u001b[0m \u001b[0muniform_triple_exp\u001b[0m\u001b[0;34m(\u001b[0m\u001b[0mxs\u001b[0m\u001b[0;34m,\u001b[0m \u001b[0mpdf_params2\u001b[0m\u001b[0;34m[\u001b[0m\u001b[0;36m10\u001b[0m\u001b[0;34m,\u001b[0m \u001b[0;34m:\u001b[0m\u001b[0;34m-\u001b[0m\u001b[0;36m1\u001b[0m\u001b[0;34m]\u001b[0m\u001b[0;34m)\u001b[0m\u001b[0;34m.\u001b[0m\u001b[0mdetach\u001b[0m\u001b[0;34m(\u001b[0m\u001b[0;34m)\u001b[0m\u001b[0;34m.\u001b[0m\u001b[0mcpu\u001b[0m\u001b[0;34m(\u001b[0m\u001b[0;34m)\u001b[0m\u001b[0;34m)\u001b[0m\u001b[0;34m\u001b[0m\u001b[0;34m\u001b[0m\u001b[0m\n\u001b[1;32m      4\u001b[0m \u001b[0;31m#plt.semilogy()\u001b[0m\u001b[0;34m\u001b[0m\u001b[0;34m\u001b[0m\u001b[0;34m\u001b[0m\u001b[0m\n",
      "\u001b[0;32m/tmp/ipykernel_449/491382807.py\u001b[0m in \u001b[0;36muniform_triple_exp\u001b[0;34m(xs, parameters)\u001b[0m\n\u001b[1;32m     49\u001b[0m \u001b[0;34m\u001b[0m\u001b[0m\n\u001b[1;32m     50\u001b[0m \u001b[0;32mdef\u001b[0m \u001b[0muniform_triple_exp\u001b[0m\u001b[0;34m(\u001b[0m\u001b[0mxs\u001b[0m\u001b[0;34m,\u001b[0m \u001b[0mparameters\u001b[0m\u001b[0;34m)\u001b[0m\u001b[0;34m:\u001b[0m\u001b[0;34m\u001b[0m\u001b[0;34m\u001b[0m\u001b[0m\n\u001b[0;32m---> 51\u001b[0;31m     \u001b[0mlog_usf\u001b[0m \u001b[0;34m=\u001b[0m \u001b[0mparameters\u001b[0m\u001b[0;34m[\u001b[0m\u001b[0;34m:\u001b[0m\u001b[0;34m,\u001b[0m \u001b[0;34m-\u001b[0m\u001b[0;36m2\u001b[0m\u001b[0;34m]\u001b[0m\u001b[0;34m\u001b[0m\u001b[0;34m\u001b[0m\u001b[0m\n\u001b[0m\u001b[1;32m     52\u001b[0m     \u001b[0musf\u001b[0m \u001b[0;34m=\u001b[0m \u001b[0;36m1\u001b[0m \u001b[0;34m-\u001b[0m \u001b[0;36m10\u001b[0m \u001b[0;34m**\u001b[0m \u001b[0;34m(\u001b[0m\u001b[0;34m-\u001b[0m\u001b[0mlog_usf\u001b[0m\u001b[0;34m)\u001b[0m\u001b[0;34m\u001b[0m\u001b[0;34m\u001b[0m\u001b[0m\n\u001b[1;32m     53\u001b[0m     \u001b[0mout\u001b[0m \u001b[0;34m=\u001b[0m \u001b[0mtorch\u001b[0m\u001b[0;34m.\u001b[0m\u001b[0mempty\u001b[0m\u001b[0;34m(\u001b[0m\u001b[0;34m(\u001b[0m\u001b[0mxs\u001b[0m\u001b[0;34m.\u001b[0m\u001b[0mshape\u001b[0m\u001b[0;34m[\u001b[0m\u001b[0;36m0\u001b[0m\u001b[0;34m]\u001b[0m\u001b[0;34m,\u001b[0m \u001b[0mparameters\u001b[0m\u001b[0;34m.\u001b[0m\u001b[0mshape\u001b[0m\u001b[0;34m[\u001b[0m\u001b[0;36m0\u001b[0m\u001b[0;34m]\u001b[0m\u001b[0;34m)\u001b[0m\u001b[0;34m,\u001b[0m \u001b[0mdevice\u001b[0m\u001b[0;34m=\u001b[0m\u001b[0mdevice\u001b[0m\u001b[0;34m)\u001b[0m\u001b[0;34m\u001b[0m\u001b[0;34m\u001b[0m\u001b[0m\n",
      "\u001b[0;31mIndexError\u001b[0m: too many indices for tensor of dimension 1"
     ]
    }
   ],
   "source": [
    "xs = torch.linspace(0, 200, 1000, device=device)\n",
    "plt.plot(xs.detach().cpu(), uniform_triple_exp(xs, pdf_params[10, :-1]).detach().cpu())\n",
    "plt.plot(xs.detach().cpu(), uniform_triple_exp(xs, pdf_params2[10, :-1]).detach().cpu())\n",
    "#plt.semilogy()"
   ]
  },
  {
   "cell_type": "code",
   "execution_count": 200,
   "id": "18f3c85d-227e-4ccd-abb2-06d0ddf1727b",
   "metadata": {},
   "outputs": [
    {
     "data": {
      "text/plain": [
       "[<matplotlib.lines.Line2D at 0x7fcc104dbb10>]"
      ]
     },
     "execution_count": 200,
     "metadata": {},
     "output_type": "execute_result"
    },
    {
     "data": {
      "image/png": "[encoded data removed]",
      "text/plain": [
       "<Figure size 432x288 with 1 Axes>"
      ]
     },
     "metadata": {
      "needs_background": "light"
     },
     "output_type": "display_data"
    }
   ],
   "source": [
    "xs = torch.linspace(0, 200, 1000, device=device)\n",
    "plt.plot(xs.detach().cpu(), poisson_utr_exp(1E5, xs, *pdf_params[10, ]).detach().cpu())\n",
    "plt.plot(xs.detach().cpu(), poisson_utr_exp(1E5, xs, *pdf_params2[10, ]).detach().cpu())\n",
    "#plt.semilogy()"
   ]
  },
  {
   "cell_type": "code",
   "execution_count": 139,
   "id": "bdd786a7-0d5c-4c19-b6f7-0360a2e732e2",
   "metadata": {},
   "outputs": [
    {
     "data": {
      "text/plain": [
       "tensor(0.0153, device='cuda:0', grad_fn=<RsubBackward1>)"
      ]
     },
     "execution_count": 139,
     "metadata": {},
     "output_type": "execute_result"
    }
   ],
   "source": [
    "torch.autograd.functional.hessian"
   ]
  },
  {
   "cell_type": "code",
   "execution_count": 126,
   "id": "52fa6cfa-595c-41ba-a352-37136bad4a7f",
   "metadata": {},
   "outputs": [
    {
     "data": {
      "text/plain": [
       "tensor([ 0.1407,  0.4384,  0.7594,  0.7884,  0.6862,  0.0066, -6.5473],\n",
       "       device='cuda:0', grad_fn=<SelectBackward>)"
      ]
     },
     "execution_count": 126,
     "metadata": {},
     "output_type": "execute_result"
    }
   ],
   "source": [
    "pdf_params2[0]"
   ]
  },
  {
   "cell_type": "code",
   "execution_count": 179,
   "id": "4d16a30c-3a11-499b-b3bf-93d598b11a29",
   "metadata": {},
   "outputs": [
    {
     "data": {
      "text/plain": [
       "[<matplotlib.lines.Line2D at 0x7fcc104c4f10>]"
      ]
     },
     "execution_count": 179,
     "metadata": {},
     "output_type": "execute_result"
    },
    {
     "data": {
      "image/png": "[encoded data removed]",
      "text/plain": [
       "<Figure size 432x288 with 1 Axes>"
      ]
     },
     "metadata": {
      "needs_background": "light"
     },
     "output_type": "display_data"
    }
   ],
   "source": [
    "xs = np.linspace(0, 300, 1000)\n",
    "plt.plot(xs[xs > 20], 0.9 * 1/100 * np.exp((-(xs[xs > 20]-20) / 100)))\n",
    "plt.plot(xs[xs < 20], 0.1 * 1/20*np.ones((xs < 20).sum()))"
   ]
  },
  {
   "cell_type": "code",
   "execution_count": 180,
   "id": "f7f62c59-fada-47a4-8692-95dadc8cb139",
   "metadata": {},
   "outputs": [],
   "source": [
    "def func(xs):\n",
    "    xs = np.atleast_1d(xs)\n",
    "    out = np.empty_like(xs)\n",
    "    out[xs > 20] = 0.9 * 1/100 * np.exp((-(xs[xs > 20]-20)) / 100)\n",
    "    out[xs <= 20] = 0.1 * 1/20*np.ones((xs <= 20).sum())\n",
    "    return out"
   ]
  },
  {
   "cell_type": "code",
   "execution_count": 181,
   "id": "6ef3d8a6-77e9-4dab-9e28-bf6e9434eb4a",
   "metadata": {},
   "outputs": [],
   "source": [
    "from scipy.integrate import quad"
   ]
  },
  {
   "cell_type": "code",
   "execution_count": 183,
   "id": "b7bd888b-3367-4bda-beb7-5016cd6a6fa0",
   "metadata": {},
   "outputs": [
    {
     "data": {
      "text/plain": [
       "(0.9999500936055827, 1.4619977228846892e-08)"
      ]
     },
     "execution_count": 183,
     "metadata": {},
     "output_type": "execute_result"
    }
   ],
   "source": [
    "quad(func, 0, 1000)"
   ]
  },
  {
   "cell_type": "code",
   "execution_count": 178,
   "id": "ce42b69f-a5d2-4825-8eb4-c50804db939f",
   "metadata": {},
   "outputs": [
    {
     "data": {
      "text/plain": [
       "(0.8143128162955776, 1.7995457225188243e-14)"
      ]
     },
     "execution_count": 178,
     "metadata": {},
     "output_type": "execute_result"
    }
   ],
   "source": [
    "quad(lambda xs: 0.9 * 1/100 * np.exp((-xs / 100)), 10, 1000)"
   ]
  },
  {
   "cell_type": "code",
   "execution_count": null,
   "id": "6602915d-49d9-4d89-8fa8-da98a02e0c22",
   "metadata": {},
   "outputs": [],
   "source": []
  }
 ],
 "metadata": {
  "kernelspec": {
   "display_name": "Python 3 (ipykernel)",
   "language": "python",
   "name": "python3"
  },
  "language_info": {
   "codemirror_mode": {
    "name": "ipython",
    "version": 3
   },
   "file_extension": ".py",
   "mimetype": "text/x-python",
   "name": "python",
   "nbconvert_exporter": "python",
   "pygments_lexer": "ipython3",
   "version": "3.7.10"
  }
 },
 "nbformat": 4,
 "nbformat_minor": 5
}
