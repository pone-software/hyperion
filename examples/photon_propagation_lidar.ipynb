{
 "cells": [
  {
   "cell_type": "code",
   "execution_count": 1,
   "id": "0cd66ae4-2cdc-4573-a428-bbb21cfc888f",
   "metadata": {},
   "outputs": [],
   "source": [
    "import os\n",
    "\n",
    "os.environ[\"XLA_PYTHON_CLIENT_MEM_FRACTION\"] = \"0.8\"\n",
    "from jax.config import config\n",
    "# This slows down the computation by ~ x8. But single precision leads to discretization effects.\n",
    "config.update(\"jax_enable_x64\", False)  \n",
    "import jax.numpy as jnp\n",
    "from jax import jit, vmap, random\n",
    "\n",
    "import sys\n",
    "sys.path.append(\"..\")\n",
    "from hyperion.propagate import (   \n",
    "    make_initialize_direction_laser,\n",
    "    make_photon_trajectory_fun,\n",
    "    make_step_function,\n",
    "    make_photon_circle_intersection,\n",
    "    make_cherenkov_spectral_sampling_func,\n",
    "    make_loop_until_isec_or_maxtime,\n",
    "    make_loop_for_n_steps,\n",
    "    make_fixed_pos_time_initializer,\n",
    "    make_monochromatic_initializer,\n",
    "    collect_hits,\n",
    "    sph_to_cart\n",
    ")\n",
    "from hyperion.medium import (\n",
    "     cascadia_ref_index_func,\n",
    "     mixed_hg_rayleigh_antares,\n",
    "     sca_len_func_antares\n",
    ")\n",
    "from hyperion.constants import Constants\n",
    "from hyperion.utils import calculate_min_number_steps, make_cascadia_abs_len_func\n",
    "import json\n",
    "import numpy as np\n",
    "import matplotlib.pyplot as plt\n",
    "from scipy.integrate import quad\n",
    "import seaborn as sns\n",
    "from scipy.interpolate import UnivariateSpline\n",
    "import scipy.stats"
   ]
  },
  {
   "cell_type": "markdown",
   "id": "809aaa98-8809-470d-803e-5ebe0d8effd1",
   "metadata": {},
   "source": [
    "# Propagate Photons from LED Lightsource"
   ]
  },
  {
   "cell_type": "markdown",
   "id": "4570642d-4afd-4ca3-9535-8cd0620cf70f",
   "metadata": {},
   "source": [
    "### Set detector parameters"
   ]
  },
  {
   "cell_type": "code",
   "execution_count": 2,
   "id": "c4c1009e-b51c-4496-b2cb-e0ad782aa260",
   "metadata": {},
   "outputs": [],
   "source": [
    "# Define emitter position & emission time\n",
    "emitter_x = jnp.array([0, 0, 0.0])\n",
    "emitter_t = 0.0\n",
    "\n",
    "# Define detector position & sensor radius (sensor is modelled as a sphere)\n",
    "circle_pos = jnp.array([-0.1, 0, -0.1])\n",
    "circle_normal = jnp.array([0, 0, 1])\n",
    "circle_radius = 1"
   ]
  },
  {
   "cell_type": "markdown",
   "id": "f4f02fcc-b0b1-4cae-bfd2-67ccee5c7e4f",
   "metadata": {},
   "source": [
    "### Create Photon Initializers\n",
    "Now setup the photon state initializers. We will use a function that injects photons at a fixed position and time and samples the direction and wavelength.\n",
    "This function returns a dict which represents the initial photon state."
   ]
  },
  {
   "cell_type": "code",
   "execution_count": 3,
   "id": "7cdb2298-601f-4a22-8acb-c1288112b6a8",
   "metadata": {},
   "outputs": [],
   "source": [
    "# LED emission profile (Lambert)\n",
    "\n",
    "led_wavelength = 450\n",
    "\n",
    "emission_dir_init = make_initialize_direction_laser(jnp.asarray([0, 0,  1.]))\n",
    "\n",
    "# Monochromatic wavelength\n",
    "wavelength_init = make_monochromatic_initializer(led_wavelength)\n",
    "\n",
    "photon_init = make_fixed_pos_time_initializer(emitter_x, emitter_t, emission_dir_init, wavelength_init)"
   ]
  },
  {
   "cell_type": "markdown",
   "id": "9f0dc990-0114-4797-8f8f-399a173a68bf",
   "metadata": {},
   "source": [
    "### Create step function\n",
    "Next, we are going to create a step function. This function will recieve a photon state, propagate the photon for one scattering step and return a new photon state."
   ]
  },
  {
   "cell_type": "code",
   "execution_count": 4,
   "id": "fcf7bbc7-0ded-402a-84b0-f6f84966c3e2",
   "metadata": {},
   "outputs": [],
   "source": [
    "# We want to calculate intersections with a sphere\n",
    "intersection_f = make_photon_circle_intersection(circle_pos, circle_normal, circle_radius)\n",
    "\n",
    "# Use an approximation to the ANTARES scattering function\n",
    "scattering_function = mixed_hg_rayleigh_antares\n",
    "\n",
    "# Use the ANTARES wavelength dependent scattering length\n",
    "scattering_length_function = lambda wavelength: 200 # m\n",
    "\"\"\"\n",
    "Note: you can also set the `scattering_length_function` to `sca_len_func_antares`\n",
    "\"\"\"\n",
    "# Use the ANTARES wavelength dependent refractive index with cascadia basin properties\n",
    "ref_index_func = cascadia_ref_index_func\n",
    "\n",
    "# Create a step function, which will propagate the photon until the next scattering site.\n",
    "# If the intersection function returns True, only propagate to intersection position.\n",
    "step_fun = make_step_function(\n",
    "    intersection_f=intersection_f,\n",
    "    scattering_function=scattering_function,\n",
    "    scattering_length_function=scattering_length_function,\n",
    "    ref_index_func=ref_index_func,\n",
    ")\n"
   ]
  },
  {
   "cell_type": "markdown",
   "id": "ec107d46-a2f8-4efd-9e9b-216b5561ba9d",
   "metadata": {},
   "source": [
    "### Step Size\n",
    "\n",
    "Pick the step size such that 95% of all photons have a survival probability of < 1E-10"
   ]
  },
  {
   "cell_type": "code",
   "execution_count": 5,
   "id": "418a89e9",
   "metadata": {},
   "outputs": [
    {
     "name": "stdout",
     "output_type": "stream",
     "text": [
      "Abs. length: 29.64m, Sca. length: 200.00m\n",
      "Percent of photons with surv prob < 1E-10: 99.7\n"
     ]
    }
   ],
   "source": [
    "sca_len = scattering_length_function(led_wavelength)\n",
    "abs_len = make_cascadia_abs_len_func(sca_len_func_antares)(led_wavelength)\n",
    "print(f\"Abs. length: {abs_len:.2f}m, Sca. length: {sca_len:.2f}m\")\n",
    "\n",
    "photon_prob_cutoff = 1E-10\n",
    "steps = 10\n",
    "prop_lengths = scipy.stats.gamma.rvs(steps, scale=sca_len, size=100000)\n",
    "abs_weights = np.exp(-prop_lengths / abs_len)\n",
    "\n",
    "perc_of_score = scipy.stats.percentileofscore(abs_weights, photon_prob_cutoff)\n",
    "print(f\"Percent of photons with surv prob < {photon_prob_cutoff:.0E}: {perc_of_score:.1f}\")\n",
    "\n"
   ]
  },
  {
   "cell_type": "markdown",
   "id": "cdf66b7c",
   "metadata": {},
   "source": [
    "### Setup looping function"
   ]
  },
  {
   "cell_type": "code",
   "execution_count": 6,
   "id": "124fd0ab-4579-408c-bcbf-97c61684fe8f",
   "metadata": {},
   "outputs": [],
   "source": [
    "# Propagation is run until either photon intersects or max_time is reached\n",
    "loop_func = make_loop_for_n_steps(steps)\n",
    "\n",
    "# make a trajectory function\n",
    "trajec_fun = make_photon_trajectory_fun(\n",
    "    step_fun,\n",
    "    photon_init,\n",
    "    loop_func=loop_func,\n",
    ")\n",
    "\n",
    "# Create a compiled and vectorized trajectory function\n",
    "trajec_fun_v = jit(vmap(trajec_fun, in_axes=[0]))"
   ]
  },
  {
   "cell_type": "markdown",
   "id": "38bf3f0b-2ef9-444e-aaf2-eb8a89e7ae66",
   "metadata": {},
   "source": [
    "## Propagate multiple batches of photons\n",
    "We can use another convenience function to propagate multiple batches of photons, and record only those that have hit our detector."
   ]
  },
  {
   "cell_type": "code",
   "execution_count": 7,
   "id": "2779371b",
   "metadata": {},
   "outputs": [],
   "source": [
    "def collect_hits(traj_func, nphotons, nsims, seed=0, sim_limit=1e7):\n",
    "    \"\"\"Run photon prop multiple times and collect hits.\"\"\"\n",
    "    key = random.PRNGKey(seed)\n",
    "    isec_times = []\n",
    "    ar_dirs = []\n",
    "    nphotons = int(nphotons)\n",
    "    isec_pos = []\n",
    "\n",
    "    total_detected_photons = 0\n",
    "    sims_cnt = 0\n",
    "\n",
    "    for i in range(nsims):\n",
    "        key, subkey = random.split(key)\n",
    "        initial_state, final_state = traj_func(random.split(key, num=nphotons))\n",
    "        isecs = final_state[\"isec\"]\n",
    "        isec_times.append(np.asarray(final_state[\"time\"][isecs]))      \n",
    "        ar_dirs.append(np.asarray((final_state[\"dir\"][isecs])))\n",
    "        isec_pos.append(np.asarray(final_state[\"pos\"][isecs]))\n",
    "\n",
    "        sims_cnt = i\n",
    "        total_detected_photons += jnp.sum(isecs)\n",
    "        if sim_limit is not None and total_detected_photons > sim_limit:\n",
    "            break\n",
    "\n",
    "    isec_times = np.concatenate(isec_times)\n",
    "    ar_dirs = np.vstack(ar_dirs)\n",
    "    isec_pos = np.vstack(isec_pos)\n",
    "\n",
    "\n",
    "    return isec_times, ar_dirs, isec_pos, sims_cnt\n"
   ]
  },
  {
   "cell_type": "code",
   "execution_count": 8,
   "id": "48f5beef-2d4d-460b-a66d-2da82376245b",
   "metadata": {},
   "outputs": [],
   "source": [
    "data = collect_hits(trajec_fun_v, 5E6, 500)"
   ]
  },
  {
   "cell_type": "code",
   "execution_count": 9,
   "id": "e1ebf8f6",
   "metadata": {},
   "outputs": [
    {
     "data": {
      "text/plain": [
       "Text(0.5, 0, 'Indident angle (deg)')"
      ]
     },
     "execution_count": 9,
     "metadata": {},
     "output_type": "execute_result"
    },
    {
     "data": {
      "image/png": "[encoded data removed]",
      "text/plain": [
       "<Figure size 432x288 with 1 Axes>"
      ]
     },
     "metadata": {
      "needs_background": "light"
     },
     "output_type": "display_data"
    }
   ],
   "source": [
    "c_medium_f = lambda wl: Constants.BaseConstants.c_vac / cascadia_ref_index_func(wl)\n",
    "arriv_times = data[0]\n",
    "prop_dist = data[0] * c_medium_f(led_wavelength)/1E9 \n",
    "abs_weight = np.exp(-prop_dist / abs_len)\n",
    "\n",
    "\n",
    "sns.histplot(x=arriv_times, bins=20, weights=abs_weight)\n",
    "plt.semilogy()\n",
    "plt.xlabel(\"Indident angle (deg)\")\n"
   ]
  },
  {
   "cell_type": "code",
   "execution_count": 11,
   "id": "6ef2bcd4",
   "metadata": {},
   "outputs": [
    {
     "name": "stdout",
     "output_type": "stream",
     "text": [
      "[0.08715574 0.         0.9961947 ]\n"
     ]
    }
   ],
   "source": [
    "laser_theta = np.radians(5)\n",
    "\n",
    "laser_dir = sph_to_cart(laser_theta, 0)\n",
    "print(laser_dir)\n",
    "emission_dir_init_2 = make_initialize_direction_laser(laser_dir)\n",
    "\n",
    "photon_init_2 = make_fixed_pos_time_initializer(emitter_x, emitter_t, emission_dir_init_2, wavelength_init)\n",
    "\n",
    "second_trajec_fun = make_photon_trajectory_fun(\n",
    "    step_fun,\n",
    "    photon_init_2,\n",
    "    loop_func=loop_func,\n",
    ")\n",
    "\n",
    "second_trajec_fun_v = jit(vmap(second_trajec_fun, in_axes=[0]))\n",
    "data2 = collect_hits(second_trajec_fun_v, 5E6, 500)"
   ]
  },
  {
   "cell_type": "code",
   "execution_count": 14,
   "id": "5eb7c72d",
   "metadata": {},
   "outputs": [
    {
     "name": "stderr",
     "output_type": "stream",
     "text": [
      "/opt/conda/lib/python3.7/site-packages/seaborn/distributions.py:376: FutureWarning: elementwise comparison failed; returning scalar instead, but in the future will perform elementwise comparison\n",
      "  and estimate_kws[\"bins\"] == \"auto\"\n",
      "/opt/conda/lib/python3.7/site-packages/seaborn/distributions.py:376: FutureWarning: elementwise comparison failed; returning scalar instead, but in the future will perform elementwise comparison\n",
      "  and estimate_kws[\"bins\"] == \"auto\"\n"
     ]
    },
    {
     "data": {
      "text/plain": [
       "<matplotlib.legend.Legend at 0x7f7c484b2810>"
      ]
     },
     "execution_count": 14,
     "metadata": {},
     "output_type": "execute_result"
    },
    {
     "data": {
      "image/png": "[encoded data removed]",
      "text/plain": [
       "<Figure size 432x288 with 1 Axes>"
      ]
     },
     "metadata": {
      "needs_background": "light"
     },
     "output_type": "display_data"
    }
   ],
   "source": [
    "def make_plot_data(data):\n",
    "\n",
    "    arriv_times = data[0]\n",
    "    prop_dist = data[0] * c_medium_f(led_wavelength)/1E9 \n",
    "    abs_weight = np.exp(-prop_dist / abs_len)\n",
    "\n",
    "    return arriv_times, abs_weight\n",
    "\n",
    "pl_data_1 = make_plot_data(data)\n",
    "pl_data_2 = make_plot_data(data2)\n",
    "\n",
    "sns.histplot(x=pl_data_1[0], bins=np.linspace(0, 5000, 20), weights=pl_data_1[1], stat=\"density\", label=\"0deg\", fill=False, element=\"step\")\n",
    "sns.histplot(x=pl_data_2[0], bins=np.linspace(0, 5000, 20), weights=pl_data_2[1], color=\"orange\", stat=\"density\", label=\"5deg\", fill=False, element=\"step\")\n",
    "\n",
    "\n",
    "\n",
    "plt.semilogy()\n",
    "plt.xlabel(\"Time (ns)\")\n",
    "plt.legend()\n"
   ]
  },
  {
   "cell_type": "code",
   "execution_count": 60,
   "id": "121f2181",
   "metadata": {},
   "outputs": [
    {
     "name": "stderr",
     "output_type": "stream",
     "text": [
      "/opt/conda/lib/python3.7/site-packages/seaborn/distributions.py:376: FutureWarning: elementwise comparison failed; returning scalar instead, but in the future will perform elementwise comparison\n",
      "  and estimate_kws[\"bins\"] == \"auto\"\n",
      "/opt/conda/lib/python3.7/site-packages/seaborn/distributions.py:376: FutureWarning: elementwise comparison failed; returning scalar instead, but in the future will perform elementwise comparison\n",
      "  and estimate_kws[\"bins\"] == \"auto\"\n"
     ]
    },
    {
     "data": {
      "text/plain": [
       "<matplotlib.legend.Legend at 0x7f4d902f3b50>"
      ]
     },
     "execution_count": 60,
     "metadata": {},
     "output_type": "execute_result"
    },
    {
     "data": {
      "image/png": "[encoded data removed]",
      "text/plain": [
       "<Figure size 432x288 with 1 Axes>"
      ]
     },
     "metadata": {
      "needs_background": "light"
     },
     "output_type": "display_data"
    }
   ],
   "source": [
    "def make_plot_data(data):\n",
    "\n",
    "    arriv_dirs = data[1]\n",
    "    theta = np.arccos(arriv_dirs[:, 2])\n",
    "    prop_dist = data[0] * c_medium_f(led_wavelength)/1E9 \n",
    "    abs_weight = np.exp(-prop_dist / abs_len)\n",
    "\n",
    "    return theta, abs_weight\n",
    "\n",
    "\n",
    "pl_data_1 = make_plot_data(data)\n",
    "pl_data_2 = make_plot_data(data2)\n",
    "\n",
    "sns.histplot(x=np.degrees(pl_data_1[0]), bins=np.linspace(0, 10, 100), weights=pl_data_1[1], stat=\"density\", label=\"200m sca\", fill=False, element=\"step\")\n",
    "sns.histplot(x=np.degrees(pl_data_2[0]), bins=np.linspace(0, 10, 100), weights=pl_data_2[1], color=\"orange\", stat=\"density\", label=\"100m sca\", fill=False, element=\"step\")\n",
    "\n",
    "\n",
    "\n",
    "plt.semilogy()\n",
    "plt.xlabel(\"Incident angle (deg)\")\n",
    "plt.legend()\n"
   ]
  }
 ],
 "metadata": {
  "kernelspec": {
   "display_name": "Python 3 (ipykernel)",
   "language": "python",
   "name": "python3"
  },
  "language_info": {
   "codemirror_mode": {
    "name": "ipython",
    "version": 3
   },
   "file_extension": ".py",
   "mimetype": "text/x-python",
   "name": "python",
   "nbconvert_exporter": "python",
   "pygments_lexer": "ipython3",
   "version": "3.7.10"
  }
 },
 "nbformat": 4,
 "nbformat_minor": 5
}
