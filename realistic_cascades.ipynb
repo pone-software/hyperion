{
 "cells": [
  {
   "cell_type": "code",
   "execution_count": 1,
   "id": "c2dafec0-8ef4-4350-9401-618eaf3e1855",
   "metadata": {},
   "outputs": [
    {
     "name": "stderr",
     "output_type": "stream",
     "text": [
      "/opt/conda/lib/python3.7/site-packages/numba/core/decorators.py:260: RuntimeWarning: nopython is set for njit and is ignored\n",
      "  warnings.warn('nopython is set for njit and is ignored', RuntimeWarning)\n"
     ]
    }
   ],
   "source": [
    "import pickle\n",
    "import os\n",
    "os.environ[\"XLA_PYTHON_CLIENT_MEM_FRACTION\"]=\"0.5\"\n",
    "\n",
    "import matplotlib as mpl\n",
    "import matplotlib.pyplot as plt\n",
    "import numpy as np\n",
    "import scipy.optimize\n",
    "import seaborn as sns\n",
    "import torch\n",
    "import torch.nn as nn\n",
    "import torch.nn.functional as F\n",
    "from hyperion.utils import cherenkov_ang_dist, cherenkov_ang_dist_int, calc_tres\n",
    "from torchinterp1d import Interp1d\n",
    "from tqdm.notebook import tqdm, trange\n",
    "\n",
    "if torch.cuda.is_available():\n",
    "    device = torch.device(\"cuda\")\n",
    "else:\n",
    "    device = torch.device(\"cpu\")\n",
    "\n",
    "torch.set_default_dtype(torch.float64)\n",
    "\n",
    "import sys\n",
    "\n",
    "sys.path.append(\"../olympus\")\n",
    "from glob import glob\n",
    "from itertools import product\n",
    "\n",
    "import awkward as ak\n",
    "import pandas as pd\n",
    "from olympus.event_generation import (\n",
    "    Detector,\n",
    "    generate_cascade,\n",
    "    make_hex_grid,\n",
    "    make_line,\n",
    ")\n",
    "from hyperion.constants import Constants\n",
    "from olympus.event_generation.mc_record import MCRecord\n",
    "from olympus.event_generation.photon_propagation import (\n",
    "    PhotonSource,\n",
    "    dejit_sources,\n",
    "    make_generate_bin_amplitudes_nn,\n",
    "    make_generate_photons_nn,\n",
    "    source_to_model_input,\n",
    "    sources_to_model_input,\n",
    ")\n",
    "\n",
    "from olympus.event_generation.lightyield import make_pointlike_cascade_source\n",
    "from hyperion.models.photon_arrival_time.net import PhotonArivalTimePars\n",
    "from hyperion.models.photon_arrival_time.pdf import make_exp_exp_exp, sample_exp_exp_exp\n",
    "from hyperion.models.photon_binned_amplitude.net import make_net_eval_from_pickle\n",
    "from hyperion.medium import cascadia_ref_index_func\n",
    "from jax import jit\n",
    "from jax import numpy as jnp\n",
    "from jax import value_and_grad\n",
    "from numba.typed import List\n",
    "from torch.autograd.functional import hessian, jacobian\n",
    "\n",
    "from fennel import Fennel, config\n",
    "\n",
    "import json\n",
    "%matplotlib inline\n",
    "from scipy.integrate import quad"
   ]
  },
  {
   "cell_type": "code",
   "execution_count": 2,
   "id": "51a311fe-bc30-4193-953c-a75819aca95c",
   "metadata": {},
   "outputs": [],
   "source": [
    "def make_triang(\n",
    "    side_len,\n",
    "    oms_per_line=20,\n",
    "    dist_z=50,\n",
    "    dark_noise_rate=16 * 1e-5,\n",
    "    rng=np.random.RandomState(0),\n",
    "):\n",
    "\n",
    "    modules = make_line(\n",
    "        -side_len/2, 0, oms_per_line, dist_z, rng, dark_noise_rate, 0, efficiency=0.3\n",
    "    )\n",
    "    modules += make_line(\n",
    "        side_len/2, 0, oms_per_line, dist_z, rng, dark_noise_rate, 1, efficiency=0.3\n",
    "    )\n",
    "    modules += make_line(\n",
    "        0,\n",
    "        np.sqrt(3) / 2 * side_len,\n",
    "        oms_per_line,\n",
    "        dist_z,\n",
    "        rng,\n",
    "        dark_noise_rate,\n",
    "        2,\n",
    "        efficiency=0.3,\n",
    "    )\n",
    "    det = Detector(modules)\n",
    "\n",
    "    return det\n",
    "\n",
    "def sph_to_cart_np(theta, phi=0, r=1):\n",
    "    \"\"\"Transform spherical to cartesian coordinates.\"\"\"\n",
    "    x = np.sin(theta) * np.cos(phi)\n",
    "    y = np.sin(theta) * np.sin(phi)\n",
    "    z = np.cos(theta)\n",
    "\n",
    "    return np.asarray([x, y, z])"
   ]
  },
  {
   "cell_type": "code",
   "execution_count": 3,
   "id": "7fe47459",
   "metadata": {},
   "outputs": [],
   "source": [
    "def c_medium_f(wl):\n",
    "        \"\"\"Speed of light in medium for wl (nm).\"\"\"\n",
    "        return Constants.BaseConstants.c_vac / cascadia_ref_index_func(wl)"
   ]
  },
  {
   "cell_type": "code",
   "execution_count": 67,
   "id": "2bc43f33",
   "metadata": {},
   "outputs": [
    {
     "data": {
      "text/plain": [
       "[<matplotlib.lines.Line2D at 0x7f91384df050>]"
      ]
     },
     "execution_count": 67,
     "metadata": {},
     "output_type": "execute_result"
    },
    {
     "data": {
      "image/png": "[encoded data removed]",
      "text/plain": [
       "<Figure size 432x288 with 1 Axes>"
      ]
     },
     "metadata": {
      "needs_background": "light"
     },
     "output_type": "display_data"
    }
   ],
   "source": [
    "def interpolate_hist(hist, x, x_eval):\n",
    "        dx = jnp.diff(x)\n",
    "        dy = jnp.diff(hist)\n",
    "\n",
    "        x_idx = jnp.searchsorted(x, x_eval, side=\"right\") - 1\n",
    "        fractional = x_eval - x[x_idx]\n",
    "\n",
    "        interpolated = jnp.where(\n",
    "            (x_idx >= 0) & (x_idx < x.shape[0]-2), hist[x_idx] + dy[x_idx] / dx[x_idx] * fractional, jnp.nan\n",
    "        )\n",
    "\n",
    "        return interpolated\n",
    "\n",
    "hist = jnp.asarray([0, 5, 10, 20])\n",
    "x = jnp.asarray([0, 1, 2, 3, 4])\n",
    "x_eval = jnp.linspace(-1, 4, 100)\n",
    "\n",
    "\n",
    "plt.step(x, np.append(hist, hist[-1]), where=\"post\")\n",
    "plt.plot(x_eval, interpolate_hist(hist, x, x_eval), \"o\")\n",
    "\n",
    "\n"
   ]
  },
  {
   "cell_type": "code",
   "execution_count": 39,
   "id": "83d18684",
   "metadata": {},
   "outputs": [
    {
     "data": {
      "text/plain": [
       "(2, 60, 2)"
      ]
     },
     "execution_count": 39,
     "metadata": {},
     "output_type": "execute_result"
    }
   ],
   "source": [
    "from jax import vmap\n",
    "rng = np.random.RandomState(31338)\n",
    "oms_per_line = 20\n",
    "dist_z = 50\n",
    "dark_noise_rate = 16 * 1e-5  # 1/ns\n",
    "det = make_triang(100, oms_per_line, dist_z, dark_noise_rate, rng)\n",
    "module_positions = jnp.asarray(det.module_coords)\n",
    "source_pos = jnp.asarray([0, 0, 0.])\n",
    "source_dir = jnp.asarray([1., 0, 0])\n",
    "source_t0 = 0.\n",
    "\n",
    "sources_to_model_input(\n",
    "    module_positions,\n",
    "    jnp.stack([source_pos, source_pos], axis=0),\n",
    "    jnp.stack([source_dir, source_dir], axis=0),\n",
    "    jnp.stack([source_t0, source_t0], axis=0),    \n",
    "    c_medium_f(700))[0].shape"
   ]
  },
  {
   "cell_type": "code",
   "execution_count": 24,
   "id": "345acde3",
   "metadata": {},
   "outputs": [
    {
     "ename": "ValueError",
     "evalue": "vmap was requested to map its argument along axis 0, which implies that its rank should be at least 1, but is only 0 (its shape is ())",
     "output_type": "error",
     "traceback": [
      "\u001b[0;31m---------------------------------------------------------------------------\u001b[0m",
      "\u001b[0;31mIndexError\u001b[0m                                Traceback (most recent call last)",
      "\u001b[0;32m/opt/conda/lib/python3.7/site-packages/jax/_src/api.py\u001b[0m in \u001b[0;36m_get_axis_size\u001b[0;34m(name, shape, axis)\u001b[0m\n\u001b[1;32m   1537\u001b[0m     \u001b[0;32mtry\u001b[0m\u001b[0;34m:\u001b[0m\u001b[0;34m\u001b[0m\u001b[0;34m\u001b[0m\u001b[0m\n\u001b[0;32m-> 1538\u001b[0;31m       \u001b[0;32mreturn\u001b[0m \u001b[0mshape\u001b[0m\u001b[0;34m[\u001b[0m\u001b[0maxis\u001b[0m\u001b[0;34m]\u001b[0m\u001b[0;34m\u001b[0m\u001b[0;34m\u001b[0m\u001b[0m\n\u001b[0m\u001b[1;32m   1539\u001b[0m     \u001b[0;32mexcept\u001b[0m \u001b[0;34m(\u001b[0m\u001b[0mIndexError\u001b[0m\u001b[0;34m,\u001b[0m \u001b[0mTypeError\u001b[0m\u001b[0;34m)\u001b[0m \u001b[0;32mas\u001b[0m \u001b[0me\u001b[0m\u001b[0;34m:\u001b[0m\u001b[0;34m\u001b[0m\u001b[0;34m\u001b[0m\u001b[0m\n",
      "\u001b[0;31mIndexError\u001b[0m: tuple index out of range",
      "\nThe above exception was the direct cause of the following exception:\n",
      "\u001b[0;31mValueError\u001b[0m                                Traceback (most recent call last)",
      "\u001b[0;32m/tmp/ipykernel_270211/3794661048.py\u001b[0m in \u001b[0;36m<module>\u001b[0;34m\u001b[0m\n\u001b[1;32m      2\u001b[0m     \u001b[0;32mreturn\u001b[0m \u001b[0mx\u001b[0m\u001b[0;34m[\u001b[0m\u001b[0;34m\"1\"\u001b[0m\u001b[0;34m]\u001b[0m\u001b[0;34m**\u001b[0m\u001b[0;36m2\u001b[0m\u001b[0;34m\u001b[0m\u001b[0;34m\u001b[0m\u001b[0m\n\u001b[1;32m      3\u001b[0m \u001b[0;34m\u001b[0m\u001b[0m\n\u001b[0;32m----> 4\u001b[0;31m \u001b[0mvmap\u001b[0m\u001b[0;34m(\u001b[0m\u001b[0mtest\u001b[0m\u001b[0;34m,\u001b[0m \u001b[0min_axes\u001b[0m\u001b[0;34m=\u001b[0m\u001b[0;36m0\u001b[0m\u001b[0;34m)\u001b[0m\u001b[0;34m(\u001b[0m\u001b[0;34m[\u001b[0m\u001b[0;34m{\u001b[0m\u001b[0;34m\"1\"\u001b[0m\u001b[0;34m:\u001b[0m \u001b[0;36m1\u001b[0m\u001b[0;34m}\u001b[0m\u001b[0;34m,\u001b[0m \u001b[0;34m{\u001b[0m\u001b[0;34m\"1\"\u001b[0m\u001b[0;34m:\u001b[0m \u001b[0;36m2\u001b[0m\u001b[0;34m}\u001b[0m\u001b[0;34m]\u001b[0m\u001b[0;34m)\u001b[0m\u001b[0;34m\u001b[0m\u001b[0;34m\u001b[0m\u001b[0m\n\u001b[0m",
      "    \u001b[0;31m[... skipping hidden 4 frame]\u001b[0m\n",
      "\u001b[0;32m/opt/conda/lib/python3.7/site-packages/jax/_src/api.py\u001b[0m in \u001b[0;36m_get_axis_size\u001b[0;34m(name, shape, axis)\u001b[0m\n\u001b[1;32m   1541\u001b[0m       raise ValueError(f\"{name} was requested to map its argument along axis {axis}, \"\n\u001b[1;32m   1542\u001b[0m                        \u001b[0;34mf\"which implies that its rank should be at least {min_rank}, \"\u001b[0m\u001b[0;34m\u001b[0m\u001b[0;34m\u001b[0m\u001b[0m\n\u001b[0;32m-> 1543\u001b[0;31m                        f\"but is only {len(shape)} (its shape is {shape})\") from e\n\u001b[0m\u001b[1;32m   1544\u001b[0m \u001b[0;34m\u001b[0m\u001b[0m\n\u001b[1;32m   1545\u001b[0m   mapped_axis_sizes = {_get_axis_size(name, np.shape(x), d)\n",
      "\u001b[0;31mValueError\u001b[0m: vmap was requested to map its argument along axis 0, which implies that its rank should be at least 1, but is only 0 (its shape is ())"
     ]
    }
   ],
   "source": [
    "def test(x):\n",
    "    return x[\"1\"]**2\n",
    "\n",
    "vmap(test, in_axes=0)([{\"1\": 1}, {\"1\": 2}])"
   ]
  },
  {
   "cell_type": "code",
   "execution_count": 4,
   "id": "e2044073-2370-4ec2-909e-f5c0334cb36b",
   "metadata": {},
   "outputs": [],
   "source": [
    "rng = np.random.RandomState(31338)\n",
    "oms_per_line = 20\n",
    "dist_z = 50\n",
    "dark_noise_rate = 16 * 1e-5  # 1/ns\n",
    "det = make_triang(100, oms_per_line, dist_z, dark_noise_rate, rng)\n",
    "module_positions = jnp.asarray(det.module_coords)\n",
    "\"\"\"\n",
    "gen_ph = make_generate_photons_nn(\n",
    "    \"../hyperion/data/arival_time_pars_net_w_arriv_pos.dat\"\n",
    ")\n",
    "\"\"\"\n",
    "model_func, binning = make_net_eval_from_pickle(\"data/arrival_hist_net_2tts_jax.pickle\")\n",
    "\n",
    "amp_gen_func = make_generate_bin_amplitudes_nn(model_func, binning, c_medium_f)\n"
   ]
  },
  {
   "cell_type": "code",
   "execution_count": 5,
   "id": "df25c726-297e-4666-b630-97cc3f59eb55",
   "metadata": {},
   "outputs": [],
   "source": [
    "event_data = {\"t0\": 0., \"theta\": np.radians(30), \"phi\": np.radians(25), \"pos\": np.asarray([0, 0, 0.]), \"energy\": 5E5, \"pid\": 11}\n",
    "\n",
    "event_dir = sph_to_cart_np(event_data[\"theta\"], event_data[\"phi\"])"
   ]
  },
  {
   "cell_type": "code",
   "execution_count": 6,
   "id": "e0b5fd2c-595e-4e71-95df-0673a4d40f3c",
   "metadata": {},
   "outputs": [
    {
     "data": {
      "text/plain": [
       "'\\nevent, record = generate_cascade(\\n    det, event_data[\"pos\"], event_data[\"t0\"], event_dir, energy=event_data[\"energy\"], particle_id=event_data[\"pid\"], pprop_func=gen_ph,\\n    #converter_func=make_pointlike_cascade_source\\n)\\n'"
      ]
     },
     "execution_count": 6,
     "metadata": {},
     "output_type": "execute_result"
    }
   ],
   "source": [
    "\"\"\"\n",
    "event, record = generate_cascade(\n",
    "    det, event_data[\"pos\"], event_data[\"t0\"], event_dir, energy=event_data[\"energy\"], particle_id=event_data[\"pid\"], pprop_func=gen_ph,\n",
    "    #converter_func=make_pointlike_cascade_source\n",
    ")\n",
    "\"\"\""
   ]
  },
  {
   "cell_type": "code",
   "execution_count": 14,
   "id": "5ee85bb9-a289-46ea-a428-44ac25b4f0f7",
   "metadata": {},
   "outputs": [],
   "source": [
    "event_binned, record = generate_cascade(\n",
    "    det, event_data[\"pos\"], event_data[\"t0\"], event_dir, energy=event_data[\"energy\"], particle_id=event_data[\"pid\"], pprop_func=amp_gen_func,\n",
    "#converter_func=make_pointlike_cascade_source\n",
    ")"
   ]
  },
  {
   "cell_type": "code",
   "execution_count": 8,
   "id": "040f04a2",
   "metadata": {},
   "outputs": [],
   "source": [
    "from jax import vmap, random\n"
   ]
  },
  {
   "cell_type": "code",
   "execution_count": 9,
   "id": "10a53448-f7f3-48d9-844f-54233e4ad791",
   "metadata": {},
   "outputs": [
    {
     "data": {
      "text/plain": [
       "'\\nsources = [PhotonSource(np.asarray([0, 0, 0.]), 1E10, 0, np.asarray([0, 0, 1.])),\\n           PhotonSource(np.asarray([0, 0, 5.]), 1E10, 0, np.asarray([0, 0.5, 0.5]))]\\nevent_binned = amp_gen_func(det.module_coords, det.module_efficiencies, sources)\\nevent = gen_ph(det.module_coords, det.module_efficiencies, sources)\\n'"
      ]
     },
     "execution_count": 9,
     "metadata": {},
     "output_type": "execute_result"
    }
   ],
   "source": [
    "\"\"\"\n",
    "sources = [PhotonSource(np.asarray([0, 0, 0.]), 1E10, 0, np.asarray([0, 0, 1.])),\n",
    "           PhotonSource(np.asarray([0, 0, 5.]), 1E10, 0, np.asarray([0, 0.5, 0.5]))]\n",
    "event_binned = amp_gen_func(det.module_coords, det.module_efficiencies, sources)\n",
    "event = gen_ph(det.module_coords, det.module_efficiencies, sources)\n",
    "\"\"\""
   ]
  },
  {
   "cell_type": "code",
   "execution_count": 13,
   "id": "ffdd9e5e",
   "metadata": {},
   "outputs": [
    {
     "ename": "TypeError",
     "evalue": "sum requires ndarray or scalar arguments, got <class 'list'> at position 0.",
     "output_type": "error",
     "traceback": [
      "\u001b[0;31m---------------------------------------------------------------------------\u001b[0m",
      "\u001b[0;31mTypeError\u001b[0m                                 Traceback (most recent call last)",
      "\u001b[0;32m/tmp/ipykernel_198719/535440321.py\u001b[0m in \u001b[0;36m<module>\u001b[0;34m\u001b[0m\n\u001b[0;32m----> 1\u001b[0;31m \u001b[0mjnp\u001b[0m\u001b[0;34m.\u001b[0m\u001b[0msum\u001b[0m\u001b[0;34m(\u001b[0m\u001b[0mevent_binned\u001b[0m\u001b[0;34m[\u001b[0m\u001b[0;36m0\u001b[0m\u001b[0;34m]\u001b[0m\u001b[0;34m,\u001b[0m \u001b[0maxis\u001b[0m\u001b[0;34m=\u001b[0m\u001b[0;36m1\u001b[0m\u001b[0;34m)\u001b[0m\u001b[0;34m\u001b[0m\u001b[0;34m\u001b[0m\u001b[0m\n\u001b[0m",
      "\u001b[0;32m/opt/conda/lib/python3.7/site-packages/jax/_src/numpy/lax_numpy.py\u001b[0m in \u001b[0;36msum\u001b[0;34m(a, axis, dtype, out, keepdims, initial, where)\u001b[0m\n\u001b[1;32m   2567\u001b[0m         out=None, keepdims=None, initial=None, where=None):\n\u001b[1;32m   2568\u001b[0m   return _reduce_sum(a, axis=_ensure_optional_axes(axis), dtype=dtype, out=out,\n\u001b[0;32m-> 2569\u001b[0;31m                      keepdims=keepdims, initial=initial, where=where)\n\u001b[0m\u001b[1;32m   2570\u001b[0m \u001b[0;34m\u001b[0m\u001b[0m\n\u001b[1;32m   2571\u001b[0m \u001b[0;34m\u001b[0m\u001b[0m\n",
      "    \u001b[0;31m[... skipping hidden 15 frame]\u001b[0m\n",
      "\u001b[0;32m/opt/conda/lib/python3.7/site-packages/jax/_src/numpy/lax_numpy.py\u001b[0m in \u001b[0;36m_reduce_sum\u001b[0;34m(a, axis, dtype, out, keepdims, initial, where)\u001b[0m\n\u001b[1;32m   2561\u001b[0m                     \u001b[0mbool_op\u001b[0m\u001b[0;34m=\u001b[0m\u001b[0mlax\u001b[0m\u001b[0;34m.\u001b[0m\u001b[0mbitwise_or\u001b[0m\u001b[0;34m,\u001b[0m \u001b[0mupcast_f16_for_computation\u001b[0m\u001b[0;34m=\u001b[0m\u001b[0;32mTrue\u001b[0m\u001b[0;34m,\u001b[0m\u001b[0;34m\u001b[0m\u001b[0;34m\u001b[0m\u001b[0m\n\u001b[1;32m   2562\u001b[0m                     \u001b[0maxis\u001b[0m\u001b[0;34m=\u001b[0m\u001b[0maxis\u001b[0m\u001b[0;34m,\u001b[0m \u001b[0mdtype\u001b[0m\u001b[0;34m=\u001b[0m\u001b[0mdtype\u001b[0m\u001b[0;34m,\u001b[0m \u001b[0mout\u001b[0m\u001b[0;34m=\u001b[0m\u001b[0mout\u001b[0m\u001b[0;34m,\u001b[0m \u001b[0mkeepdims\u001b[0m\u001b[0;34m=\u001b[0m\u001b[0mkeepdims\u001b[0m\u001b[0;34m,\u001b[0m\u001b[0;34m\u001b[0m\u001b[0;34m\u001b[0m\u001b[0m\n\u001b[0;32m-> 2563\u001b[0;31m                     initial=initial, where_=where, parallel_reduce=lax.psum)\n\u001b[0m\u001b[1;32m   2564\u001b[0m \u001b[0;34m\u001b[0m\u001b[0m\n\u001b[1;32m   2565\u001b[0m \u001b[0;34m@\u001b[0m\u001b[0m_wraps\u001b[0m\u001b[0;34m(\u001b[0m\u001b[0mnp\u001b[0m\u001b[0;34m.\u001b[0m\u001b[0msum\u001b[0m\u001b[0;34m,\u001b[0m \u001b[0mskip_params\u001b[0m\u001b[0;34m=\u001b[0m\u001b[0;34m[\u001b[0m\u001b[0;34m'out'\u001b[0m\u001b[0;34m]\u001b[0m\u001b[0;34m)\u001b[0m\u001b[0;34m\u001b[0m\u001b[0;34m\u001b[0m\u001b[0m\n",
      "\u001b[0;32m/opt/conda/lib/python3.7/site-packages/jax/_src/numpy/lax_numpy.py\u001b[0m in \u001b[0;36m_reduction\u001b[0;34m(a, name, np_fun, op, init_val, has_identity, preproc, bool_op, upcast_f16_for_computation, axis, dtype, out, keepdims, initial, where_, parallel_reduce)\u001b[0m\n\u001b[1;32m   2468\u001b[0m   \u001b[0;32mif\u001b[0m \u001b[0mout\u001b[0m \u001b[0;32mis\u001b[0m \u001b[0;32mnot\u001b[0m \u001b[0;32mNone\u001b[0m\u001b[0;34m:\u001b[0m\u001b[0;34m\u001b[0m\u001b[0;34m\u001b[0m\u001b[0m\n\u001b[1;32m   2469\u001b[0m     \u001b[0;32mraise\u001b[0m \u001b[0mNotImplementedError\u001b[0m\u001b[0;34m(\u001b[0m\u001b[0;34mf\"The 'out' argument to jnp.{name} is not supported.\"\u001b[0m\u001b[0;34m)\u001b[0m\u001b[0;34m\u001b[0m\u001b[0;34m\u001b[0m\u001b[0m\n\u001b[0;32m-> 2470\u001b[0;31m   \u001b[0m_check_arraylike\u001b[0m\u001b[0;34m(\u001b[0m\u001b[0mname\u001b[0m\u001b[0;34m,\u001b[0m \u001b[0ma\u001b[0m\u001b[0;34m)\u001b[0m\u001b[0;34m\u001b[0m\u001b[0;34m\u001b[0m\u001b[0m\n\u001b[0m\u001b[1;32m   2471\u001b[0m   \u001b[0mlax\u001b[0m\u001b[0;34m.\u001b[0m\u001b[0m_check_user_dtype_supported\u001b[0m\u001b[0;34m(\u001b[0m\u001b[0mdtype\u001b[0m\u001b[0;34m,\u001b[0m \u001b[0mname\u001b[0m\u001b[0;34m)\u001b[0m\u001b[0;34m\u001b[0m\u001b[0;34m\u001b[0m\u001b[0m\n\u001b[1;32m   2472\u001b[0m   \u001b[0maxis\u001b[0m \u001b[0;34m=\u001b[0m \u001b[0mcore\u001b[0m\u001b[0;34m.\u001b[0m\u001b[0mconcrete_or_error\u001b[0m\u001b[0;34m(\u001b[0m\u001b[0;32mNone\u001b[0m\u001b[0;34m,\u001b[0m \u001b[0maxis\u001b[0m\u001b[0;34m,\u001b[0m \u001b[0;34mf\"axis argument to jnp.{name}().\"\u001b[0m\u001b[0;34m)\u001b[0m\u001b[0;34m\u001b[0m\u001b[0;34m\u001b[0m\u001b[0m\n",
      "\u001b[0;32m/opt/conda/lib/python3.7/site-packages/jax/_src/numpy/lax_numpy.py\u001b[0m in \u001b[0;36m_check_arraylike\u001b[0;34m(fun_name, *args)\u001b[0m\n\u001b[1;32m    576\u001b[0m                     if not _arraylike(arg))\n\u001b[1;32m    577\u001b[0m     \u001b[0mmsg\u001b[0m \u001b[0;34m=\u001b[0m \u001b[0;34m\"{} requires ndarray or scalar arguments, got {} at position {}.\"\u001b[0m\u001b[0;34m\u001b[0m\u001b[0;34m\u001b[0m\u001b[0m\n\u001b[0;32m--> 578\u001b[0;31m     \u001b[0;32mraise\u001b[0m \u001b[0mTypeError\u001b[0m\u001b[0;34m(\u001b[0m\u001b[0mmsg\u001b[0m\u001b[0;34m.\u001b[0m\u001b[0mformat\u001b[0m\u001b[0;34m(\u001b[0m\u001b[0mfun_name\u001b[0m\u001b[0;34m,\u001b[0m \u001b[0mtype\u001b[0m\u001b[0;34m(\u001b[0m\u001b[0marg\u001b[0m\u001b[0;34m)\u001b[0m\u001b[0;34m,\u001b[0m \u001b[0mpos\u001b[0m\u001b[0;34m)\u001b[0m\u001b[0;34m)\u001b[0m\u001b[0;34m\u001b[0m\u001b[0;34m\u001b[0m\u001b[0m\n\u001b[0m\u001b[1;32m    579\u001b[0m \u001b[0;34m\u001b[0m\u001b[0m\n\u001b[1;32m    580\u001b[0m \u001b[0;32mdef\u001b[0m \u001b[0m_check_no_float0s\u001b[0m\u001b[0;34m(\u001b[0m\u001b[0mfun_name\u001b[0m\u001b[0;34m,\u001b[0m \u001b[0;34m*\u001b[0m\u001b[0margs\u001b[0m\u001b[0;34m)\u001b[0m\u001b[0;34m:\u001b[0m\u001b[0;34m\u001b[0m\u001b[0;34m\u001b[0m\u001b[0m\n",
      "\u001b[0;31mTypeError\u001b[0m: sum requires ndarray or scalar arguments, got <class 'list'> at position 0."
     ]
    }
   ],
   "source": [
    "jnp.sum(event_binned[0], axis=1)"
   ]
  },
  {
   "cell_type": "code",
   "execution_count": 10,
   "id": "6f3a10f0-f28e-4d93-a818-61505d02ab01",
   "metadata": {},
   "outputs": [
    {
     "ename": "NameError",
     "evalue": "name 'medium' is not defined",
     "output_type": "error",
     "traceback": [
      "\u001b[0;31m---------------------------------------------------------------------------\u001b[0m",
      "\u001b[0;31mNameError\u001b[0m                                 Traceback (most recent call last)",
      "\u001b[0;32m/tmp/ipykernel_198719/1096257129.py\u001b[0m in \u001b[0;36m<module>\u001b[0;34m\u001b[0m\n\u001b[0;32m----> 1\u001b[0;31m \u001b[0mc_medium\u001b[0m \u001b[0;34m=\u001b[0m \u001b[0;36m0.299792458\u001b[0m \u001b[0;34m/\u001b[0m \u001b[0mmedium\u001b[0m\u001b[0;34m[\u001b[0m\u001b[0;34m\"n_ph\"\u001b[0m\u001b[0;34m]\u001b[0m\u001b[0;34m\u001b[0m\u001b[0;34m\u001b[0m\u001b[0m\n\u001b[0m\u001b[1;32m      2\u001b[0m \u001b[0mixs\u001b[0m \u001b[0;34m=\u001b[0m \u001b[0mak\u001b[0m\u001b[0;34m.\u001b[0m\u001b[0margsort\u001b[0m\u001b[0;34m(\u001b[0m\u001b[0mak\u001b[0m\u001b[0;34m.\u001b[0m\u001b[0mcount\u001b[0m\u001b[0;34m(\u001b[0m\u001b[0mevent\u001b[0m\u001b[0;34m,\u001b[0m \u001b[0maxis\u001b[0m\u001b[0;34m=\u001b[0m\u001b[0;36m1\u001b[0m\u001b[0;34m)\u001b[0m\u001b[0;34m,\u001b[0m \u001b[0mascending\u001b[0m\u001b[0;34m=\u001b[0m\u001b[0;32mFalse\u001b[0m\u001b[0;34m)\u001b[0m\u001b[0;34m\u001b[0m\u001b[0;34m\u001b[0m\u001b[0m\n\u001b[1;32m      3\u001b[0m \u001b[0;31m#binning = np.linspace(-20, 100, 120)\u001b[0m\u001b[0;34m\u001b[0m\u001b[0;34m\u001b[0m\u001b[0;34m\u001b[0m\u001b[0m\n\u001b[1;32m      4\u001b[0m \u001b[0;34m\u001b[0m\u001b[0m\n\u001b[1;32m      5\u001b[0m \u001b[0;32mdef\u001b[0m \u001b[0madd_tts\u001b[0m\u001b[0;34m(\u001b[0m\u001b[0mtimes\u001b[0m\u001b[0;34m,\u001b[0m \u001b[0mres\u001b[0m\u001b[0;34m)\u001b[0m\u001b[0;34m:\u001b[0m\u001b[0;34m\u001b[0m\u001b[0;34m\u001b[0m\u001b[0m\n",
      "\u001b[0;31mNameError\u001b[0m: name 'medium' is not defined"
     ]
    }
   ],
   "source": [
    "c_medium = 0.299792458 / medium[\"n_ph\"]\n",
    "ixs = jnp.sum(event_binned, axis=1)\n",
    "#binning = np.linspace(-20, 100, 120)\n",
    "\n",
    "def add_tts(times, res):\n",
    "    return times + np.random.normal(0, scale=res, size=len(times))\n",
    "\n",
    "\n",
    "for res in [2]:\n",
    "    \n",
    "    fig, axs = plt.subplots(2, 2, figsize=(16, 8))\n",
    "\n",
    "    colors = sns.color_palette(\"colorblind\")\n",
    "    for ix, ax in zip(ixs, axs.ravel()):\n",
    "\n",
    "        det_dist = np.linalg.norm(event_data[\"pos\"] - det.module_coords[ix])\n",
    "\n",
    "        times = np.asarray(event[ix])\n",
    "        tgeo = event_data[\"t0\"] + det_dist / c_medium\n",
    "        \n",
    "        amps, steps = event_binned[0][ix]\n",
    "        amps = amps.detach().cpu()\n",
    "        steps = steps.detach().cpu()\n",
    "\n",
    "        #sns.histplot(add_tts(event3[ix], res)-tgeo, bins=binning, color=colors[0], ax=ax, alpha=0.7, element=\"step\", fill=False, label=\"Pointlike\")\n",
    "        ax.step(steps, np.append(amps, amps[-1]), where=\"post\")\n",
    "        sns.histplot(add_tts(times, res), bins=steps, ax=ax, alpha=0.7, element=\"step\", color=colors[1], fill=False, label=\"EM\")\n",
    "        \n",
    "       \n",
    "        \n",
    "        #sns.histplot(add_tts(event2[ix], res)-tgeo, bins=binning, ax=ax, alpha=0.7, element=\"step\", color=colors[2], fill=False, label=\"Hadr\")\n",
    "\n",
    "        ax.set_yscale(\"log\")\n",
    "        ax.set_title(f\"Module Pos: { det.module_coords[ix]}\")\n",
    "        ax.set_xlim(steps[0] - 10, steps[0] + 150)\n",
    "    axs[0][0].legend()"
   ]
  },
  {
   "cell_type": "code",
   "execution_count": null,
   "id": "5be334a0-0c42-4ead-9859-6fda243e1ffb",
   "metadata": {},
   "outputs": [
    {
     "data": {
      "text/plain": [
       "[<matplotlib.lines.Line2D at 0x7fa039f74d10>]"
      ]
     },
     "execution_count": 25,
     "metadata": {},
     "output_type": "execute_result"
    },
    {
     "data": {
      "image/png": "[encoded data removed]",
      "text/plain": [
       "<Figure size 432x288 with 1 Axes>"
      ]
     },
     "metadata": {
      "needs_background": "light"
     },
     "output_type": "display_data"
    }
   ],
   "source": [
    "test_energy = 5E5\n",
    "em_counts_func, em_long_func, em_angles_func = fennel_instance.em_yields(energy=test_energy, particle=11, mean=True, function=True)\n",
    "had_counts_func, had_long_func, had_em_func, had_angles_func = fennel_instance.hadron_yields(energy=test_energy, particle=211, mean=True, function=True)\n",
    "\n",
    "zgrid = np.linspace(0, 15*100, 1000)\n",
    "\n",
    "#em_counts_val = em_counts_func(test_energy, wavelengths, 11, mean=True)\n",
    "em_long_val = em_long_func(test_energy, zgrid, fennel_instance._particles[11])\n",
    "hadr_long_val = had_long_func(test_energy, zgrid, fennel_instance._particles[211])\n",
    "#em_angles_val = em_angles_func(angle_grid, 1.33, fennel_instance._particles[11])\n",
    "\n",
    "\n",
    "\n",
    "\n",
    "\n",
    "int_grid = np.linspace(0, 20, 40)\n",
    "integrals_em = []\n",
    "integrals_had = []\n",
    "integrand_em = lambda z: em_long_func(event_data[\"energy\"], z, particle=fennel_instance._particles[11])\n",
    "integrand_had = lambda z: had_long_func(event_data[\"energy\"], z, particle=fennel_instance._particles[211])\n",
    "\n",
    "norm_em = scipy.integrate.quad(integrand_em, 0, np.infty)[0]\n",
    "norm_had = scipy.integrate.quad(integrand_had, 0, np.infty)[0]\n",
    "wavelengths = np.linspace(350, 500, 100)\n",
    "nph_em = np.trapz(em_counts_func(test_energy, wavelengths, particle=11).ravel(), wavelengths)\n",
    "nph_had = np.trapz(had_counts_func(test_energy, wavelengths, particle=211).ravel(), wavelengths)\n",
    "\n",
    "\n",
    "event_dir = sph_to_cart_np(event_data[\"theta\"], event_data[\"phi\"])\n",
    "\n",
    "ph_sources_em = []\n",
    "ph_sources_had = []\n",
    "for i in range(len(int_grid)-1):\n",
    "    \n",
    "    inte_em = scipy.integrate.quad(integrand_em, int_grid[i]*100, int_grid[i+1]*100)\n",
    "    integrals_em.append(inte_em[0]/norm_em*nph_em)\n",
    "    \n",
    "    inte_had = scipy.integrate.quad(integrand_had, int_grid[i]*100, int_grid[i+1]*100)\n",
    "    integrals_had.append(inte_had[0]/norm_had*nph_had)\n",
    "    \n",
    "    dist_along = 0.5*(int_grid[i] + int_grid[i+1])\n",
    "    src_pos = dist_along * event_dir + event_data[\"pos\"]\n",
    "    ph_sources_em.append(\n",
    "        PhotonSource(src_pos, inte_em[0]/norm_em*nph_em, event_data[\"t0\"] + dist_along / 0.299792458, event_dir)\n",
    "    )\n",
    "    \n",
    "    ph_sources_had.append(\n",
    "        PhotonSource(src_pos, inte_had[0]/norm_had*nph_had, event_data[\"t0\"] + dist_along / 0.299792458, event_dir)\n",
    "    )\n",
    "\n",
    "half = 0.5*(int_grid[1:] + int_grid[:-1])\n",
    "    \n",
    "plt.plot(half, integrals_em)\n",
    "plt.plot(half, integrals_had)"
   ]
  },
  {
   "cell_type": "code",
   "execution_count": null,
   "id": "0b87da82-07e6-4ce4-8c67-884b05282403",
   "metadata": {},
   "outputs": [
    {
     "name": "stderr",
     "output_type": "stream",
     "text": [
      "/opt/conda/lib/python3.7/site-packages/numba/core/ir_utils.py:2139: NumbaPendingDeprecationWarning: \u001b[1m\n",
      "Encountered the use of a type that is scheduled for deprecation: type 'reflected list' found for argument 'sources' of function 'sample_times'.\n",
      "\n",
      "For more information visit https://numba.pydata.org/numba-doc/latest/reference/deprecation.html#deprecation-of-reflection-for-list-and-set-types\n",
      "\u001b[1m\n",
      "File \"../gnn_testbed/gnn_testbed/event_generation/photon_propagation.py\", line 236:\u001b[0m\n",
      "\u001b[1m@jit(nopython=True)\n",
      "\u001b[1mdef sample_times(pdf_params, sources, module_coords, module_efficiencies, time_geo):\n",
      "\u001b[0m\u001b[1m^\u001b[0m\u001b[0m\n",
      "\u001b[0m\n",
      "  warnings.warn(NumbaPendingDeprecationWarning(msg, loc=loc))\n"
     ]
    }
   ],
   "source": [
    "event = gen_ph(det.module_coords, det.module_efficiencies, ph_sources_em)\n",
    "event2 = gen_ph(det.module_coords, det.module_efficiencies, ph_sources_had)\n",
    "\n",
    "event3 = gen_ph(det.module_coords, det.module_efficiencies,\n",
    "                [PhotonSource(event_data[\"pos\"], nph, event_data[\"t0\"], event_dir)])\n"
   ]
  },
  {
   "cell_type": "code",
   "execution_count": null,
   "id": "88c25be8-cb99-4c84-a98a-6a8aa6fed792",
   "metadata": {},
   "outputs": [],
   "source": [
    "det_dist"
   ]
  },
  {
   "cell_type": "code",
   "execution_count": null,
   "id": "4dc6dc83-71f8-4038-b40a-8c5d14c3b1e4",
   "metadata": {},
   "outputs": [
    {
     "data": {
      "text/plain": [
       "1.751211499790298e-08"
      ]
     },
     "execution_count": 13,
     "metadata": {},
     "output_type": "execute_result"
    }
   ],
   "source": []
  },
  {
   "cell_type": "code",
   "execution_count": 11,
   "id": "26790383-ba9e-490e-b645-9e59d047f31e",
   "metadata": {},
   "outputs": [
    {
     "ename": "NameError",
     "evalue": "name 'event' is not defined",
     "output_type": "error",
     "traceback": [
      "\u001b[0;31m---------------------------------------------------------------------------\u001b[0m",
      "\u001b[0;31mNameError\u001b[0m                                 Traceback (most recent call last)",
      "\u001b[0;32m/tmp/ipykernel_198719/346685053.py\u001b[0m in \u001b[0;36m<module>\u001b[0;34m\u001b[0m\n\u001b[0;32m----> 1\u001b[0;31m \u001b[0mixs\u001b[0m \u001b[0;34m=\u001b[0m \u001b[0mak\u001b[0m\u001b[0;34m.\u001b[0m\u001b[0margsort\u001b[0m\u001b[0;34m(\u001b[0m\u001b[0mak\u001b[0m\u001b[0;34m.\u001b[0m\u001b[0mcount\u001b[0m\u001b[0;34m(\u001b[0m\u001b[0mevent\u001b[0m\u001b[0;34m,\u001b[0m \u001b[0maxis\u001b[0m\u001b[0;34m=\u001b[0m\u001b[0;36m1\u001b[0m\u001b[0;34m)\u001b[0m\u001b[0;34m,\u001b[0m \u001b[0mascending\u001b[0m\u001b[0;34m=\u001b[0m\u001b[0;32mFalse\u001b[0m\u001b[0;34m)\u001b[0m\u001b[0;34m\u001b[0m\u001b[0;34m\u001b[0m\u001b[0m\n\u001b[0m\u001b[1;32m      2\u001b[0m \u001b[0mbinning\u001b[0m \u001b[0;34m=\u001b[0m \u001b[0mnp\u001b[0m\u001b[0;34m.\u001b[0m\u001b[0mlinspace\u001b[0m\u001b[0;34m(\u001b[0m\u001b[0;34m-\u001b[0m\u001b[0;36m20\u001b[0m\u001b[0;34m,\u001b[0m \u001b[0;36m100\u001b[0m\u001b[0;34m,\u001b[0m \u001b[0;36m120\u001b[0m\u001b[0;34m)\u001b[0m\u001b[0;34m\u001b[0m\u001b[0;34m\u001b[0m\u001b[0m\n\u001b[1;32m      3\u001b[0m \u001b[0;34m\u001b[0m\u001b[0m\n\u001b[1;32m      4\u001b[0m \u001b[0;32mdef\u001b[0m \u001b[0madd_tts\u001b[0m\u001b[0;34m(\u001b[0m\u001b[0mtimes\u001b[0m\u001b[0;34m,\u001b[0m \u001b[0mres\u001b[0m\u001b[0;34m)\u001b[0m\u001b[0;34m:\u001b[0m\u001b[0;34m\u001b[0m\u001b[0;34m\u001b[0m\u001b[0m\n\u001b[1;32m      5\u001b[0m     \u001b[0;32mreturn\u001b[0m \u001b[0mtimes\u001b[0m \u001b[0;34m+\u001b[0m \u001b[0mnp\u001b[0m\u001b[0;34m.\u001b[0m\u001b[0mrandom\u001b[0m\u001b[0;34m.\u001b[0m\u001b[0mnormal\u001b[0m\u001b[0;34m(\u001b[0m\u001b[0;36m0\u001b[0m\u001b[0;34m,\u001b[0m \u001b[0mscale\u001b[0m\u001b[0;34m=\u001b[0m\u001b[0mres\u001b[0m\u001b[0;34m,\u001b[0m \u001b[0msize\u001b[0m\u001b[0;34m=\u001b[0m\u001b[0mlen\u001b[0m\u001b[0;34m(\u001b[0m\u001b[0mtimes\u001b[0m\u001b[0;34m)\u001b[0m\u001b[0;34m)\u001b[0m\u001b[0;34m\u001b[0m\u001b[0;34m\u001b[0m\u001b[0m\n",
      "\u001b[0;31mNameError\u001b[0m: name 'event' is not defined"
     ]
    }
   ],
   "source": [
    "ixs = ak.argsort(ak.count(event, axis=1), ascending=False)\n",
    "binning = np.linspace(-20, 100, 120)\n",
    "\n",
    "def add_tts(times, res):\n",
    "    return times + np.random.normal(0, scale=res, size=len(times))\n",
    "\n",
    "\n",
    "for res in [0, 3,]:\n",
    "    \n",
    "    fig, axs = plt.subplots(2, 2, figsize=(16, 8))\n",
    "\n",
    "    colors = sns.color_palette(\"colorblind\")\n",
    "    for ix, ax in zip(ixs, axs.ravel()):\n",
    "\n",
    "        det_dist = np.linalg.norm(event_data[\"pos\"] - det.module_coords[ix])\n",
    "\n",
    "        times = np.asarray(event[ix])\n",
    "        tgeo = event_data[\"t0\"] + det_dist / c_medium\n",
    "\n",
    "        #sns.histplot(add_tts(event3[ix], res)-tgeo, bins=binning, color=colors[0], ax=ax, alpha=0.7, element=\"step\", fill=False, label=\"Pointlike\")\n",
    "        sns.histplot(add_tts(times, res)-tgeo, bins=binning, ax=ax, alpha=0.7, element=\"step\", color=colors[1], fill=False, label=\"EM\")\n",
    "        #sns.histplot(add_tts(event2[ix], res)-tgeo, bins=binning, ax=ax, alpha=0.7, element=\"step\", color=colors[2], fill=False, label=\"Hadr\")\n",
    "\n",
    "        ax.set_yscale(\"log\")\n",
    "        ax.set_title(f\"Module Pos: { det.module_coords[ix]}\")\n",
    "    axs[0][0].legend()"
   ]
  },
  {
   "cell_type": "code",
   "execution_count": null,
   "id": "56dcc726-d688-4435-b5fc-c87431177726",
   "metadata": {},
   "outputs": [
    {
     "ename": "KeyError",
     "evalue": "'dir'",
     "output_type": "error",
     "traceback": [
      "\u001b[0;31m---------------------------------------------------------------------------\u001b[0m",
      "\u001b[0;31mKeyError\u001b[0m                                  Traceback (most recent call last)",
      "\u001b[0;32m/tmp/ipykernel_191/1740071944.py\u001b[0m in \u001b[0;36m<module>\u001b[0;34m\u001b[0m\n\u001b[0;32m----> 1\u001b[0;31m \u001b[0mevent_data\u001b[0m\u001b[0;34m[\u001b[0m\u001b[0;34m\"dir\"\u001b[0m\u001b[0;34m]\u001b[0m\u001b[0;34m\u001b[0m\u001b[0;34m\u001b[0m\u001b[0m\n\u001b[0m",
      "\u001b[0;31mKeyError\u001b[0m: 'dir'"
     ]
    }
   ],
   "source": [
    "event_data[\"dir\"]"
   ]
  },
  {
   "cell_type": "code",
   "execution_count": null,
   "id": "0e99a947-7904-42b1-bcfd-23068f942d4b",
   "metadata": {},
   "outputs": [
    {
     "data": {
      "text/plain": [
       "1.1489956796984508"
      ]
     },
     "execution_count": 22,
     "metadata": {},
     "output_type": "execute_result"
    },
    {
     "data": {
      "image/png": "[encoded data removed]",
      "text/plain": [
       "<Figure size 432x288 with 1 Axes>"
      ]
     },
     "metadata": {
      "needs_background": "light"
     },
     "output_type": "display_data"
    }
   ],
   "source": [
    "\n",
    "plt.plot(wavelengths, em_counts_func(test_energy, wavelengths, particle=11))\n",
    " / (5.3 * 250 * 1E2 * test_energy  )"
   ]
  },
  {
   "cell_type": "code",
   "execution_count": null,
   "id": "95679b05-2b59-4135-a235-6d33b01dd5c2",
   "metadata": {},
   "outputs": [
    {
     "data": {
      "text/plain": [
       "118410012272.75581"
      ]
     },
     "execution_count": 15,
     "metadata": {},
     "output_type": "execute_result"
    }
   ],
   "source": []
  },
  {
   "cell_type": "code",
   "execution_count": null,
   "id": "2c812bbb-0888-402d-a7b5-0c504ba7a54e",
   "metadata": {},
   "outputs": [
    {
     "data": {
      "text/plain": [
       "66250000000.0"
      ]
     },
     "execution_count": 16,
     "metadata": {},
     "output_type": "execute_result"
    }
   ],
   "source": []
  },
  {
   "cell_type": "code",
   "execution_count": null,
   "id": "86868c01-f4bc-4cf3-8333-f39b9d725fc3",
   "metadata": {},
   "outputs": [
    {
     "data": {
      "text/plain": [
       "array([300., 310., 320., 330., 340., 350., 360., 370., 380., 390., 400.,\n",
       "       410., 420., 430., 440., 450., 460., 470., 480., 490., 500., 510.,\n",
       "       520., 530., 540., 550., 560., 570., 580., 590., 600.])"
      ]
     },
     "execution_count": 44,
     "metadata": {},
     "output_type": "execute_result"
    }
   ],
   "source": [
    "config['advanced']['wavelengths']"
   ]
  },
  {
   "cell_type": "code",
   "execution_count": null,
   "id": "66dfed88-19ec-46f4-bb3a-5b5384110abc",
   "metadata": {},
   "outputs": [
    {
     "ename": "NameError",
     "evalue": "name 'em_counts_val' is not defined",
     "output_type": "error",
     "traceback": [
      "\u001b[0;31m---------------------------------------------------------------------------\u001b[0m",
      "\u001b[0;31mNameError\u001b[0m                                 Traceback (most recent call last)",
      "\u001b[0;32m/tmp/ipykernel_80/2759648688.py\u001b[0m in \u001b[0;36m<module>\u001b[0;34m\u001b[0m\n\u001b[0;32m----> 1\u001b[0;31m \u001b[0mem_counts_val\u001b[0m \u001b[0;34m/\u001b[0m \u001b[0mnp\u001b[0m\u001b[0;34m.\u001b[0m\u001b[0mdiff\u001b[0m\u001b[0;34m(\u001b[0m\u001b[0mwavelengths\u001b[0m\u001b[0;34m)\u001b[0m\u001b[0;34m[\u001b[0m\u001b[0;36m0\u001b[0m\u001b[0;34m]\u001b[0m\u001b[0;34m\u001b[0m\u001b[0;34m\u001b[0m\u001b[0m\n\u001b[0m",
      "\u001b[0;31mNameError\u001b[0m: name 'em_counts_val' is not defined"
     ]
    }
   ],
   "source": [
    "em_counts_val / np.diff(wavelengths)[0]"
   ]
  },
  {
   "cell_type": "code",
   "execution_count": null,
   "id": "cecbfe92-1a01-49a3-8189-96793d142977",
   "metadata": {},
   "outputs": [],
   "source": [
    "event_data = {\"t0\":, 0, \"theta\": np.radians(10), \"phi\": np.radians(20), \"pos\": np.asarray([0, 0, 0.]), \"energy\": 1E5}\n",
    "event, record = generate_cascade(\n",
    "    det, pos, t0_gen, cdir, n_photons=amp_gen, pprop_func=gen_ph\n",
    ")"
   ]
  }
 ],
 "metadata": {
  "kernelspec": {
   "display_name": "Python 3 (ipykernel)",
   "language": "python",
   "name": "python3"
  },
  "language_info": {
   "codemirror_mode": {
    "name": "ipython",
    "version": 3
   },
   "file_extension": ".py",
   "mimetype": "text/x-python",
   "name": "python",
   "nbconvert_exporter": "python",
   "pygments_lexer": "ipython3",
   "version": "3.7.10"
  }
 },
 "nbformat": 4,
 "nbformat_minor": 5
}
