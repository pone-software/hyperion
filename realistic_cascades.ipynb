{
 "cells": [
  {
   "cell_type": "code",
   "execution_count": 1,
   "id": "c2dafec0-8ef4-4350-9401-618eaf3e1855",
   "metadata": {},
   "outputs": [],
   "source": [
    "import pickle\n",
    "import os\n",
    "os.environ[\"XLA_PYTHON_CLIENT_MEM_FRACTION\"]=\"0.8\"\n",
    "\n",
    "from jax.config import config\n",
    "#config.update(\"jax_enable_x64\", True)\n",
    "config.update(\"jax_debug_nans\", True)\n",
    "\n",
    "import matplotlib as mpl\n",
    "import matplotlib.pyplot as plt\n",
    "import numpy as np\n",
    "import scipy.optimize\n",
    "import seaborn as sns\n",
    "from tqdm.notebook import tqdm, trange\n",
    "\n",
    "from itertools import product\n",
    "import functools\n",
    "import awkward as ak\n",
    "import pandas as pd\n",
    "from hyperion.constants import Constants\n",
    "from olympus.event_generation.mc_record import MCRecord\n",
    "from olympus.event_generation.photon_source import PhotonSource, PhotonSourceType\n",
    "from olympus.event_generation.photon_propagation.norm_flow_photons import make_generate_norm_flow_photons, make_nflow_photon_likelihood, make_nflow_photon_likelihood_per_module\n",
    "from olympus.event_generation.photon_propagation.utils import sources_to_model_input_per_module, sources_to_array\n",
    "from olympus.event_generation.detector import make_hex_grid, Detector, make_line, make_triang, make_rhombus\n",
    "from olympus.event_generation.event_generation import generate_cascade, generate_muon_energy_losses, generate_realistic_track, simulate_noise\n",
    "from olympus.event_generation.lightyield import make_pointlike_cascade_source, make_realistic_cascade_source\n",
    "from olympus.event_generation.utils import proposal_setup\n",
    "from olympus.plotting.plotting import plot_event\n",
    "from olympus.optimization.fisher_information import  calc_fisher_info_cascades, pad_event\n",
    "\n",
    "from hyperion.utils import (\n",
    "    make_cascadia_abs_len_func,\n",
    ")\n",
    "from hyperion.pmt.pmt import make_calc_wl_acceptance_weight\n",
    "from hyperion.medium import cascadia_ref_index_func, sca_len_func_antares\n",
    "from hyperion.constants import Constants\n",
    "\n",
    "from hyperion.models.photon_arrival_time_nflow.net import (\n",
    "    make_counts_net_fn,\n",
    "    make_shape_conditioner_fn,\n",
    "    sample_shape_model,\n",
    "    traf_dist_builder,\n",
    "    eval_log_prob\n",
    ")\n",
    "\n",
    "import jax\n",
    "from jax import jit, random\n",
    "from jax import numpy as jnp\n",
    "from jax import value_and_grad\n",
    "from numba.typed import List\n",
    "from jax.experimental.maps import xmap, SerialLoop\n",
    "\n",
    "from fennel import Fennel, config\n",
    "\n",
    "import json\n",
    "%matplotlib inline\n",
    "from scipy.integrate import quad"
   ]
  },
  {
   "cell_type": "code",
   "execution_count": 2,
   "id": "51a311fe-bc30-4193-953c-a75819aca95c",
   "metadata": {},
   "outputs": [],
   "source": [
    "def sph_to_cart_jnp(theta, phi=0):\n",
    "    \"\"\"Transform spherical to cartesian coordinates.\"\"\"\n",
    "    x = jnp.sin(theta) * jnp.cos(phi)\n",
    "    y = jnp.sin(theta) * jnp.sin(phi)\n",
    "    z = jnp.cos(theta)\n",
    "\n",
    "    return jnp.asarray([x, y, z], dtype=jnp.float64)\n",
    "\n",
    "ref_index_func = cascadia_ref_index_func\n",
    "abs_len = make_cascadia_abs_len_func(sca_len_func_antares)\n",
    "\n",
    "def c_medium_f(wl):\n",
    "    \"\"\"Speed of light in medium for wl (nm).\"\"\"\n",
    "    return Constants.BaseConstants.c_vac / cascadia_ref_index_func(wl)\n",
    "\n",
    "\n"
   ]
  },
  {
   "cell_type": "code",
   "execution_count": 3,
   "id": "de1fcf3e",
   "metadata": {},
   "outputs": [],
   "source": [
    "lh_per_mod = (make_nflow_photon_likelihood_per_module(\n",
    "    \"data/photon_arrival_time_nflow_params.pickle\",\n",
    "    \"data/photon_arrival_time_counts_params.pickle\",\n",
    "    \n",
    "))\n",
    "\n",
    "lh_per_mod_first = (make_nflow_photon_likelihood_per_module(\n",
    "    \"data/photon_arrival_time_nflow_params.pickle\",\n",
    "    \"data/photon_arrival_time_counts_params.pickle\",\n",
    "    mode=\"tfirst\"\n",
    "    \n",
    "))\n",
    "\n",
    "#lh_per_mod_vtime = jax.vmap(lh_per_mod, in_axes=[0, None, None, None, None, None, None, None])"
   ]
  },
  {
   "cell_type": "code",
   "execution_count": 4,
   "id": "c95f390e",
   "metadata": {},
   "outputs": [],
   "source": [
    "module_coords = jnp.asarray([30., 0, 0.])\n",
    "source_pos = jnp.asarray([[0, 0, 0]])\n",
    "source_dir = jnp.asarray([[1., 0, 0]])\n",
    "source_time = jnp.asarray([0])\n",
    "source_photons = jnp.asarray([1E9])\n",
    "\n",
    "\n",
    "c_medium = c_medium_f(700) / 1E9\n",
    "t_geo = jnp.linalg.norm(source_pos - module_coords) / c_medium\n",
    "\n",
    "time = jnp.linspace(-20+t_geo, 100+t_geo, 100)\n"
   ]
  },
  {
   "cell_type": "code",
   "execution_count": 5,
   "id": "431eacbf",
   "metadata": {},
   "outputs": [
    {
     "data": {
      "text/plain": [
       "(DeviceArray([-17.962286], dtype=float32),\n",
       " DeviceArray(-625.8377, dtype=float32))"
      ]
     },
     "execution_count": 5,
     "metadata": {},
     "output_type": "execute_result"
    }
   ],
   "source": [
    "lh_per_mod_first(\n",
    "        time,\n",
    "        1,\n",
    "        module_coords,\n",
    "        source_pos,\n",
    "        source_dir,\n",
    "        source_time,\n",
    "        source_photons,\n",
    "        c_medium,\n",
    "        1E-5)"
   ]
  },
  {
   "cell_type": "code",
   "execution_count": 7,
   "id": "52fca904",
   "metadata": {},
   "outputs": [
    {
     "data": {
      "text/plain": [
       "[<matplotlib.lines.Line2D at 0x7fa988036490>]"
      ]
     },
     "execution_count": 7,
     "metadata": {},
     "output_type": "execute_result"
    },
    {
     "data": {
      "image/png": "[encoded data removed]",
      "text/plain": [
       "<Figure size 432x288 with 1 Axes>"
      ]
     },
     "metadata": {
      "needs_background": "light"
     },
     "output_type": "display_data"
    }
   ],
   "source": [
    "time = jnp.linspace(t_geo-4, 200+t_geo, 1000).reshape(1000, 1)\n",
    "lhs = jax.vmap(lh_per_mod, in_axes=[0] + [None] * 8)(\n",
    "        time,\n",
    "        1,\n",
    "        module_coords,\n",
    "        source_pos,\n",
    "        source_dir,\n",
    "        source_time,\n",
    "        source_photons,\n",
    "        c_medium,\n",
    "        1E-5)\n",
    "plt.plot(time, lhs.squeeze())"
   ]
  },
  {
   "cell_type": "code",
   "execution_count": 11,
   "id": "afbb4163",
   "metadata": {},
   "outputs": [
    {
     "name": "stdout",
     "output_type": "stream",
     "text": [
      "0.8005849\n",
      "0.9699342\n"
     ]
    },
    {
     "data": {
      "image/png": "[encoded data removed]",
      "text/plain": [
       "<Figure size 432x288 with 1 Axes>"
      ]
     },
     "metadata": {
      "needs_background": "light"
     },
     "output_type": "display_data"
    }
   ],
   "source": [
    "time = jnp.linspace(-1000+t_geo, 100+t_geo, 1000).reshape(1000, 1)\n",
    "\n",
    "lhs = jax.vmap(lh_per_mod, in_axes=[0] + [None] * 8)(\n",
    "        time,\n",
    "        1,\n",
    "        module_coords,\n",
    "        source_pos,\n",
    "        source_dir,\n",
    "        source_time,\n",
    "        source_photons,\n",
    "        c_medium,\n",
    "        1E-5)\n",
    "plt.plot(time, lhs.squeeze())\n",
    "\n",
    "\n",
    "time = jnp.linspace(-1000+t_geo, 400+t_geo, 3000)\n",
    "tmins = time.reshape(time.shape[0], 1)\n",
    "\n",
    "lhs = jax.vmap(lh_per_mod_first, in_axes=[0] + [None] * 8)(\n",
    "        time,\n",
    "        4,\n",
    "        module_coords,\n",
    "        source_pos,\n",
    "        source_dir,\n",
    "        source_time,\n",
    "        source_photons,\n",
    "        c_medium,\n",
    "        1E-5)\n",
    "plt.plot(time, lhs[0].squeeze())\n",
    "print(jnp.trapz(jnp.exp(lhs[0]).squeeze(), x=time))\n",
    "\n",
    "lhs = jax.vmap(lh_per_mod_first, in_axes=[0] + [None] * 8)(\n",
    "        time,\n",
    "        100,\n",
    "        module_coords,\n",
    "        source_pos,\n",
    "        source_dir,\n",
    "        source_time,\n",
    "        source_photons,\n",
    "        c_medium,\n",
    "        1E-5)\n",
    "plt.plot(time, lhs[0].squeeze())\n",
    "\n",
    "plt.ylim(-20, 1)\n",
    "print(jnp.trapz(jnp.exp(lhs[0]).squeeze(), x=time))\n"
   ]
  },
  {
   "cell_type": "code",
   "execution_count": null,
   "id": "42a18684",
   "metadata": {},
   "outputs": [
    {
     "data": {
      "text/plain": [
       "(1000, 1, 1)"
      ]
     },
     "execution_count": 8,
     "metadata": {},
     "output_type": "execute_result"
    }
   ],
   "source": [
    "lhs.shape"
   ]
  },
  {
   "cell_type": "code",
   "execution_count": null,
   "id": "ff71a6a9",
   "metadata": {},
   "outputs": [
    {
     "data": {
      "text/plain": [
       "DeviceArray(0.9956629, dtype=float32)"
      ]
     },
     "execution_count": 7,
     "metadata": {},
     "output_type": "execute_result"
    }
   ],
   "source": [
    "time = jnp.linspace(-1000+t_geo, 4000+t_geo, 5000)\n",
    "lhs = lh_per_mod(\n",
    "        time,\n",
    "        1,\n",
    "        module_coords,\n",
    "        source_pos,\n",
    "        source_dir,\n",
    "        source_time,\n",
    "        source_photons,\n",
    "        c_medium,\n",
    "        1E-5)\n",
    "jnp.trapz(jnp.exp(lhs).squeeze(), x=time)"
   ]
  },
  {
   "cell_type": "code",
   "execution_count": 8,
   "id": "9d9dd14a",
   "metadata": {},
   "outputs": [
    {
     "name": "stdout",
     "output_type": "stream",
     "text": [
      "Invalid value encountered in the output of a jit/pmap-ed function. Calling the de-optimized version.\n"
     ]
    },
    {
     "ename": "FloatingPointError",
     "evalue": "invalid value (nan) encountered in log",
     "output_type": "error",
     "traceback": [
      "\u001b[0;31m---------------------------------------------------------------------------\u001b[0m",
      "\u001b[0;31mFloatingPointError\u001b[0m                        Traceback (most recent call last)",
      "    \u001b[0;31m[... skipping hidden 1 frame]\u001b[0m\n",
      "\u001b[0;32m/opt/conda/lib/python3.7/site-packages/jax/_src/dispatch.py\u001b[0m in \u001b[0;36m_execute_compiled\u001b[0;34m(name, compiled, output_buffer_counts, result_handlers, kept_var_idx, *args)\u001b[0m\n\u001b[1;32m    444\u001b[0m   \u001b[0mout_bufs\u001b[0m \u001b[0;34m=\u001b[0m \u001b[0mcompiled\u001b[0m\u001b[0;34m.\u001b[0m\u001b[0mexecute\u001b[0m\u001b[0;34m(\u001b[0m\u001b[0minput_bufs\u001b[0m\u001b[0;34m)\u001b[0m\u001b[0;34m\u001b[0m\u001b[0;34m\u001b[0m\u001b[0m\n\u001b[0;32m--> 445\u001b[0;31m   \u001b[0mcheck_special\u001b[0m\u001b[0;34m(\u001b[0m\u001b[0mname\u001b[0m\u001b[0;34m,\u001b[0m \u001b[0mout_bufs\u001b[0m\u001b[0;34m)\u001b[0m\u001b[0;34m\u001b[0m\u001b[0;34m\u001b[0m\u001b[0m\n\u001b[0m\u001b[1;32m    446\u001b[0m   \u001b[0;32mif\u001b[0m \u001b[0moutput_buffer_counts\u001b[0m \u001b[0;32mis\u001b[0m \u001b[0;32mNone\u001b[0m\u001b[0;34m:\u001b[0m\u001b[0;34m\u001b[0m\u001b[0;34m\u001b[0m\u001b[0m\n",
      "\u001b[0;32m/opt/conda/lib/python3.7/site-packages/jax/_src/dispatch.py\u001b[0m in \u001b[0;36mcheck_special\u001b[0;34m(name, bufs)\u001b[0m\n\u001b[1;32m    426\u001b[0m     \u001b[0;32mfor\u001b[0m \u001b[0mbuf\u001b[0m \u001b[0;32min\u001b[0m \u001b[0mbufs\u001b[0m\u001b[0;34m:\u001b[0m\u001b[0;34m\u001b[0m\u001b[0;34m\u001b[0m\u001b[0m\n\u001b[0;32m--> 427\u001b[0;31m       \u001b[0m_check_special\u001b[0m\u001b[0;34m(\u001b[0m\u001b[0mname\u001b[0m\u001b[0;34m,\u001b[0m \u001b[0mbuf\u001b[0m\u001b[0;34m.\u001b[0m\u001b[0mxla_shape\u001b[0m\u001b[0;34m(\u001b[0m\u001b[0;34m)\u001b[0m\u001b[0;34m,\u001b[0m \u001b[0mbuf\u001b[0m\u001b[0;34m)\u001b[0m\u001b[0;34m\u001b[0m\u001b[0;34m\u001b[0m\u001b[0m\n\u001b[0m\u001b[1;32m    428\u001b[0m \u001b[0;34m\u001b[0m\u001b[0m\n",
      "\u001b[0;32m/opt/conda/lib/python3.7/site-packages/jax/_src/dispatch.py\u001b[0m in \u001b[0;36m_check_special\u001b[0;34m(name, xla_shape, buf)\u001b[0m\n\u001b[1;32m    432\u001b[0m     \u001b[0;32mif\u001b[0m \u001b[0mconfig\u001b[0m\u001b[0;34m.\u001b[0m\u001b[0mjax_debug_nans\u001b[0m \u001b[0;32mand\u001b[0m \u001b[0mnp\u001b[0m\u001b[0;34m.\u001b[0m\u001b[0many\u001b[0m\u001b[0;34m(\u001b[0m\u001b[0mnp\u001b[0m\u001b[0;34m.\u001b[0m\u001b[0misnan\u001b[0m\u001b[0;34m(\u001b[0m\u001b[0mbuf\u001b[0m\u001b[0;34m.\u001b[0m\u001b[0mto_py\u001b[0m\u001b[0;34m(\u001b[0m\u001b[0;34m)\u001b[0m\u001b[0;34m)\u001b[0m\u001b[0;34m)\u001b[0m\u001b[0;34m:\u001b[0m\u001b[0;34m\u001b[0m\u001b[0;34m\u001b[0m\u001b[0m\n\u001b[0;32m--> 433\u001b[0;31m       \u001b[0;32mraise\u001b[0m \u001b[0mFloatingPointError\u001b[0m\u001b[0;34m(\u001b[0m\u001b[0;34mf\"invalid value (nan) encountered in {name}\"\u001b[0m\u001b[0;34m)\u001b[0m\u001b[0;34m\u001b[0m\u001b[0;34m\u001b[0m\u001b[0m\n\u001b[0m\u001b[1;32m    434\u001b[0m     \u001b[0;32mif\u001b[0m \u001b[0mconfig\u001b[0m\u001b[0;34m.\u001b[0m\u001b[0mjax_debug_infs\u001b[0m \u001b[0;32mand\u001b[0m \u001b[0mnp\u001b[0m\u001b[0;34m.\u001b[0m\u001b[0many\u001b[0m\u001b[0;34m(\u001b[0m\u001b[0mnp\u001b[0m\u001b[0;34m.\u001b[0m\u001b[0misinf\u001b[0m\u001b[0;34m(\u001b[0m\u001b[0mbuf\u001b[0m\u001b[0;34m.\u001b[0m\u001b[0mto_py\u001b[0m\u001b[0;34m(\u001b[0m\u001b[0;34m)\u001b[0m\u001b[0;34m)\u001b[0m\u001b[0;34m)\u001b[0m\u001b[0;34m:\u001b[0m\u001b[0;34m\u001b[0m\u001b[0;34m\u001b[0m\u001b[0m\n",
      "\u001b[0;31mFloatingPointError\u001b[0m: invalid value (nan) encountered in vmap(<lambda>)",
      "\nDuring handling of the above exception, another exception occurred:\n",
      "\u001b[0;31mFloatingPointError\u001b[0m                        Traceback (most recent call last)",
      "\u001b[0;32m/tmp/ipykernel_603634/23149082.py\u001b[0m in \u001b[0;36m<module>\u001b[0;34m\u001b[0m\n\u001b[1;32m     10\u001b[0m         \u001b[0msource_photons\u001b[0m\u001b[0;34m,\u001b[0m\u001b[0;34m\u001b[0m\u001b[0;34m\u001b[0m\u001b[0m\n\u001b[1;32m     11\u001b[0m         \u001b[0mc_medium\u001b[0m\u001b[0;34m,\u001b[0m\u001b[0;34m\u001b[0m\u001b[0;34m\u001b[0m\u001b[0m\n\u001b[0;32m---> 12\u001b[0;31m         1E-5), x=tmins)\n\u001b[0m",
      "    \u001b[0;31m[... skipping hidden 3 frame]\u001b[0m\n",
      "\u001b[0;32m/tmp/ipykernel_603634/2151856916.py\u001b[0m in \u001b[0;36meval_per_module_likelihood\u001b[0;34m(time, n_measured, module_coords, source_pos, source_dir, source_time, source_photons, c_medium, noise_rate)\u001b[0m\n\u001b[1;32m    131\u001b[0m             \u001b[0mcumul\u001b[0m \u001b[0;34m=\u001b[0m \u001b[0mjnp\u001b[0m\u001b[0;34m.\u001b[0m\u001b[0mtrapz\u001b[0m\u001b[0;34m(\u001b[0m\u001b[0mjnp\u001b[0m\u001b[0;34m.\u001b[0m\u001b[0mexp\u001b[0m\u001b[0;34m(\u001b[0m\u001b[0mtotal_lh\u001b[0m\u001b[0;34m(\u001b[0m\u001b[0mtsamples\u001b[0m\u001b[0;34m)\u001b[0m\u001b[0;34m)\u001b[0m\u001b[0;34m,\u001b[0m \u001b[0mx\u001b[0m\u001b[0;34m=\u001b[0m\u001b[0mtsamples\u001b[0m\u001b[0;34m,\u001b[0m \u001b[0maxis\u001b[0m\u001b[0;34m=\u001b[0m\u001b[0;36m1\u001b[0m\u001b[0;34m)\u001b[0m\u001b[0;34m\u001b[0m\u001b[0;34m\u001b[0m\u001b[0m\n\u001b[1;32m    132\u001b[0m \u001b[0;34m\u001b[0m\u001b[0m\n\u001b[0;32m--> 133\u001b[0;31m             \u001b[0mllh\u001b[0m \u001b[0;34m=\u001b[0m \u001b[0mtotal_lh\u001b[0m\u001b[0;34m(\u001b[0m\u001b[0mtfirst\u001b[0m\u001b[0;34m)\u001b[0m \u001b[0;34m+\u001b[0m \u001b[0mjnp\u001b[0m\u001b[0;34m.\u001b[0m\u001b[0mlog\u001b[0m\u001b[0;34m(\u001b[0m\u001b[0;36m1\u001b[0m\u001b[0;34m-\u001b[0m \u001b[0mcumul\u001b[0m\u001b[0;34m)\u001b[0m \u001b[0;34m*\u001b[0m \u001b[0mn_measured\u001b[0m\u001b[0;34m\u001b[0m\u001b[0;34m\u001b[0m\u001b[0m\n\u001b[0m\u001b[1;32m    134\u001b[0m \u001b[0;34m\u001b[0m\u001b[0m\n\u001b[1;32m    135\u001b[0m             \u001b[0;32mreturn\u001b[0m \u001b[0mllh\u001b[0m\u001b[0;34m\u001b[0m\u001b[0;34m\u001b[0m\u001b[0m\n",
      "    \u001b[0;31m[... skipping hidden 10 frame]\u001b[0m\n",
      "\u001b[0;32m/opt/conda/lib/python3.7/site-packages/jax/_src/numpy/lax_numpy.py\u001b[0m in \u001b[0;36m<lambda>\u001b[0;34m(x)\u001b[0m\n\u001b[1;32m    671\u001b[0m \u001b[0;32mdef\u001b[0m \u001b[0m_one_to_one_unop\u001b[0m\u001b[0;34m(\u001b[0m\u001b[0mnumpy_fn\u001b[0m\u001b[0;34m,\u001b[0m \u001b[0mlax_fn\u001b[0m\u001b[0;34m,\u001b[0m \u001b[0mpromote_to_inexact\u001b[0m\u001b[0;34m=\u001b[0m\u001b[0;32mFalse\u001b[0m\u001b[0;34m,\u001b[0m \u001b[0mlax_doc\u001b[0m\u001b[0;34m=\u001b[0m\u001b[0;32mFalse\u001b[0m\u001b[0;34m)\u001b[0m\u001b[0;34m:\u001b[0m\u001b[0;34m\u001b[0m\u001b[0;34m\u001b[0m\u001b[0m\n\u001b[1;32m    672\u001b[0m   \u001b[0;32mif\u001b[0m \u001b[0mpromote_to_inexact\u001b[0m\u001b[0;34m:\u001b[0m\u001b[0;34m\u001b[0m\u001b[0;34m\u001b[0m\u001b[0m\n\u001b[0;32m--> 673\u001b[0;31m     \u001b[0mfn\u001b[0m \u001b[0;34m=\u001b[0m \u001b[0;32mlambda\u001b[0m \u001b[0mx\u001b[0m\u001b[0;34m:\u001b[0m \u001b[0mlax_fn\u001b[0m\u001b[0;34m(\u001b[0m\u001b[0;34m*\u001b[0m\u001b[0m_promote_args_inexact\u001b[0m\u001b[0;34m(\u001b[0m\u001b[0mnumpy_fn\u001b[0m\u001b[0;34m.\u001b[0m\u001b[0m__name__\u001b[0m\u001b[0;34m,\u001b[0m \u001b[0mx\u001b[0m\u001b[0;34m)\u001b[0m\u001b[0;34m)\u001b[0m\u001b[0;34m\u001b[0m\u001b[0;34m\u001b[0m\u001b[0m\n\u001b[0m\u001b[1;32m    674\u001b[0m   \u001b[0;32melse\u001b[0m\u001b[0;34m:\u001b[0m\u001b[0;34m\u001b[0m\u001b[0;34m\u001b[0m\u001b[0m\n\u001b[1;32m    675\u001b[0m     \u001b[0mfn\u001b[0m \u001b[0;34m=\u001b[0m \u001b[0;32mlambda\u001b[0m \u001b[0mx\u001b[0m\u001b[0;34m:\u001b[0m \u001b[0mlax_fn\u001b[0m\u001b[0;34m(\u001b[0m\u001b[0;34m*\u001b[0m\u001b[0m_promote_args\u001b[0m\u001b[0;34m(\u001b[0m\u001b[0mnumpy_fn\u001b[0m\u001b[0;34m.\u001b[0m\u001b[0m__name__\u001b[0m\u001b[0;34m,\u001b[0m \u001b[0mx\u001b[0m\u001b[0;34m)\u001b[0m\u001b[0;34m)\u001b[0m\u001b[0;34m\u001b[0m\u001b[0;34m\u001b[0m\u001b[0m\n",
      "    \u001b[0;31m[... skipping hidden 12 frame]\u001b[0m\n",
      "\u001b[0;32m/opt/conda/lib/python3.7/site-packages/jax/_src/dispatch.py\u001b[0m in \u001b[0;36m_check_special\u001b[0;34m(name, xla_shape, buf)\u001b[0m\n\u001b[1;32m    431\u001b[0m   \u001b[0;32mif\u001b[0m \u001b[0mdtypes\u001b[0m\u001b[0;34m.\u001b[0m\u001b[0missubdtype\u001b[0m\u001b[0;34m(\u001b[0m\u001b[0mxla_shape\u001b[0m\u001b[0;34m.\u001b[0m\u001b[0melement_type\u001b[0m\u001b[0;34m(\u001b[0m\u001b[0;34m)\u001b[0m\u001b[0;34m,\u001b[0m \u001b[0mnp\u001b[0m\u001b[0;34m.\u001b[0m\u001b[0minexact\u001b[0m\u001b[0;34m)\u001b[0m\u001b[0;34m:\u001b[0m\u001b[0;34m\u001b[0m\u001b[0;34m\u001b[0m\u001b[0m\n\u001b[1;32m    432\u001b[0m     \u001b[0;32mif\u001b[0m \u001b[0mconfig\u001b[0m\u001b[0;34m.\u001b[0m\u001b[0mjax_debug_nans\u001b[0m \u001b[0;32mand\u001b[0m \u001b[0mnp\u001b[0m\u001b[0;34m.\u001b[0m\u001b[0many\u001b[0m\u001b[0;34m(\u001b[0m\u001b[0mnp\u001b[0m\u001b[0;34m.\u001b[0m\u001b[0misnan\u001b[0m\u001b[0;34m(\u001b[0m\u001b[0mbuf\u001b[0m\u001b[0;34m.\u001b[0m\u001b[0mto_py\u001b[0m\u001b[0;34m(\u001b[0m\u001b[0;34m)\u001b[0m\u001b[0;34m)\u001b[0m\u001b[0;34m)\u001b[0m\u001b[0;34m:\u001b[0m\u001b[0;34m\u001b[0m\u001b[0;34m\u001b[0m\u001b[0m\n\u001b[0;32m--> 433\u001b[0;31m       \u001b[0;32mraise\u001b[0m \u001b[0mFloatingPointError\u001b[0m\u001b[0;34m(\u001b[0m\u001b[0;34mf\"invalid value (nan) encountered in {name}\"\u001b[0m\u001b[0;34m)\u001b[0m\u001b[0;34m\u001b[0m\u001b[0;34m\u001b[0m\u001b[0m\n\u001b[0m\u001b[1;32m    434\u001b[0m     \u001b[0;32mif\u001b[0m \u001b[0mconfig\u001b[0m\u001b[0;34m.\u001b[0m\u001b[0mjax_debug_infs\u001b[0m \u001b[0;32mand\u001b[0m \u001b[0mnp\u001b[0m\u001b[0;34m.\u001b[0m\u001b[0many\u001b[0m\u001b[0;34m(\u001b[0m\u001b[0mnp\u001b[0m\u001b[0;34m.\u001b[0m\u001b[0misinf\u001b[0m\u001b[0;34m(\u001b[0m\u001b[0mbuf\u001b[0m\u001b[0;34m.\u001b[0m\u001b[0mto_py\u001b[0m\u001b[0;34m(\u001b[0m\u001b[0;34m)\u001b[0m\u001b[0;34m)\u001b[0m\u001b[0;34m)\u001b[0m\u001b[0;34m:\u001b[0m\u001b[0;34m\u001b[0m\u001b[0;34m\u001b[0m\u001b[0m\n\u001b[1;32m    435\u001b[0m       \u001b[0;32mraise\u001b[0m \u001b[0mFloatingPointError\u001b[0m\u001b[0;34m(\u001b[0m\u001b[0;34mf\"invalid value (inf) encountered in {name}\"\u001b[0m\u001b[0;34m)\u001b[0m\u001b[0;34m\u001b[0m\u001b[0;34m\u001b[0m\u001b[0m\n",
      "\u001b[0;31mFloatingPointError\u001b[0m: invalid value (nan) encountered in log"
     ]
    }
   ],
   "source": [
    "tmins = jnp.linspace(-1000, 4000, 2000).reshape(2000, 1)\n",
    "\n",
    "lhs = jnp.trapz(jax.vmap(lh_per_mod_first, in_axes=[0] + [None] * 8)(\n",
    "        time,\n",
    "        100,\n",
    "        module_coords,\n",
    "        source_pos,\n",
    "        source_dir,\n",
    "        source_time,\n",
    "        source_photons,\n",
    "        c_medium,\n",
    "        1E-5), x=tmins)"
   ]
  },
  {
   "cell_type": "code",
   "execution_count": 123,
   "id": "7704ed2a",
   "metadata": {},
   "outputs": [
    {
     "data": {
      "text/plain": [
       "DeviceArray([[0., 0., 0., ..., 0., 0., 0.],\n",
       "             [0., 0., 0., ..., 0., 0., 0.],\n",
       "             [0., 0., 0., ..., 0., 0., 0.],\n",
       "             ...,\n",
       "             [0., 0., 0., ..., 0., 0., 0.],\n",
       "             [0., 0., 0., ..., 0., 0., 0.],\n",
       "             [0., 0., 0., ..., 0., 0., 0.]], dtype=float32)"
      ]
     },
     "execution_count": 123,
     "metadata": {},
     "output_type": "execute_result"
    }
   ],
   "source": [
    "lhs"
   ]
  },
  {
   "cell_type": "code",
   "execution_count": 25,
   "id": "e2044073-2370-4ec2-909e-f5c0334cb36b",
   "metadata": {},
   "outputs": [],
   "source": [
    "rng = np.random.RandomState(31338)\n",
    "oms_per_line = 20\n",
    "dist_z = 50\n",
    "dark_noise_rate = 16 * 1E4 * 1E-9  # 1/ns\n",
    "\n",
    "gen_ph = make_generate_norm_flow_photons(\n",
    "    \"data/photon_arrival_time_nflow_params.pickle\",\n",
    "    \"data/photon_arrival_time_counts_params.pickle\",\n",
    "    c_medium=c_medium_f(700) * 1E-9\n",
    ")\n",
    "\n",
    "lh_per_mod = (make_nflow_photon_likelihood_per_module(\n",
    "    \"data/photon_arrival_time_nflow_params.pickle\",\n",
    "    \"data/photon_arrival_time_counts_params.pickle\",\n",
    "))\n",
    "\n",
    "tfirst_lh_per_mod = make_nflow_photon_likelihood_per_module(\n",
    "    \"data/photon_tfirst_nflow_params.pickle\",\n",
    "    \"data/photon_arrival_time_counts_params.pickle\",\n",
    "    mode=\"tfirst\"\n",
    ")\n",
    "\n",
    "evlh = jax.vmap(lh_per_mod, in_axes=[0, 0, 0, None, None, None, None, None, 0])\n",
    "\n",
    "\n",
    "def eval_for_mod(x, y, z, theta, phi, t, log10e, times, mod_coords, noise_rate, key):\n",
    "\n",
    "    pos = jnp.asarray([x, y, z])\n",
    "    dir = sph_to_cart_jnp(theta, phi)\n",
    "\n",
    "    sources = make_realistic_cascade_source(pos, t, dir, 10**log10e, 11, resolution=0.5, key=key, moliere_rand=True)\n",
    "    #sources = make_pointlike_cascade_source(pos, t, dir, 10**log10e, 11)\n",
    "\n",
    "    return lh_per_mod(\n",
    "        times,\n",
    "        mod_coords, sources[0], sources[1], sources[2], sources[3], c_medium_f(700) / 1E9, noise_rate\n",
    "    )\n",
    "\n",
    "eval_jacobian = jax.jit(jax.jacobian(eval_for_mod, [0, 1, 2, 3, 4, 5, 6]))\n",
    "\n"
   ]
  },
  {
   "cell_type": "code",
   "execution_count": 8,
   "id": "b799d855",
   "metadata": {},
   "outputs": [
    {
     "name": "stderr",
     "output_type": "stream",
     "text": [
      "/opt/conda/lib/python3.7/site-packages/jax/_src/numpy/lax_numpy.py:3646: UserWarning: Explicitly requested dtype <class 'jax._src.numpy.lax_numpy.float64'> requested in asarray is not available, and will be truncated to dtype float32. To enable more dtypes, set the jax_enable_x64 configuration option or the JAX_ENABLE_X64 shell environment variable. See https://github.com/google/jax#current-gotchas for more.\n",
      "  lax._check_user_dtype_supported(dtype, \"asarray\")\n"
     ]
    }
   ],
   "source": [
    "event_data = {\"t0\": 0., \"theta\": np.radians(45), \"phi\": np.radians(0), \"pos\": np.asarray([0, 0, -25.]), \"energy\": 1E5, \"pid\": 11}\n",
    "event_dir = sph_to_cart_jnp(event_data[\"theta\"], event_data[\"phi\"])\n",
    "res = make_realistic_cascade_source(event_data[\"pos\"], event_data[\"t0\"], event_dir, event_data[\"energy\"], 11, random.PRNGKey(0), moliere_rand=True)"
   ]
  },
  {
   "cell_type": "code",
   "execution_count": 5,
   "id": "9977d48d",
   "metadata": {},
   "outputs": [
    {
     "data": {
      "text/plain": [
       "<matplotlib.collections.PathCollection at 0x7f3eec120690>"
      ]
     },
     "execution_count": 5,
     "metadata": {},
     "output_type": "execute_result"
    },
    {
     "data": {
      "image/png": "[encoded data removed]",
      "text/plain": [
       "<Figure size 432x288 with 1 Axes>"
      ]
     },
     "metadata": {
      "needs_background": "light"
     },
     "output_type": "display_data"
    }
   ],
   "source": [
    "plt.scatter(res[0][:, 0], res[0][:, 2])"
   ]
  },
  {
   "cell_type": "code",
   "execution_count": 16,
   "id": "84d0bbe7",
   "metadata": {},
   "outputs": [],
   "source": [
    "det = make_triang(150, 1, dist_z, dark_noise_rate, rng)\n",
    "event_data = {\"time\": 0., \"theta\": np.radians(45), \"phi\": np.radians(0), \"pos\": np.asarray([0, 0, -25.]), \"energy\": 1E5, \"particle_id\": 11}\n",
    "event_dir = sph_to_cart_jnp(event_data[\"theta\"], event_data[\"phi\"])\n",
    "event_data[\"dir\"] = event_dir\n",
    "\n",
    "event, record = generate_cascade(\n",
    "    det, event_data, pprop_func=gen_ph,\n",
    "    seed=random.PRNGKey(1), \n",
    "    converter_func=make_realistic_cascade_source,\n",
    ")\n",
    "event,_ = simulate_noise(det, event)\n"
   ]
  },
  {
   "cell_type": "code",
   "execution_count": 9,
   "id": "fdd20b37",
   "metadata": {},
   "outputs": [],
   "source": [
    "eval_for_mod_split_vmap_theta = jax.vmap(\n",
    "    eval_for_mod_tfirst_split_jit,\n",
    "    in_axes = [None, None, None, 0, None, None, None,  None,\n",
    "               None, None, 0]\n",
    ")"
   ]
  },
  {
   "cell_type": "code",
   "execution_count": 11,
   "id": "124bf9f4",
   "metadata": {},
   "outputs": [
    {
     "data": {
      "image/png": "[encoded data removed]",
      "text/plain": [
       "<Figure size 1080x576 with 7 Axes>"
      ]
     },
     "metadata": {
      "needs_background": "light"
     },
     "output_type": "display_data"
    }
   ],
   "source": [
    "from matplotlib.gridspec import GridSpec\n",
    "det = make_triang(150, 1, dist_z, dark_noise_rate, rng)\n",
    "fig = plt.figure(figsize=(15, 4*2))\n",
    "gs = GridSpec(3, 3, figure=fig, height_ratios=[1, 1, 1/6])\n",
    "\n",
    "\n",
    "axs = np.asarray([[fig.add_subplot(gs[i, j]) for j in range(3)] for i in range(2)])\n",
    "\n",
    "\n",
    "key = random.PRNGKey(0)\n",
    "thetas = np.radians(np.linspace(0, 180, 20))\n",
    "colors = sns.color_palette(\"crest\", len(thetas))\n",
    "\n",
    "for i, ax in enumerate(axs.T):\n",
    "    mod_coords = det.module_coords[i]\n",
    "    t_geo = np.linalg.norm(event_data[\"pos\"] - mod_coords) / (c_medium_f(700) / 1E9)\n",
    "    times = jnp.linspace(t_geo-10, t_geo+300, 310)\n",
    "    \n",
    "    \n",
    "    key, subkey = random.split(key)\n",
    "    keys = random.split(subkey, len(thetas))\n",
    "\n",
    "    shape_lh, counts_lh, n_pred = eval_for_mod_split_vmap_theta(\n",
    "        event_data[\"pos\"][0], event_data[\"pos\"][1], event_data[\"pos\"][2], thetas,\n",
    "        event_data[\"phi\"], event_data[\"t0\"], jnp.log10(event_data[\"energy\"]),\n",
    "        times, mod_coords, det.module_noise_rates[i], keys\n",
    "    )\n",
    "\n",
    "    for color, lh, npr in zip(colors, shape_lh, n_pred):\n",
    "        ax[0].plot(times, lh + np.log(npr), color=color, alpha=0.5)\n",
    "        ax[1].plot(times, lh + np.log(npr), color=color, alpha=0.5)\n",
    "    #ax[0].set_ylim(-10, 5)\n",
    "    ax[1].set_xlim(t_geo-10, t_geo+50)\n",
    "    #ax[1].set_ylim(-10, 5)\n",
    "    ax[0].set_title(f\"OM {mod_coords[0]:.0f}, {mod_coords[1]:.0f}, {mod_coords[2]:.0f}\")\n",
    "\n",
    "axs[1][0].set_xlabel(\"Time [ns]\")\n",
    "axs[1][1].set_xlabel(\"Time [ns]\")\n",
    "axs[1][2].set_xlabel(\"Time [ns]\")\n",
    "\n",
    "axs[0][0].set_ylabel(\"log(LH * N_ph)\")\n",
    "axs[0][1].set_ylabel(\"log(LH * N_ph)\")\n",
    "\n",
    "cmap = sns.color_palette(\"crest\", len(thetas), as_cmap=True)\n",
    "\n",
    "sm = plt.cm.ScalarMappable(cmap=cmap, norm=plt.Normalize(vmin=np.degrees(np.min(thetas)), vmax=np.degrees(np.max(thetas))))\n",
    "cax = fig.add_subplot(gs[2, :], )\n",
    "cbar = plt.colorbar(sm, cax=cax, orientation=\"horizontal\")\n",
    "cbar.set_label(\"Zenith Angle [deg]\")\n",
    "plt.tight_layout()\n",
    "#plt.savefig(\"figures/cascade_likelihood_demo.png\", dpi=180)"
   ]
  },
  {
   "cell_type": "code",
   "execution_count": 12,
   "id": "b459cc14",
   "metadata": {},
   "outputs": [
    {
     "data": {
      "text/plain": [
       "DeviceArray(1, dtype=int32)"
      ]
     },
     "execution_count": 12,
     "metadata": {},
     "output_type": "execute_result"
    }
   ],
   "source": [
    "jnp.argmin(jnp.asarray([np.inf, -3]))"
   ]
  },
  {
   "cell_type": "code",
   "execution_count": 18,
   "id": "7b68c7f7",
   "metadata": {},
   "outputs": [
    {
     "name": "stderr",
     "output_type": "stream",
     "text": [
      "/opt/conda/lib/python3.7/site-packages/jax/_src/numpy/lax_numpy.py:3650: UserWarning: Explicitly requested dtype <class 'jax._src.numpy.lax_numpy.float64'> requested in asarray is not available, and will be truncated to dtype float32. To enable more dtypes, set the jax_enable_x64 configuration option or the JAX_ENABLE_X64 shell environment variable. See https://github.com/google/jax#current-gotchas for more.\n",
      "  lax._check_user_dtype_supported(dtype, \"asarray\")\n",
      "/opt/conda/lib/python3.7/site-packages/jax/_src/numpy/lax_numpy.py:3650: UserWarning: Explicitly requested dtype <class 'jax._src.numpy.lax_numpy.float64'> requested in asarray is not available, and will be truncated to dtype float32. To enable more dtypes, set the jax_enable_x64 configuration option or the JAX_ENABLE_X64 shell environment variable. See https://github.com/google/jax#current-gotchas for more.\n",
      "  lax._check_user_dtype_supported(dtype, \"asarray\")\n",
      "/opt/conda/lib/python3.7/site-packages/jax/_src/numpy/lax_numpy.py:3650: UserWarning: Explicitly requested dtype <class 'jax._src.numpy.lax_numpy.float64'> requested in asarray is not available, and will be truncated to dtype float32. To enable more dtypes, set the jax_enable_x64 configuration option or the JAX_ENABLE_X64 shell environment variable. See https://github.com/google/jax#current-gotchas for more.\n",
      "  lax._check_user_dtype_supported(dtype, \"asarray\")\n"
     ]
    },
    {
     "data": {
      "image/png": "[encoded data removed]",
      "text/plain": [
       "<Figure size 1080x288 with 3 Axes>"
      ]
     },
     "metadata": {
      "needs_background": "light"
     },
     "output_type": "display_data"
    }
   ],
   "source": [
    "fig, axs = plt.subplots(1, 3, figsize=(15, 4))\n",
    "thetas = np.radians(np.linspace(0, 180, 360))\n",
    "for i, ax in enumerate(axs):\n",
    "    mod_coords = det.module_coords[i]\n",
    "    t_geo = np.linalg.norm(event_data[\"pos\"] - mod_coords) / (c_medium_f(700) / 1E9)\n",
    "    times = jnp.linspace(t_geo-10, t_geo+300, 310)\n",
    "\n",
    "    key, subkey = random.split(key)\n",
    "    keys = random.split(subkey, len(thetas))\n",
    "    \n",
    "    \n",
    "\n",
    "    shape_lh, counts_lh, n_ph_expec = eval_for_mod_split_vmap_theta(\n",
    "        event_data[\"pos\"][0], event_data[\"pos\"][1], event_data[\"pos\"][2], thetas,\n",
    "        event_data[\"phi\"], event_data[\"t0\"], jnp.log10(event_data[\"energy\"]),\n",
    "        times, mod_coords, det.module_noise_rates[i], keys\n",
    "    )  \n",
    "\n",
    "    colors = sns.color_palette(\"crest\", len(thetas))\n",
    "\n",
    "    ax.plot(np.degrees(thetas), n_ph_expec)\n",
    "    ax.set_yscale(\"log\")\n",
    "    ax.set_ylim(1, 1500)\n",
    "    ax.set_xlabel(\"Theta [deg]\")\n",
    "    ax.set_title(f\"OM {mod_coords[0]:.0f}, {mod_coords[1]:.0f}, {mod_coords[2]:.0f}\")\n",
    "\n",
    "axs[0].set_ylabel(\"Number of Expected Photons\")\n",
    "plt.tight_layout()\n",
    "plt.savefig(\"figures/cascade_photons_demo.png\", dpi=180)"
   ]
  },
  {
   "cell_type": "code",
   "execution_count": 22,
   "id": "4345a6c2",
   "metadata": {},
   "outputs": [
    {
     "data": {
      "text/plain": [
       "DeviceArray([ 57, 886, 157], dtype=int32)"
      ]
     },
     "execution_count": 22,
     "metadata": {},
     "output_type": "execute_result"
    }
   ],
   "source": []
  },
  {
   "cell_type": "code",
   "execution_count": 26,
   "id": "d1fbfb64",
   "metadata": {},
   "outputs": [
    {
     "ename": "TypeError",
     "evalue": "make_realistic_cascade_source() missing 1 required positional argument: 'key'",
     "output_type": "error",
     "traceback": [
      "\u001b[0;31m---------------------------------------------------------------------------\u001b[0m",
      "\u001b[0;31mTypeError\u001b[0m                                 Traceback (most recent call last)",
      "\u001b[0;32m/tmp/ipykernel_475789/2935930662.py\u001b[0m in \u001b[0;36m<module>\u001b[0;34m\u001b[0m\n\u001b[1;32m     35\u001b[0m \u001b[0;34m\u001b[0m\u001b[0m\n\u001b[1;32m     36\u001b[0m \u001b[0;32mfor\u001b[0m \u001b[0mx\u001b[0m \u001b[0;32min\u001b[0m \u001b[0mxs\u001b[0m\u001b[0;34m:\u001b[0m\u001b[0;34m\u001b[0m\u001b[0;34m\u001b[0m\u001b[0m\n\u001b[0;32m---> 37\u001b[0;31m     \u001b[0mplt\u001b[0m\u001b[0;34m.\u001b[0m\u001b[0mplot\u001b[0m\u001b[0;34m(\u001b[0m\u001b[0mx\u001b[0m\u001b[0;34m,\u001b[0m \u001b[0meval_x_j\u001b[0m\u001b[0;34m(\u001b[0m\u001b[0mx\u001b[0m\u001b[0;34m)\u001b[0m\u001b[0;34m,\u001b[0m \u001b[0;34m\"ok\"\u001b[0m\u001b[0;34m)\u001b[0m\u001b[0;34m\u001b[0m\u001b[0;34m\u001b[0m\u001b[0m\n\u001b[0m\u001b[1;32m     38\u001b[0m \u001b[0;34m\u001b[0m\u001b[0m\n",
      "    \u001b[0;31m[... skipping hidden 14 frame]\u001b[0m\n",
      "\u001b[0;32m/tmp/ipykernel_475789/2935930662.py\u001b[0m in \u001b[0;36meval_x\u001b[0;34m(x)\u001b[0m\n\u001b[1;32m     15\u001b[0m \u001b[0;34m\u001b[0m\u001b[0m\n\u001b[1;32m     16\u001b[0m     \u001b[0mpos\u001b[0m \u001b[0;34m=\u001b[0m \u001b[0mjnp\u001b[0m\u001b[0;34m.\u001b[0m\u001b[0masarray\u001b[0m\u001b[0;34m(\u001b[0m\u001b[0;34m[\u001b[0m\u001b[0mevent_data\u001b[0m\u001b[0;34m[\u001b[0m\u001b[0;34m\"pos\"\u001b[0m\u001b[0;34m]\u001b[0m\u001b[0;34m[\u001b[0m\u001b[0;36m0\u001b[0m\u001b[0;34m]\u001b[0m\u001b[0;34m,\u001b[0m \u001b[0mx\u001b[0m\u001b[0;34m,\u001b[0m \u001b[0mevent_data\u001b[0m\u001b[0;34m[\u001b[0m\u001b[0;34m\"pos\"\u001b[0m\u001b[0;34m]\u001b[0m\u001b[0;34m[\u001b[0m\u001b[0;36m2\u001b[0m\u001b[0;34m]\u001b[0m\u001b[0;34m]\u001b[0m\u001b[0;34m)\u001b[0m\u001b[0;34m\u001b[0m\u001b[0;34m\u001b[0m\u001b[0m\n\u001b[0;32m---> 17\u001b[0;31m     \u001b[0msources\u001b[0m \u001b[0;34m=\u001b[0m \u001b[0mmake_realistic_cascade_source\u001b[0m\u001b[0;34m(\u001b[0m\u001b[0mpos\u001b[0m\u001b[0;34m,\u001b[0m \u001b[0mevent_data\u001b[0m\u001b[0;34m[\u001b[0m\u001b[0;34m\"time\"\u001b[0m\u001b[0;34m]\u001b[0m\u001b[0;34m,\u001b[0m \u001b[0mevent_dir\u001b[0m\u001b[0;34m,\u001b[0m \u001b[0mevent_data\u001b[0m\u001b[0;34m[\u001b[0m\u001b[0;34m\"energy\"\u001b[0m\u001b[0;34m]\u001b[0m\u001b[0;34m,\u001b[0m \u001b[0;36m11\u001b[0m\u001b[0;34m,\u001b[0m \u001b[0mresolution\u001b[0m\u001b[0;34m=\u001b[0m\u001b[0;36m0.5\u001b[0m\u001b[0;34m)\u001b[0m\u001b[0;34m\u001b[0m\u001b[0;34m\u001b[0m\u001b[0m\n\u001b[0m\u001b[1;32m     18\u001b[0m     return evlh(\n\u001b[1;32m     19\u001b[0m         \u001b[0mpad_event\u001b[0m\u001b[0;34m(\u001b[0m\u001b[0mevent\u001b[0m\u001b[0;34m)\u001b[0m\u001b[0;34m,\u001b[0m\u001b[0;34m\u001b[0m\u001b[0;34m\u001b[0m\u001b[0m\n",
      "\u001b[0;31mTypeError\u001b[0m: make_realistic_cascade_source() missing 1 required positional argument: 'key'"
     ]
    },
    {
     "data": {
      "image/png": "[encoded data removed]",
      "text/plain": [
       "<Figure size 432x288 with 1 Axes>"
      ]
     },
     "metadata": {
      "needs_background": "light"
     },
     "output_type": "display_data"
    },
    {
     "data": {
      "text/plain": [
       "<Figure size 432x288 with 0 Axes>"
      ]
     },
     "metadata": {},
     "output_type": "display_data"
    }
   ],
   "source": [
    "\n",
    "nmeas = jnp.asarray(ak.count(event, axis=1))\n",
    "\n",
    "def eval_energy(energy):\n",
    "    sources = make_realistic_cascade_source(event_data[\"pos\"], event_data[\"time\"], event_dir, energy, 11, resolution=0.5, key=random.PRNGKey(0))\n",
    "    return evlh(\n",
    "        pad_event(event),\n",
    "        jnp.asarray(ak.count(event, axis=1)),\n",
    "        det.module_coords, sources[0], sources[1], sources[2], sources[3], c_medium_f(700) / 1E9,\n",
    "        det.module_noise_rates\n",
    "    ).sum()\n",
    "\n",
    "eval_energy_j = jax.jit(eval_energy)\n",
    "\n",
    "def eval_x(x):\n",
    "\n",
    "    pos = jnp.asarray([event_data[\"pos\"][0], x, event_data[\"pos\"][2]])\n",
    "    sources = make_realistic_cascade_source(pos, event_data[\"time\"], event_dir, event_data[\"energy\"], 11, resolution=0.5)\n",
    "    return evlh(\n",
    "        pad_event(event),\n",
    "        jnp.asarray(ak.count(event, axis=1)),\n",
    "        det.module_coords, sources[0], sources[1], sources[2], sources[3], c_medium_f(700) / 1E9,\n",
    "        det.module_noise_rates\n",
    "    ).sum()\n",
    "\n",
    "eval_x_j = jax.jit(eval_x)\n",
    "\n",
    "\n",
    "energies = jnp.logspace(3, 5.5, 20)\n",
    "for e in energies:\n",
    "    plt.plot(e, eval_energy_j(e), \"ok\")\n",
    "plt.semilogx()\n",
    "\n",
    "plt.figure()\n",
    "xs = np.linspace(-0.5, 0.5, 20)\n",
    "\n",
    "for x in xs:\n",
    "    plt.plot(x, eval_x_j(x), \"ok\")\n",
    "\n"
   ]
  },
  {
   "cell_type": "code",
   "execution_count": 22,
   "id": "b8b264f2",
   "metadata": {},
   "outputs": [
    {
     "name": "stderr",
     "output_type": "stream",
     "text": [
      "/opt/conda/lib/python3.7/site-packages/jax/_src/numpy/lax_numpy.py:3650: UserWarning: Explicitly requested dtype <class 'jax._src.numpy.lax_numpy.float64'> requested in asarray is not available, and will be truncated to dtype float32. To enable more dtypes, set the jax_enable_x64 configuration option or the JAX_ENABLE_X64 shell environment variable. See https://github.com/google/jax#current-gotchas for more.\n",
      "  lax._check_user_dtype_supported(dtype, \"asarray\")\n",
      "/opt/conda/lib/python3.7/site-packages/jax/_src/numpy/lax_numpy.py:3650: UserWarning: Explicitly requested dtype <class 'jax._src.numpy.lax_numpy.float64'> requested in asarray is not available, and will be truncated to dtype float32. To enable more dtypes, set the jax_enable_x64 configuration option or the JAX_ENABLE_X64 shell environment variable. See https://github.com/google/jax#current-gotchas for more.\n",
      "  lax._check_user_dtype_supported(dtype, \"asarray\")\n",
      "/opt/conda/lib/python3.7/site-packages/jax/_src/numpy/lax_numpy.py:3650: UserWarning: Explicitly requested dtype <class 'jax._src.numpy.lax_numpy.float64'> requested in asarray is not available, and will be truncated to dtype float32. To enable more dtypes, set the jax_enable_x64 configuration option or the JAX_ENABLE_X64 shell environment variable. See https://github.com/google/jax#current-gotchas for more.\n",
      "  lax._check_user_dtype_supported(dtype, \"asarray\")\n",
      "/opt/conda/lib/python3.7/site-packages/jax/_src/numpy/lax_numpy.py:3650: UserWarning: Explicitly requested dtype <class 'jax._src.numpy.lax_numpy.float64'> requested in asarray is not available, and will be truncated to dtype float32. To enable more dtypes, set the jax_enable_x64 configuration option or the JAX_ENABLE_X64 shell environment variable. See https://github.com/google/jax#current-gotchas for more.\n",
      "  lax._check_user_dtype_supported(dtype, \"asarray\")\n",
      "/opt/conda/lib/python3.7/site-packages/jax/_src/numpy/lax_numpy.py:3650: UserWarning: Explicitly requested dtype <class 'jax._src.numpy.lax_numpy.float64'> requested in asarray is not available, and will be truncated to dtype float32. To enable more dtypes, set the jax_enable_x64 configuration option or the JAX_ENABLE_X64 shell environment variable. See https://github.com/google/jax#current-gotchas for more.\n",
      "  lax._check_user_dtype_supported(dtype, \"asarray\")\n",
      "/opt/conda/lib/python3.7/site-packages/jax/_src/numpy/lax_numpy.py:3650: UserWarning: Explicitly requested dtype <class 'jax._src.numpy.lax_numpy.float64'> requested in asarray is not available, and will be truncated to dtype float32. To enable more dtypes, set the jax_enable_x64 configuration option or the JAX_ENABLE_X64 shell environment variable. See https://github.com/google/jax#current-gotchas for more.\n",
      "  lax._check_user_dtype_supported(dtype, \"asarray\")\n",
      "/opt/conda/lib/python3.7/site-packages/jax/_src/numpy/lax_numpy.py:3650: UserWarning: Explicitly requested dtype <class 'jax._src.numpy.lax_numpy.float64'> requested in asarray is not available, and will be truncated to dtype float32. To enable more dtypes, set the jax_enable_x64 configuration option or the JAX_ENABLE_X64 shell environment variable. See https://github.com/google/jax#current-gotchas for more.\n",
      "  lax._check_user_dtype_supported(dtype, \"asarray\")\n"
     ]
    }
   ],
   "source": [
    "matrices = []\n",
    "energies = np.logspace(3, 5, 5)\n",
    "crs = []\n",
    "spacings = np.linspace(75, 200, 10)\n",
    "\n",
    "key = random.PRNGKey(0)\n",
    "for e in energies:\n",
    "    for spacing in spacings:\n",
    "        det = make_triang(spacing, 1, dist_z, dark_noise_rate, rng)\n",
    "        for i in range(40):\n",
    "            key, k1, k2 = random.split(key, 3)\n",
    "            event, _ = generate_cascade(\n",
    "                det, event_data[\"pos\"], event_data[\"t0\"], event_dir, energy=e, particle_id=event_data[\"pid\"], pprop_func=gen_ph,\n",
    "                seed=k1, \n",
    "                converter_func=make_realistic_cascade_source,\n",
    "                #converter_func=make_pointlike_cascade_source,\n",
    "                pprop_extras={\"c_medium\": c_medium_f(700) / 1E9},\n",
    "                #converter_extras={\"resolution\": 0.5}\n",
    "            )\n",
    "            if ak.count(event) == 0:\n",
    "                continue\n",
    "            evpd = pad_event(event)\n",
    "\n",
    "            jacsum = 0\n",
    "            for j in range(evpd.shape[0]):\n",
    "                if jnp.all(~jnp.isfinite(evpd[j])):\n",
    "                    continue\n",
    "                res = jnp.stack(eval_jacobian(event_data[\"pos\"][0], event_data[\"pos\"][1], event_data[\"pos\"][2], event_data[\"theta\"], event_data[\"phi\"], event_data[\"t0\"], \n",
    "                                    np.log10(e),\n",
    "                                    evpd[j],\n",
    "                                    det.module_coords[j],\n",
    "                                    det.module_noise_rates[j],\n",
    "                                    k2))\n",
    "                jacsum += res\n",
    "            matrices.append(np.asarray(jacsum[:, np.newaxis] * jacsum[np.newaxis, :]))\n",
    "\n",
    "        cr = np.average(np.stack(matrices), axis=0)\n",
    "        crs.append([e, spacing] + list(np.sqrt(np.diag(np.linalg.inv(cr)))))\n",
    "\n"
   ]
  },
  {
   "cell_type": "code",
   "execution_count": 23,
   "id": "cb96a835",
   "metadata": {},
   "outputs": [],
   "source": [
    "df = pd.DataFrame(crs, columns=[\"energy_sim\", \"spacing\", \"x\", \"y\", \"z\", \"theta\", \"phi\", \"t\", \"logE\" ])\n",
    "df[\"theta_deg\"] = np.degrees(df[\"theta\"])\n",
    "df[\"phi_deg\"] = np.degrees(df[\"phi\"])\n",
    "df.set_index(\"energy_sim\", inplace=True)"
   ]
  },
  {
   "cell_type": "code",
   "execution_count": 24,
   "id": "0e59fad3",
   "metadata": {},
   "outputs": [
    {
     "data": {
      "text/plain": [
       "<matplotlib.legend.Legend at 0x7f317c09ef90>"
      ]
     },
     "execution_count": 24,
     "metadata": {},
     "output_type": "execute_result"
    },
    {
     "data": {
      "image/png": "[encoded data removed]",
      "text/plain": [
       "<Figure size 432x288 with 1 Axes>"
      ]
     },
     "metadata": {
      "needs_background": "light"
     },
     "output_type": "display_data"
    }
   ],
   "source": [
    "for groupn, group in df.groupby(\"spacing\"):\n",
    "    plt.plot(group.index, group.theta_deg, label=groupn)\n",
    "    plt.semilogx()\n",
    "    plt.xlabel(\"Energy [GeV]\")\n",
    "    plt.ylabel(\"Theta Resolution [deg]\")\n",
    "    plt.title(\"EM Cascade at [0, 0, 0] with 3 lines @ 100m spacing\")\n",
    "plt.legend()"
   ]
  },
  {
   "cell_type": "code",
   "execution_count": 30,
   "id": "aeeab0e2",
   "metadata": {},
   "outputs": [
    {
     "data": {
      "text/plain": [
       "<matplotlib.legend.Legend at 0x7f2f48f75810>"
      ]
     },
     "execution_count": 30,
     "metadata": {},
     "output_type": "execute_result"
    },
    {
     "data": {
      "image/png": "[encoded data removed]",
      "text/plain": [
       "<Figure size 432x288 with 1 Axes>"
      ]
     },
     "metadata": {
      "needs_background": "light"
     },
     "output_type": "display_data"
    }
   ],
   "source": [
    "for groupn, group in df.groupby(level=0):\n",
    "    plt.plot(group.spacing, group.logE, label=groupn)\n",
    "    #plt.semilogx()\n",
    "    plt.xlabel(\"Spacing\")\n",
    "    plt.ylabel(\"Theta Resolution [deg]\")\n",
    "    plt.title(\"EM Cascade at [0, 0, 0] with 3 lines @ 100m spacing\")\n",
    "plt.legend()\n",
    "#plt.semilogy()"
   ]
  },
  {
   "cell_type": "code",
   "execution_count": 7,
   "id": "fa459aed",
   "metadata": {},
   "outputs": [
    {
     "data": {
      "text/plain": [
       "array([1.18187338, 0.42906911, 0.48745309])"
      ]
     },
     "execution_count": 7,
     "metadata": {},
     "output_type": "execute_result"
    }
   ],
   "source": [
    "det.module_noise_rates * 6000"
   ]
  },
  {
   "cell_type": "code",
   "execution_count": 10,
   "id": "7b693c2d",
   "metadata": {},
   "outputs": [
    {
     "data": {
      "text/plain": [
       "<Array [0, 3, 62] type='3 * int64'>"
      ]
     },
     "execution_count": 10,
     "metadata": {},
     "output_type": "execute_result"
    }
   ],
   "source": [
    "ak.count(event, axis=1)"
   ]
  },
  {
   "cell_type": "code",
   "execution_count": null,
   "id": "79bda258",
   "metadata": {},
   "outputs": [],
   "source": []
  },
  {
   "cell_type": "code",
   "execution_count": 6,
   "id": "72761cdf",
   "metadata": {},
   "outputs": [
    {
     "name": "stderr",
     "output_type": "stream",
     "text": [
      "/opt/conda/lib/python3.7/site-packages/jax/_src/numpy/lax_numpy.py:3650: UserWarning: Explicitly requested dtype <class 'jax._src.numpy.lax_numpy.float64'> requested in asarray is not available, and will be truncated to dtype float32. To enable more dtypes, set the jax_enable_x64 configuration option or the JAX_ENABLE_X64 shell environment variable. See https://github.com/google/jax#current-gotchas for more.\n",
      "  lax._check_user_dtype_supported(dtype, \"asarray\")\n"
     ]
    },
    {
     "data": {
      "image/png": "[encoded data removed]",
      "text/plain": [
       "<Figure size 432x288 with 1 Axes>"
      ]
     },
     "metadata": {
      "needs_background": "light"
     },
     "output_type": "display_data"
    },
    {
     "data": {
      "image/png": "[encoded data removed]",
      "text/plain": [
       "<Figure size 432x288 with 1 Axes>"
      ]
     },
     "metadata": {
      "needs_background": "light"
     },
     "output_type": "display_data"
    }
   ],
   "source": []
  },
  {
   "cell_type": "code",
   "execution_count": 7,
   "id": "33c27072",
   "metadata": {},
   "outputs": [
    {
     "data": {
      "text/plain": [
       "DeviceArray(-inf, dtype=float32)"
      ]
     },
     "execution_count": 7,
     "metadata": {},
     "output_type": "execute_result"
    }
   ],
   "source": [
    "eval_energy_j(e)"
   ]
  },
  {
   "cell_type": "code",
   "execution_count": 5,
   "id": "3eedc59d",
   "metadata": {},
   "outputs": [
    {
     "data": {
      "text/plain": [
       "'\\nsources = make_realistic_cascade_source(event_data[\"pos\"], event_data[\"t0\"], event_dir, event_data[\"energy\"], 11)\\nsplit_ev = [\\n    gen_ph(det.module_coords, det.module_efficiencies, [sources[i]], seed=1, c_medium=c_medium_f(700) / 1E9)\\n    for i in range(len(sources))\\n]\\nspl_sum = ak.concatenate([ev for ev in split_ev if ak.count(ev) > 0], axis=1)\\n'"
      ]
     },
     "execution_count": 5,
     "metadata": {},
     "output_type": "execute_result"
    }
   ],
   "source": [
    "\"\"\"\n",
    "sources = make_realistic_cascade_source(event_data[\"pos\"], event_data[\"t0\"], event_dir, event_data[\"energy\"], 11)\n",
    "split_ev = [\n",
    "    gen_ph(det.module_coords, det.module_efficiencies, [sources[i]], seed=1, c_medium=c_medium_f(700) / 1E9)\n",
    "    for i in range(len(sources))\n",
    "]\n",
    "spl_sum = ak.concatenate([ev for ev in split_ev if ak.count(ev) > 0], axis=1)\n",
    "\"\"\"\n"
   ]
  },
  {
   "cell_type": "code",
   "execution_count": 6,
   "id": "b21eda95",
   "metadata": {},
   "outputs": [],
   "source": [
    "prop = proposal_setup()"
   ]
  },
  {
   "cell_type": "code",
   "execution_count": 7,
   "id": "e0b5fd2c-595e-4e71-95df-0673a4d40f3c",
   "metadata": {},
   "outputs": [],
   "source": [
    "track_event, track_record = generate_realistic_track(\n",
    "    det, event_data[\"pos\"], event_dir, track_len=300, t0=event_data[\"t0\"], energy=event_data[\"energy\"], pprop_func=gen_ph,\n",
    "    seed=1, \n",
    "    pprop_extras={\"c_medium\": c_medium_f(700) / 1E9},\n",
    "    propagator = prop\n",
    ")\n"
   ]
  },
  {
   "cell_type": "code",
   "execution_count": 18,
   "id": "30951be2",
   "metadata": {},
   "outputs": [
    {
     "name": "stderr",
     "output_type": "stream",
     "text": [
      "/opt/conda/lib/python3.7/site-packages/jax/_src/numpy/lax_numpy.py:3650: UserWarning: Explicitly requested dtype <class 'jax._src.numpy.lax_numpy.float64'> requested in asarray is not available, and will be truncated to dtype float32. To enable more dtypes, set the jax_enable_x64 configuration option or the JAX_ENABLE_X64 shell environment variable. See https://github.com/google/jax#current-gotchas for more.\n",
      "  lax._check_user_dtype_supported(dtype, \"asarray\")\n"
     ]
    }
   ],
   "source": [
    "det = make_triang(175, 1, dist_z, dark_noise_rate, rng)\n",
    "event_data = {\"t0\": 0., \"theta\": np.radians(45), \"phi\": np.radians(60), \"pos\": np.asarray([0, 0, -25.]), \"energy\": 1E5, \"pid\": 11}\n",
    "event_dir = sph_to_cart_jnp(event_data[\"theta\"], event_data[\"phi\"])\n",
    "event2, record2 = generate_cascade(\n",
    "    det, event_data[\"pos\"], event_data[\"t0\"], event_dir, energy=event_data[\"energy\"], particle_id=event_data[\"pid\"], pprop_func=gen_ph,\n",
    "    seed=1, \n",
    "    converter_func=make_realistic_cascade_source,\n",
    "    pprop_extras={\"c_medium\": c_medium_f(700) / 1E9},\n",
    "    converter_extras={\"resolution\": 0.5}\n",
    ")\n",
    "\n",
    "event3, record3 = generate_cascade(\n",
    "    det, event_data[\"pos\"], event_data[\"t0\"], event_dir, energy=event_data[\"energy\"], particle_id=event_data[\"pid\"], pprop_func=gen_ph,\n",
    "    seed=2, \n",
    "    converter_func=make_realistic_cascade_source,\n",
    "    pprop_extras={\"c_medium\": c_medium_f(700) / 1E9},\n",
    "    converter_extras={\"resolution\": 0.5}\n",
    ")\n",
    "\n",
    "\n"
   ]
  },
  {
   "cell_type": "code",
   "execution_count": 19,
   "id": "54cdc205",
   "metadata": {},
   "outputs": [
    {
     "data": {
      "text/plain": [
       "<Array [0, 3, 62] type='3 * int64'>"
      ]
     },
     "execution_count": 19,
     "metadata": {},
     "output_type": "execute_result"
    }
   ],
   "source": [
    "ak.count(event2, axis=1)"
   ]
  },
  {
   "cell_type": "code",
   "execution_count": 20,
   "id": "97f72fcc",
   "metadata": {},
   "outputs": [],
   "source": [
    "event2,_ = simulate_noise(det, event2)"
   ]
  },
  {
   "cell_type": "code",
   "execution_count": 21,
   "id": "a57cf09b",
   "metadata": {},
   "outputs": [
    {
     "data": {
      "text/plain": [
       "array([[-87.5       , -50.51814855, -25.        ],\n",
       "       [ 87.5       , -50.51814855, -25.        ],\n",
       "       [  0.        , 101.03629711, -25.        ]])"
      ]
     },
     "execution_count": 21,
     "metadata": {},
     "output_type": "execute_result"
    }
   ],
   "source": [
    "det.module_coords"
   ]
  },
  {
   "cell_type": "code",
   "execution_count": 22,
   "id": "89a9da02",
   "metadata": {},
   "outputs": [
    {
     "data": {
      "text/plain": [
       "array([104.08329997, 104.08329997, 104.08329997])"
      ]
     },
     "execution_count": 22,
     "metadata": {},
     "output_type": "execute_result"
    }
   ],
   "source": [
    "np.linalg.norm(det.module_coords, axis=1)"
   ]
  },
  {
   "cell_type": "code",
   "execution_count": 23,
   "id": "4d36d2ff",
   "metadata": {},
   "outputs": [
    {
     "name": "stderr",
     "output_type": "stream",
     "text": [
      "/opt/conda/lib/python3.7/site-packages/ipykernel_launcher.py:21: UserWarning: Data has no positive values, and therefore cannot be log-scaled.\n"
     ]
    },
    {
     "data": {
      "image/png": "[encoded data removed]",
      "text/plain": [
       "<Figure size 1152x576 with 4 Axes>"
      ]
     },
     "metadata": {
      "needs_background": "light"
     },
     "output_type": "display_data"
    }
   ],
   "source": [
    "ixso = ak.argsort(ak.count(event2, axis=1))[::-1]\n",
    "\n",
    "fig, axs = plt.subplots(2, 2, figsize=(16, 8))\n",
    "\n",
    "\n",
    "\n",
    "for ix, ax in zip(ixso, axs.ravel()):\n",
    "\n",
    "    mod_coords = det.module_coords[ix]\n",
    "\n",
    "    t_geo = np.linalg.norm(event_data[\"pos\"] - mod_coords) / (c_medium_f(700) / 1E9)\n",
    "    binning = np.linspace(t_geo-15, t_geo + 100, 100)\n",
    "\n",
    "    times = event2[ix]\n",
    "    if len(times) > 0:\n",
    "        sns.histplot(np.asarray(times), bins=binning, ax=ax)\n",
    "\n",
    "    times = event3[ix]\n",
    "    if len(times) > 0:\n",
    "        sns.histplot(np.asarray(times), bins=binning, ax=ax, color=\"orange\")\n",
    "    ax.set_yscale(\"log\")\n",
    "\n",
    "    \"\"\"\n",
    "    \n",
    "    times = spl_sum[ix]\n",
    "    sns.histplot(np.asarray(times), bins=binning, ax=ax, color=\"blue\")\n",
    "    for spl in split_ev:\n",
    "        if ak.count(spl) > 0:\n",
    "            times = spl[ix]\n",
    "            sns.histplot(np.asarray(times), bins=binning, ax=ax, color=\"blue\")\n",
    "    \"\"\"\n"
   ]
  },
  {
   "cell_type": "code",
   "execution_count": 12,
   "id": "e822d7ff",
   "metadata": {},
   "outputs": [],
   "source": [
    "energies = np.logspace(3, 5, 10)\n",
    "fishers = []\n",
    "key = random.PRNGKey(0)\n",
    "for energy in energies:\n",
    "    for pos in [np.asarray([0, 0, 0.]), np.asarray([0, 50., 0.])]:\n",
    "        key, subkey = random.split(key)\n",
    "        event_data = {\"t0\": 0., \"theta\": np.radians(30), \"phi\": np.radians(25), \"pos\": np.asarray([0, 0, 0.]), \"energy\": energy, \"pid\": 11}\n",
    "        fisher = calc_fisher_info_cascades(det, event_data, subkey, make_realistic_cascade_source, gen_ph, evlh, c_medium_f(700)/1E9, n_ev=5)\n",
    "        fishers.append((fisher, energy, pos))"
   ]
  },
  {
   "cell_type": "code",
   "execution_count": null,
   "id": "d323042f",
   "metadata": {},
   "outputs": [],
   "source": [
    "cr_data = []\n",
    "for (fi, energy, pos) in fishers:\n",
    "    cr = np.sqrt(jnp.diag(jnp.linalg.inv(fi)))\n",
    "    cr_data.append([energy, tuple(pos)]  + list(cr))\n",
    "   \n",
    "    \n",
    "df = pd.DataFrame(cr_data, columns=[\"energy_sim\", \"pos_sim\", \"x\", \"y\", \"z\", \"theta\", \"phi\", \"t\", \"log10(energy/GeV)\" ])\n",
    "df[\"theta_deg\"] = np.degrees(df[\"theta\"])\n",
    "df[\"phi_deg\"] = np.degrees(df[\"phi\"])\n",
    "df.set_index(\"energy_sim\", inplace=True)"
   ]
  },
  {
   "cell_type": "code",
   "execution_count": null,
   "id": "1f39cb06",
   "metadata": {},
   "outputs": [],
   "source": [
    "for groupn, group in df.groupby(\"pos_sim\"):\n",
    "    plt.plot(group.index, group.theta_deg, label=groupn)\n",
    "    plt.loglog()\n",
    "    plt.xlabel(\"Energy [GeV]\")\n",
    "    plt.ylabel(\"Theta Resolution [deg]\")\n",
    "    plt.title(\"EM Cascade at [0, 0, 0] with 3 lines @ 100m spacing\")\n",
    "plt.legend()"
   ]
  },
  {
   "cell_type": "code",
   "execution_count": null,
   "id": "ad77b2dd",
   "metadata": {},
   "outputs": [],
   "source": [
    "for groupn, group in df.groupby(\"pos_sim\"):\n",
    "    plt.plot(group.index, group.phi_deg, label=groupn)\n",
    "    plt.loglog()\n",
    "    plt.xlabel(\"Energy [GeV]\")\n",
    "    plt.ylabel(\"Theta Resolution [deg]\")\n",
    "    plt.title(\"EM Cascade at [0, 0, 0] with 3 lines @ 100m spacing\")\n",
    "plt.legend()"
   ]
  },
  {
   "cell_type": "code",
   "execution_count": null,
   "id": "3adc5a69",
   "metadata": {},
   "outputs": [],
   "source": [
    "def eval_lh_time(time, energy):\n",
    "    sources = make_pointlike_cascade_source(event_data[\"pos\"], time, event_dir, energy, 11)\n",
    "    return eval_likelihood(event, det.module_coords, sources, c_medium_f(700) / 1E9)\n",
    "\n",
    "jax.grad(eval_lh_time)(11., 1E7)"
   ]
  },
  {
   "cell_type": "code",
   "execution_count": null,
   "id": "12bec2d5",
   "metadata": {},
   "outputs": [],
   "source": []
  },
  {
   "cell_type": "code",
   "execution_count": null,
   "id": "2cad30b9",
   "metadata": {},
   "outputs": [],
   "source": [
    "def eval_lh_energy(energy):\n",
    "    sources = make_pointlike_cascade_source(event_data[\"pos\"], event_data[\"t0\"], event_dir, energy, 11)\n",
    "    return eval_likelihood(event, det.module_coords, sources, c_medium_f(700) / 1E9)\n",
    "\n",
    "jax.grad(eval_lh_time)(11., 1E7)\n",
    "energies = jnp.logspace(1, 7, 50)\n",
    "lhs = jax.vmap((eval_lh_energy))(energies)\n",
    "plt.plot(energies, lhs)\n",
    "plt.semilogx()"
   ]
  },
  {
   "cell_type": "code",
   "execution_count": null,
   "id": "681162f9",
   "metadata": {},
   "outputs": [],
   "source": [
    "source = PhotonSource(jnp.asarray([0., 10., -2.]), 1E9, 0, jnp.asarray([0., 1, 0]))\n",
    "source2 = PhotonSource(jnp.asarray([0., 299., -50.]), 1E13, 300, jnp.asarray([0., 1, 0]))\n",
    "source3 = PhotonSource(jnp.asarray([0., -10., 3.]), 9E7, 300, jnp.asarray([0., 1, 0]))\n",
    "#det = Detector(make_hex_grid(4, 100, 20, 50))\n",
    "\n",
    "sources = [source, source2, source3]\n",
    "\n",
    "det = Detector(make_line(0, 0, 2, 50, np.random.RandomState(0), 1E3, 0))\n",
    "\n",
    "event = gen_ph(det.module_coords, det.module_efficiencies, [source, source2, source3], c_medium_f(700)/1E9, seed=2)\n",
    "\n",
    "eval_likelihood(event, det.module_coords, sources, c_medium_f(700) / 1E9)\n",
    "\n",
    "\n"
   ]
  },
  {
   "cell_type": "code",
   "execution_count": null,
   "id": "9cab9df2",
   "metadata": {},
   "outputs": [],
   "source": [
    "source = PhotonSource(jnp.asarray([0., 10., -2.]), 1E9, 0, jnp.asarray([0., 1, 0]))\n",
    "source2 = PhotonSource(jnp.asarray([0., 299., -50.]), 1E13, 300, jnp.asarray([1., 0, 0]))\n",
    "source3 = PhotonSource(jnp.asarray([0., -10., 3.]), 9E7, 300, jnp.asarray([0., 1, 0]))\n",
    "#det = Detector(make_hex_grid(4, 100, 20, 50))\n",
    "\n",
    "sources = [source, source2, source3]\n",
    "eval_likelihood(event, det.module_coords, sources, c_medium_f(700) / 1E9)"
   ]
  },
  {
   "cell_type": "code",
   "execution_count": null,
   "id": "6f3a10f0-f28e-4d93-a818-61505d02ab01",
   "metadata": {},
   "outputs": [],
   "source": [
    "c_medium = 0.299792458 / medium[\"n_ph\"]\n",
    "ixs = jnp.sum(event_binned, axis=1)\n",
    "#binning = np.linspace(-20, 100, 120)\n",
    "\n",
    "def add_tts(times, res):\n",
    "    return times + np.random.normal(0, scale=res, size=len(times))\n",
    "\n",
    "\n",
    "for res in [2]:\n",
    "    \n",
    "    fig, axs = plt.subplots(2, 2, figsize=(16, 8))\n",
    "\n",
    "    colors = sns.color_palette(\"colorblind\")\n",
    "    for ix, ax in zip(ixs, axs.ravel()):\n",
    "\n",
    "        det_dist = np.linalg.norm(event_data[\"pos\"] - det.module_coords[ix])\n",
    "\n",
    "        times = np.asarray(event[ix])\n",
    "        tgeo = event_data[\"t0\"] + det_dist / c_medium\n",
    "        \n",
    "        amps, steps = event_binned[0][ix]\n",
    "        amps = amps.detach().cpu()\n",
    "        steps = steps.detach().cpu()\n",
    "\n",
    "        #sns.histplot(add_tts(event3[ix], res)-tgeo, bins=binning, color=colors[0], ax=ax, alpha=0.7, element=\"step\", fill=False, label=\"Pointlike\")\n",
    "        ax.step(steps, np.append(amps, amps[-1]), where=\"post\")\n",
    "        sns.histplot(add_tts(times, res), bins=steps, ax=ax, alpha=0.7, element=\"step\", color=colors[1], fill=False, label=\"EM\")\n",
    "        \n",
    "       \n",
    "        \n",
    "        #sns.histplot(add_tts(event2[ix], res)-tgeo, bins=binning, ax=ax, alpha=0.7, element=\"step\", color=colors[2], fill=False, label=\"Hadr\")\n",
    "\n",
    "        ax.set_yscale(\"log\")\n",
    "        ax.set_title(f\"Module Pos: { det.module_coords[ix]}\")\n",
    "        ax.set_xlim(steps[0] - 10, steps[0] + 150)\n",
    "    axs[0][0].legend()"
   ]
  },
  {
   "cell_type": "code",
   "execution_count": null,
   "id": "5be334a0-0c42-4ead-9859-6fda243e1ffb",
   "metadata": {},
   "outputs": [],
   "source": [
    "test_energy = 5E5\n",
    "em_counts_func, em_long_func, em_angles_func = fennel_instance.em_yields(energy=test_energy, particle=11, mean=True, function=True)\n",
    "had_counts_func, had_long_func, had_em_func, had_angles_func = fennel_instance.hadron_yields(energy=test_energy, particle=211, mean=True, function=True)\n",
    "\n",
    "zgrid = np.linspace(0, 15*100, 1000)\n",
    "\n",
    "#em_counts_val = em_counts_func(test_energy, wavelengths, 11, mean=True)\n",
    "em_long_val = em_long_func(test_energy, zgrid, fennel_instance._particles[11])\n",
    "hadr_long_val = had_long_func(test_energy, zgrid, fennel_instance._particles[211])\n",
    "#em_angles_val = em_angles_func(angle_grid, 1.33, fennel_instance._particles[11])\n",
    "\n",
    "\n",
    "\n",
    "\n",
    "\n",
    "int_grid = np.linspace(0, 20, 40)\n",
    "integrals_em = []\n",
    "integrals_had = []\n",
    "integrand_em = lambda z: em_long_func(event_data[\"energy\"], z, particle=fennel_instance._particles[11])\n",
    "integrand_had = lambda z: had_long_func(event_data[\"energy\"], z, particle=fennel_instance._particles[211])\n",
    "\n",
    "norm_em = scipy.integrate.quad(integrand_em, 0, np.infty)[0]\n",
    "norm_had = scipy.integrate.quad(integrand_had, 0, np.infty)[0]\n",
    "wavelengths = np.linspace(350, 500, 100)\n",
    "nph_em = np.trapz(em_counts_func(test_energy, wavelengths, particle=11).ravel(), wavelengths)\n",
    "nph_had = np.trapz(had_counts_func(test_energy, wavelengths, particle=211).ravel(), wavelengths)\n",
    "\n",
    "\n",
    "event_dir = sph_to_cart_np(event_data[\"theta\"], event_data[\"phi\"])\n",
    "\n",
    "ph_sources_em = []\n",
    "ph_sources_had = []\n",
    "for i in range(len(int_grid)-1):\n",
    "    \n",
    "    inte_em = scipy.integrate.quad(integrand_em, int_grid[i]*100, int_grid[i+1]*100)\n",
    "    integrals_em.append(inte_em[0]/norm_em*nph_em)\n",
    "    \n",
    "    inte_had = scipy.integrate.quad(integrand_had, int_grid[i]*100, int_grid[i+1]*100)\n",
    "    integrals_had.append(inte_had[0]/norm_had*nph_had)\n",
    "    \n",
    "    dist_along = 0.5*(int_grid[i] + int_grid[i+1])\n",
    "    src_pos = dist_along * event_dir + event_data[\"pos\"]\n",
    "    ph_sources_em.append(\n",
    "        PhotonSource(src_pos, inte_em[0]/norm_em*nph_em, event_data[\"t0\"] + dist_along / 0.299792458, event_dir)\n",
    "    )\n",
    "    \n",
    "    ph_sources_had.append(\n",
    "        PhotonSource(src_pos, inte_had[0]/norm_had*nph_had, event_data[\"t0\"] + dist_along / 0.299792458, event_dir)\n",
    "    )\n",
    "\n",
    "half = 0.5*(int_grid[1:] + int_grid[:-1])\n",
    "    \n",
    "plt.plot(half, integrals_em)\n",
    "plt.plot(half, integrals_had)"
   ]
  },
  {
   "cell_type": "code",
   "execution_count": null,
   "id": "0b87da82-07e6-4ce4-8c67-884b05282403",
   "metadata": {},
   "outputs": [],
   "source": [
    "event = gen_ph(det.module_coords, det.module_efficiencies, ph_sources_em)\n",
    "event2 = gen_ph(det.module_coords, det.module_efficiencies, ph_sources_had)\n",
    "\n",
    "event3 = gen_ph(det.module_coords, det.module_efficiencies,\n",
    "                [PhotonSource(event_data[\"pos\"], nph, event_data[\"t0\"], event_dir)])\n"
   ]
  },
  {
   "cell_type": "code",
   "execution_count": null,
   "id": "88c25be8-cb99-4c84-a98a-6a8aa6fed792",
   "metadata": {},
   "outputs": [],
   "source": [
    "det_dist"
   ]
  },
  {
   "cell_type": "code",
   "execution_count": null,
   "id": "4dc6dc83-71f8-4038-b40a-8c5d14c3b1e4",
   "metadata": {},
   "outputs": [],
   "source": []
  },
  {
   "cell_type": "code",
   "execution_count": null,
   "id": "26790383-ba9e-490e-b645-9e59d047f31e",
   "metadata": {},
   "outputs": [],
   "source": [
    "ixs = ak.argsort(ak.count(event, axis=1), ascending=False)\n",
    "binning = np.linspace(-20, 100, 120)\n",
    "\n",
    "def add_tts(times, res):\n",
    "    return times + np.random.normal(0, scale=res, size=len(times))\n",
    "\n",
    "\n",
    "for res in [0, 3,]:\n",
    "    \n",
    "    fig, axs = plt.subplots(2, 2, figsize=(16, 8))\n",
    "\n",
    "    colors = sns.color_palette(\"colorblind\")\n",
    "    for ix, ax in zip(ixs, axs.ravel()):\n",
    "\n",
    "        det_dist = np.linalg.norm(event_data[\"pos\"] - det.module_coords[ix])\n",
    "\n",
    "        times = np.asarray(event[ix])\n",
    "        tgeo = event_data[\"t0\"] + det_dist / c_medium\n",
    "\n",
    "        #sns.histplot(add_tts(event3[ix], res)-tgeo, bins=binning, color=colors[0], ax=ax, alpha=0.7, element=\"step\", fill=False, label=\"Pointlike\")\n",
    "        sns.histplot(add_tts(times, res)-tgeo, bins=binning, ax=ax, alpha=0.7, element=\"step\", color=colors[1], fill=False, label=\"EM\")\n",
    "        #sns.histplot(add_tts(event2[ix], res)-tgeo, bins=binning, ax=ax, alpha=0.7, element=\"step\", color=colors[2], fill=False, label=\"Hadr\")\n",
    "\n",
    "        ax.set_yscale(\"log\")\n",
    "        ax.set_title(f\"Module Pos: { det.module_coords[ix]}\")\n",
    "    axs[0][0].legend()"
   ]
  },
  {
   "cell_type": "code",
   "execution_count": null,
   "id": "56dcc726-d688-4435-b5fc-c87431177726",
   "metadata": {},
   "outputs": [],
   "source": [
    "event_data[\"dir\"]"
   ]
  },
  {
   "cell_type": "code",
   "execution_count": null,
   "id": "0e99a947-7904-42b1-bcfd-23068f942d4b",
   "metadata": {},
   "outputs": [],
   "source": [
    "\n",
    "plt.plot(wavelengths, em_counts_func(test_energy, wavelengths, particle=11))\n",
    " / (5.3 * 250 * 1E2 * test_energy  )"
   ]
  },
  {
   "cell_type": "code",
   "execution_count": null,
   "id": "95679b05-2b59-4135-a235-6d33b01dd5c2",
   "metadata": {},
   "outputs": [],
   "source": []
  },
  {
   "cell_type": "code",
   "execution_count": null,
   "id": "2c812bbb-0888-402d-a7b5-0c504ba7a54e",
   "metadata": {},
   "outputs": [],
   "source": []
  },
  {
   "cell_type": "code",
   "execution_count": null,
   "id": "86868c01-f4bc-4cf3-8333-f39b9d725fc3",
   "metadata": {},
   "outputs": [],
   "source": [
    "config['advanced']['wavelengths']"
   ]
  },
  {
   "cell_type": "code",
   "execution_count": null,
   "id": "66dfed88-19ec-46f4-bb3a-5b5384110abc",
   "metadata": {},
   "outputs": [],
   "source": [
    "em_counts_val / np.diff(wavelengths)[0]"
   ]
  },
  {
   "cell_type": "code",
   "execution_count": null,
   "id": "cecbfe92-1a01-49a3-8189-96793d142977",
   "metadata": {},
   "outputs": [],
   "source": [
    "event_data = {\"t0\":, 0, \"theta\": np.radians(10), \"phi\": np.radians(20), \"pos\": np.asarray([0, 0, 0.]), \"energy\": 1E5}\n",
    "event, record = generate_cascade(\n",
    "    det, pos, t0_gen, cdir, n_photons=amp_gen, pprop_func=gen_ph\n",
    ")"
   ]
  }
 ],
 "metadata": {
  "kernelspec": {
   "display_name": "Python 3 (ipykernel)",
   "language": "python",
   "name": "python3"
  },
  "language_info": {
   "codemirror_mode": {
    "name": "ipython",
    "version": 3
   },
   "file_extension": ".py",
   "mimetype": "text/x-python",
   "name": "python",
   "nbconvert_exporter": "python",
   "pygments_lexer": "ipython3",
   "version": "3.7.10"
  }
 },
 "nbformat": 4,
 "nbformat_minor": 5
}
