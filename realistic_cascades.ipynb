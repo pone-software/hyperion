{
 "cells": [
  {
   "cell_type": "code",
   "execution_count": 1,
   "id": "c2dafec0-8ef4-4350-9401-618eaf3e1855",
   "metadata": {},
   "outputs": [],
   "source": [
    "import pickle\n",
    "import os\n",
    "os.environ[\"XLA_PYTHON_CLIENT_MEM_FRACTION\"]=\"0.8\"\n",
    "\n",
    "from jax.config import config\n",
    "#config.update(\"jax_enable_x64\", True)\n",
    "config.update(\"jax_debug_nans\", True)\n",
    "\n",
    "import matplotlib as mpl\n",
    "import matplotlib.pyplot as plt\n",
    "import numpy as np\n",
    "import scipy.optimize\n",
    "import seaborn as sns\n",
    "from tqdm.notebook import tqdm, trange\n",
    "\n",
    "from itertools import product\n",
    "\n",
    "import awkward as ak\n",
    "import pandas as pd\n",
    "from hyperion.constants import Constants\n",
    "from olympus.event_generation.mc_record import MCRecord\n",
    "from olympus.event_generation.photon_source import PhotonSource, PhotonSourceType\n",
    "from olympus.event_generation.photon_propagation.norm_flow_photons import make_generate_norm_flow_photons, make_nflow_photon_likelihood, make_nflow_photon_likelihood_per_module\n",
    "from olympus.event_generation.photon_propagation.utils import sources_to_model_input_per_module, sources_to_array\n",
    "from olympus.event_generation.detector import make_hex_grid, Detector, make_line, make_triang, make_rhombus\n",
    "from olympus.event_generation.event_generation import generate_cascade, generate_muon_energy_losses, generate_realistic_track\n",
    "from olympus.event_generation.lightyield import make_pointlike_cascade_source, make_realistic_cascade_source\n",
    "from olympus.event_generation.utils import proposal_setup\n",
    "from olympus.plotting.plotting import plot_event\n",
    "from olympus.optimization.fisher_information import rotate_to_new_direc_v, rotate_to_new_direc, calc_fisher_info_cascades, pad_event\n",
    "\n",
    "from hyperion.utils import (\n",
    "    make_cascadia_abs_len_func,\n",
    ")\n",
    "from hyperion.pmt.pmt import make_calc_wl_acceptance_weight\n",
    "from hyperion.medium import cascadia_ref_index_func, sca_len_func_antares\n",
    "from hyperion.constants import Constants\n",
    "\n",
    "from hyperion.models.photon_arrival_time_nflow.net import (\n",
    "    make_counts_net_fn,\n",
    "    make_shape_conditioner_fn,\n",
    "    sample_shape_model,\n",
    "    traf_dist_builder,\n",
    "    eval_log_prob\n",
    ")\n",
    "\n",
    "import jax\n",
    "from jax import jit, random\n",
    "from jax import numpy as jnp\n",
    "from jax import value_and_grad\n",
    "from numba.typed import List\n",
    "from jax.experimental.maps import xmap, SerialLoop\n",
    "\n",
    "from fennel import Fennel, config\n",
    "\n",
    "import json\n",
    "%matplotlib inline\n",
    "from scipy.integrate import quad"
   ]
  },
  {
   "cell_type": "code",
   "execution_count": 2,
   "id": "51a311fe-bc30-4193-953c-a75819aca95c",
   "metadata": {},
   "outputs": [],
   "source": [
    "def sph_to_cart_jnp(theta, phi=0):\n",
    "    \"\"\"Transform spherical to cartesian coordinates.\"\"\"\n",
    "    x = jnp.sin(theta) * jnp.cos(phi)\n",
    "    y = jnp.sin(theta) * jnp.sin(phi)\n",
    "    z = jnp.cos(theta)\n",
    "\n",
    "    return jnp.asarray([x, y, z], dtype=jnp.float64)\n",
    "\n"
   ]
  },
  {
   "cell_type": "code",
   "execution_count": 3,
   "id": "7fe47459",
   "metadata": {},
   "outputs": [],
   "source": [
    "ref_index_func = cascadia_ref_index_func\n",
    "abs_len = make_cascadia_abs_len_func(sca_len_func_antares)\n",
    "path_to_wl_file = \"data/DOMEfficiency.dat\"\n",
    "wl_acc = make_calc_wl_acceptance_weight(path_to_wl_file)\n",
    "\n",
    "def c_medium_f(wl):\n",
    "    \"\"\"Speed of light in medium for wl (nm).\"\"\"\n",
    "    return Constants.BaseConstants.c_vac / cascadia_ref_index_func(wl)\n"
   ]
  },
  {
   "cell_type": "code",
   "execution_count": 4,
   "id": "e2044073-2370-4ec2-909e-f5c0334cb36b",
   "metadata": {},
   "outputs": [
    {
     "name": "stderr",
     "output_type": "stream",
     "text": [
      "/opt/conda/lib/python3.7/site-packages/jax/_src/numpy/lax_numpy.py:3650: UserWarning: Explicitly requested dtype <class 'jax._src.numpy.lax_numpy.float64'> requested in asarray is not available, and will be truncated to dtype float32. To enable more dtypes, set the jax_enable_x64 configuration option or the JAX_ENABLE_X64 shell environment variable. See https://github.com/google/jax#current-gotchas for more.\n",
      "  lax._check_user_dtype_supported(dtype, \"asarray\")\n"
     ]
    }
   ],
   "source": [
    "rng = np.random.RandomState(31338)\n",
    "oms_per_line = 20\n",
    "dist_z = 50\n",
    "dark_noise_rate = 16 * 1e-5  # 1/ns\n",
    "det = make_triang(100, oms_per_line, dist_z, dark_noise_rate, rng)\n",
    "module_positions = jnp.asarray(det.module_coords)\n",
    "\n",
    "gen_ph = make_generate_norm_flow_photons(\n",
    "    \"data/photon_arrival_time_nflow_params.pickle\",\n",
    "    \"data/photon_arrival_time_counts_params.pickle\",\n",
    "   \n",
    ")\n",
    "\n",
    "lh_per_mod = (make_nflow_photon_likelihood_per_module(\n",
    "    \"data/photon_arrival_time_nflow_params.pickle\",\n",
    "    \"data/photon_arrival_time_counts_params.pickle\",\n",
    "))\n",
    "evlh = jax.vmap(lh_per_mod, in_axes=[0, 0, None, None, None, None, None])\n",
    "\n",
    "event_data = {\"t0\": 0., \"theta\": np.radians(80), \"phi\": np.radians(60), \"pos\": np.asarray([0, 0, 0.]), \"energy\": 5E5, \"pid\": 11}\n",
    "event_dir = sph_to_cart_jnp(event_data[\"theta\"], event_data[\"phi\"])\n"
   ]
  },
  {
   "cell_type": "code",
   "execution_count": 5,
   "id": "df07f892",
   "metadata": {},
   "outputs": [],
   "source": [
    "event2, record2 = generate_cascade(\n",
    "    det, event_data[\"pos\"], event_data[\"t0\"], event_dir, energy=event_data[\"energy\"], particle_id=event_data[\"pid\"], pprop_func=gen_ph,\n",
    "    seed=1, \n",
    "    converter_func=make_realistic_cascade_source,\n",
    "    pprop_extras={\"c_medium\": c_medium_f(700) / 1E9},\n",
    "    converter_extras={\"resolution\": 0.5}\n",
    ")\n",
    "\n",
    "event3, record3 = generate_cascade(\n",
    "    det, event_data[\"pos\"], event_data[\"t0\"], event_dir, energy=event_data[\"energy\"], particle_id=event_data[\"pid\"], pprop_func=gen_ph,\n",
    "    seed=2, \n",
    "    converter_func=make_realistic_cascade_source,\n",
    "    pprop_extras={\"c_medium\": c_medium_f(700) / 1E9},\n",
    "    converter_extras={\"resolution\": 0.5}\n",
    ")\n",
    "\n",
    "\n"
   ]
  },
  {
   "cell_type": "code",
   "execution_count": 6,
   "id": "7042394b",
   "metadata": {},
   "outputs": [],
   "source": [
    "def eval_for_mod(x, y, z, theta, phi, t, log10e, times, mod_coords):\n",
    "\n",
    "    pos = jnp.asarray([x, y, z])\n",
    "    dir = sph_to_cart_jnp(theta, phi)\n",
    "\n",
    "    sources = make_realistic_cascade_source(pos, t, dir, 10**log10e, 11, resolution=0.5)\n",
    "\n",
    "    return lh_per_mod(\n",
    "        times,\n",
    "        mod_coords, sources[0], sources[1], sources[2], sources[3], c_medium_f(700) / 1E9\n",
    "    )\n",
    "\n",
    "eval_j = jax.jit(jax.jacobian(eval_for_mod, [0, 1, 2, 3, 4, 5, 6]))\n",
    "#eval_j(event_data[\"pos\"][0], event_data[\"pos\"][1], event_data[\"pos\"][2], event_data[\"theta\"], event_data[\"phi\"], event_data[\"t0\"], 5E5, 49)"
   ]
  },
  {
   "cell_type": "code",
   "execution_count": 7,
   "id": "b8b264f2",
   "metadata": {},
   "outputs": [
    {
     "name": "stdout",
     "output_type": "stream",
     "text": [
      "Pad len: 4864\n"
     ]
    },
    {
     "name": "stderr",
     "output_type": "stream",
     "text": [
      "/opt/conda/lib/python3.7/site-packages/jax/_src/numpy/lax_numpy.py:3650: UserWarning: Explicitly requested dtype <class 'jax._src.numpy.lax_numpy.float64'> requested in asarray is not available, and will be truncated to dtype float32. To enable more dtypes, set the jax_enable_x64 configuration option or the JAX_ENABLE_X64 shell environment variable. See https://github.com/google/jax#current-gotchas for more.\n",
      "  lax._check_user_dtype_supported(dtype, \"asarray\")\n"
     ]
    },
    {
     "name": "stdout",
     "output_type": "stream",
     "text": [
      "Pad len: 4864\n",
      "Pad len: 4864\n",
      "Pad len: 4864\n",
      "Pad len: 4864\n",
      "Pad len: 4864\n",
      "Pad len: 4864\n",
      "Pad len: 4864\n",
      "Pad len: 4864\n",
      "Pad len: 4864\n"
     ]
    }
   ],
   "source": [
    "for i in range(10):\n",
    "    matrices = []\n",
    "    event, _ = generate_cascade(\n",
    "        det, event_data[\"pos\"], event_data[\"t0\"], event_dir, energy=event_data[\"energy\"], particle_id=event_data[\"pid\"], pprop_func=gen_ph,\n",
    "        seed=1, \n",
    "        converter_func=make_realistic_cascade_source,\n",
    "        pprop_extras={\"c_medium\": c_medium_f(700) / 1E9},\n",
    "        converter_extras={\"resolution\": 0.5}\n",
    "    )\n",
    "    evpd = pad_event(event)\n",
    "\n",
    "    jacsum = 0\n",
    "    for j in range(evpd.shape[0]):\n",
    "        res = jnp.stack(eval_j(event_data[\"pos\"][0], event_data[\"pos\"][1], event_data[\"pos\"][2], event_data[\"theta\"], event_data[\"phi\"], event_data[\"t0\"], \n",
    "                               np.log10(event_data[\"energy\"]),\n",
    "                               evpd[j],\n",
    "                               det.module_coords[j]))\n",
    "        jacsum += res\n",
    "    matrices.append(jacsum[:, np.newaxis] * jacsum[np.newaxis, :])\n",
    "\n",
    "cr = jnp.average(jnp.stack(matrices), axis=0)\n",
    "\n"
   ]
  },
  {
   "cell_type": "code",
   "execution_count": 9,
   "id": "5120c447",
   "metadata": {},
   "outputs": [
    {
     "data": {
      "text/plain": [
       "DeviceArray([[ 1.1425958e+06,  2.4261912e+06,  3.2936500e+05,\n",
       "              -1.8408682e+08, -1.9579254e+07,  0.0000000e+00,\n",
       "              -2.8922069e+05],\n",
       "             [ 2.4261912e+06,  5.1517815e+06,  6.9937462e+05,\n",
       "              -3.9089050e+08, -4.1574644e+07,  0.0000000e+00,\n",
       "              -6.1413206e+05],\n",
       "             [ 3.2936500e+05,  6.9937462e+05,  9.4942859e+04,\n",
       "              -5.3064920e+07, -5.6439215e+06,  0.0000000e+00,\n",
       "              -8.3370844e+04],\n",
       "             [-1.8408682e+08, -3.9089050e+08, -5.3064920e+07,\n",
       "               2.9658743e+10,  3.1544684e+09, -0.0000000e+00,\n",
       "               4.6597156e+07],\n",
       "             [-1.9579254e+07, -4.1574644e+07, -5.6439215e+06,\n",
       "               3.1544684e+09,  3.3550547e+08, -0.0000000e+00,\n",
       "               4.9560175e+06],\n",
       "             [ 0.0000000e+00,  0.0000000e+00,  0.0000000e+00,\n",
       "              -0.0000000e+00, -0.0000000e+00,  0.0000000e+00,\n",
       "              -0.0000000e+00],\n",
       "             [-2.8922069e+05, -6.1413206e+05, -8.3370844e+04,\n",
       "               4.6597156e+07,  4.9560175e+06, -0.0000000e+00,\n",
       "               7.3209266e+04]], dtype=float32)"
      ]
     },
     "execution_count": 9,
     "metadata": {},
     "output_type": "execute_result"
    }
   ],
   "source": [
    "cr"
   ]
  },
  {
   "cell_type": "code",
   "execution_count": 11,
   "id": "cb96a835",
   "metadata": {},
   "outputs": [
    {
     "data": {
      "text/plain": [
       "DeviceArray([ -0.23982693,  -4.665947  , 139.72375   ], dtype=float32)"
      ]
     },
     "execution_count": 11,
     "metadata": {},
     "output_type": "execute_result"
    }
   ],
   "source": [
    "jnp.diag(jnp.linalg.inv(cr[:3, :3]))"
   ]
  },
  {
   "cell_type": "code",
   "execution_count": 9,
   "id": "0e59fad3",
   "metadata": {},
   "outputs": [
    {
     "name": "stdout",
     "output_type": "stream",
     "text": [
      "Invalid value encountered in the output of a jit/pmap-ed function. Calling the de-optimized version.\n"
     ]
    },
    {
     "ename": "FloatingPointError",
     "evalue": "invalid value (nan) encountered in sqrt",
     "output_type": "error",
     "traceback": [
      "\u001b[0;31m---------------------------------------------------------------------------\u001b[0m",
      "\u001b[0;31mFloatingPointError\u001b[0m                        Traceback (most recent call last)",
      "    \u001b[0;31m[... skipping hidden 1 frame]\u001b[0m\n",
      "\u001b[0;32m/opt/conda/lib/python3.7/site-packages/jax/_src/dispatch.py\u001b[0m in \u001b[0;36m_execute_compiled\u001b[0;34m(name, compiled, output_buffer_counts, result_handlers, kept_var_idx, *args)\u001b[0m\n\u001b[1;32m    436\u001b[0m   \u001b[0mout_bufs\u001b[0m \u001b[0;34m=\u001b[0m \u001b[0mcompiled\u001b[0m\u001b[0;34m.\u001b[0m\u001b[0mexecute\u001b[0m\u001b[0;34m(\u001b[0m\u001b[0minput_bufs\u001b[0m\u001b[0;34m)\u001b[0m\u001b[0;34m\u001b[0m\u001b[0;34m\u001b[0m\u001b[0m\n\u001b[0;32m--> 437\u001b[0;31m   \u001b[0mcheck_special\u001b[0m\u001b[0;34m(\u001b[0m\u001b[0mname\u001b[0m\u001b[0;34m,\u001b[0m \u001b[0mout_bufs\u001b[0m\u001b[0;34m)\u001b[0m\u001b[0;34m\u001b[0m\u001b[0;34m\u001b[0m\u001b[0m\n\u001b[0m\u001b[1;32m    438\u001b[0m   \u001b[0;32mif\u001b[0m \u001b[0moutput_buffer_counts\u001b[0m \u001b[0;32mis\u001b[0m \u001b[0;32mNone\u001b[0m\u001b[0;34m:\u001b[0m\u001b[0;34m\u001b[0m\u001b[0;34m\u001b[0m\u001b[0m\n",
      "\u001b[0;32m/opt/conda/lib/python3.7/site-packages/jax/_src/dispatch.py\u001b[0m in \u001b[0;36mcheck_special\u001b[0;34m(name, bufs)\u001b[0m\n\u001b[1;32m    418\u001b[0m     \u001b[0;32mfor\u001b[0m \u001b[0mbuf\u001b[0m \u001b[0;32min\u001b[0m \u001b[0mbufs\u001b[0m\u001b[0;34m:\u001b[0m\u001b[0;34m\u001b[0m\u001b[0;34m\u001b[0m\u001b[0m\n\u001b[0;32m--> 419\u001b[0;31m       \u001b[0m_check_special\u001b[0m\u001b[0;34m(\u001b[0m\u001b[0mname\u001b[0m\u001b[0;34m,\u001b[0m \u001b[0mbuf\u001b[0m\u001b[0;34m.\u001b[0m\u001b[0mxla_shape\u001b[0m\u001b[0;34m(\u001b[0m\u001b[0;34m)\u001b[0m\u001b[0;34m,\u001b[0m \u001b[0mbuf\u001b[0m\u001b[0;34m)\u001b[0m\u001b[0;34m\u001b[0m\u001b[0;34m\u001b[0m\u001b[0m\n\u001b[0m\u001b[1;32m    420\u001b[0m \u001b[0;34m\u001b[0m\u001b[0m\n",
      "\u001b[0;32m/opt/conda/lib/python3.7/site-packages/jax/_src/dispatch.py\u001b[0m in \u001b[0;36m_check_special\u001b[0;34m(name, xla_shape, buf)\u001b[0m\n\u001b[1;32m    424\u001b[0m     \u001b[0;32mif\u001b[0m \u001b[0mconfig\u001b[0m\u001b[0;34m.\u001b[0m\u001b[0mjax_debug_nans\u001b[0m \u001b[0;32mand\u001b[0m \u001b[0mnp\u001b[0m\u001b[0;34m.\u001b[0m\u001b[0many\u001b[0m\u001b[0;34m(\u001b[0m\u001b[0mnp\u001b[0m\u001b[0;34m.\u001b[0m\u001b[0misnan\u001b[0m\u001b[0;34m(\u001b[0m\u001b[0mbuf\u001b[0m\u001b[0;34m.\u001b[0m\u001b[0mto_py\u001b[0m\u001b[0;34m(\u001b[0m\u001b[0;34m)\u001b[0m\u001b[0;34m)\u001b[0m\u001b[0;34m)\u001b[0m\u001b[0;34m:\u001b[0m\u001b[0;34m\u001b[0m\u001b[0;34m\u001b[0m\u001b[0m\n\u001b[0;32m--> 425\u001b[0;31m       \u001b[0;32mraise\u001b[0m \u001b[0mFloatingPointError\u001b[0m\u001b[0;34m(\u001b[0m\u001b[0;34mf\"invalid value (nan) encountered in {name}\"\u001b[0m\u001b[0;34m)\u001b[0m\u001b[0;34m\u001b[0m\u001b[0;34m\u001b[0m\u001b[0m\n\u001b[0m\u001b[1;32m    426\u001b[0m     \u001b[0;32mif\u001b[0m \u001b[0mconfig\u001b[0m\u001b[0;34m.\u001b[0m\u001b[0mjax_debug_infs\u001b[0m \u001b[0;32mand\u001b[0m \u001b[0mnp\u001b[0m\u001b[0;34m.\u001b[0m\u001b[0many\u001b[0m\u001b[0;34m(\u001b[0m\u001b[0mnp\u001b[0m\u001b[0;34m.\u001b[0m\u001b[0misinf\u001b[0m\u001b[0;34m(\u001b[0m\u001b[0mbuf\u001b[0m\u001b[0;34m.\u001b[0m\u001b[0mto_py\u001b[0m\u001b[0;34m(\u001b[0m\u001b[0;34m)\u001b[0m\u001b[0;34m)\u001b[0m\u001b[0;34m)\u001b[0m\u001b[0;34m:\u001b[0m\u001b[0;34m\u001b[0m\u001b[0;34m\u001b[0m\u001b[0m\n",
      "\u001b[0;31mFloatingPointError\u001b[0m: invalid value (nan) encountered in <lambda>",
      "\nDuring handling of the above exception, another exception occurred:\n",
      "\u001b[0;31mFloatingPointError\u001b[0m                        Traceback (most recent call last)",
      "\u001b[0;32m/tmp/ipykernel_401186/3768880629.py\u001b[0m in \u001b[0;36m<module>\u001b[0;34m\u001b[0m\n\u001b[0;32m----> 1\u001b[0;31m \u001b[0mjnp\u001b[0m\u001b[0;34m.\u001b[0m\u001b[0msqrt\u001b[0m\u001b[0;34m(\u001b[0m\u001b[0mjnp\u001b[0m\u001b[0;34m.\u001b[0m\u001b[0mdiag\u001b[0m\u001b[0;34m(\u001b[0m\u001b[0mjnp\u001b[0m\u001b[0;34m.\u001b[0m\u001b[0mlinalg\u001b[0m\u001b[0;34m.\u001b[0m\u001b[0minv\u001b[0m\u001b[0;34m(\u001b[0m\u001b[0mjacsum\u001b[0m\u001b[0;34m[\u001b[0m\u001b[0;34m:\u001b[0m\u001b[0;34m,\u001b[0m \u001b[0mnp\u001b[0m\u001b[0;34m.\u001b[0m\u001b[0mnewaxis\u001b[0m\u001b[0;34m]\u001b[0m \u001b[0;34m*\u001b[0m \u001b[0mjacsum\u001b[0m\u001b[0;34m[\u001b[0m\u001b[0mnp\u001b[0m\u001b[0;34m.\u001b[0m\u001b[0mnewaxis\u001b[0m\u001b[0;34m,\u001b[0m \u001b[0;34m:\u001b[0m\u001b[0;34m]\u001b[0m\u001b[0;34m)\u001b[0m\u001b[0;34m)\u001b[0m\u001b[0;34m)\u001b[0m\u001b[0;34m\u001b[0m\u001b[0;34m\u001b[0m\u001b[0m\n\u001b[0m",
      "    \u001b[0;31m[... skipping hidden 8 frame]\u001b[0m\n",
      "\u001b[0;32m/opt/conda/lib/python3.7/site-packages/jax/_src/numpy/lax_numpy.py\u001b[0m in \u001b[0;36m<lambda>\u001b[0;34m(x)\u001b[0m\n\u001b[1;32m    690\u001b[0m \u001b[0;32mdef\u001b[0m \u001b[0m_one_to_one_unop\u001b[0m\u001b[0;34m(\u001b[0m\u001b[0mnumpy_fn\u001b[0m\u001b[0;34m,\u001b[0m \u001b[0mlax_fn\u001b[0m\u001b[0;34m,\u001b[0m \u001b[0mpromote_to_inexact\u001b[0m\u001b[0;34m=\u001b[0m\u001b[0;32mFalse\u001b[0m\u001b[0;34m,\u001b[0m \u001b[0mlax_doc\u001b[0m\u001b[0;34m=\u001b[0m\u001b[0;32mFalse\u001b[0m\u001b[0;34m)\u001b[0m\u001b[0;34m:\u001b[0m\u001b[0;34m\u001b[0m\u001b[0;34m\u001b[0m\u001b[0m\n\u001b[1;32m    691\u001b[0m   \u001b[0;32mif\u001b[0m \u001b[0mpromote_to_inexact\u001b[0m\u001b[0;34m:\u001b[0m\u001b[0;34m\u001b[0m\u001b[0;34m\u001b[0m\u001b[0m\n\u001b[0;32m--> 692\u001b[0;31m     \u001b[0mfn\u001b[0m \u001b[0;34m=\u001b[0m \u001b[0;32mlambda\u001b[0m \u001b[0mx\u001b[0m\u001b[0;34m:\u001b[0m \u001b[0mlax_fn\u001b[0m\u001b[0;34m(\u001b[0m\u001b[0;34m*\u001b[0m\u001b[0m_promote_args_inexact\u001b[0m\u001b[0;34m(\u001b[0m\u001b[0mnumpy_fn\u001b[0m\u001b[0;34m.\u001b[0m\u001b[0m__name__\u001b[0m\u001b[0;34m,\u001b[0m \u001b[0mx\u001b[0m\u001b[0;34m)\u001b[0m\u001b[0;34m)\u001b[0m\u001b[0;34m\u001b[0m\u001b[0;34m\u001b[0m\u001b[0m\n\u001b[0m\u001b[1;32m    693\u001b[0m   \u001b[0;32melse\u001b[0m\u001b[0;34m:\u001b[0m\u001b[0;34m\u001b[0m\u001b[0;34m\u001b[0m\u001b[0m\n\u001b[1;32m    694\u001b[0m     \u001b[0mfn\u001b[0m \u001b[0;34m=\u001b[0m \u001b[0;32mlambda\u001b[0m \u001b[0mx\u001b[0m\u001b[0;34m:\u001b[0m \u001b[0mlax_fn\u001b[0m\u001b[0;34m(\u001b[0m\u001b[0;34m*\u001b[0m\u001b[0m_promote_args\u001b[0m\u001b[0;34m(\u001b[0m\u001b[0mnumpy_fn\u001b[0m\u001b[0;34m.\u001b[0m\u001b[0m__name__\u001b[0m\u001b[0;34m,\u001b[0m \u001b[0mx\u001b[0m\u001b[0;34m)\u001b[0m\u001b[0;34m)\u001b[0m\u001b[0;34m\u001b[0m\u001b[0;34m\u001b[0m\u001b[0m\n",
      "    \u001b[0;31m[... skipping hidden 7 frame]\u001b[0m\n",
      "\u001b[0;32m/opt/conda/lib/python3.7/site-packages/jax/_src/dispatch.py\u001b[0m in \u001b[0;36m_check_special\u001b[0;34m(name, xla_shape, buf)\u001b[0m\n\u001b[1;32m    423\u001b[0m   \u001b[0;32mif\u001b[0m \u001b[0mdtypes\u001b[0m\u001b[0;34m.\u001b[0m\u001b[0missubdtype\u001b[0m\u001b[0;34m(\u001b[0m\u001b[0mxla_shape\u001b[0m\u001b[0;34m.\u001b[0m\u001b[0melement_type\u001b[0m\u001b[0;34m(\u001b[0m\u001b[0;34m)\u001b[0m\u001b[0;34m,\u001b[0m \u001b[0mnp\u001b[0m\u001b[0;34m.\u001b[0m\u001b[0minexact\u001b[0m\u001b[0;34m)\u001b[0m\u001b[0;34m:\u001b[0m\u001b[0;34m\u001b[0m\u001b[0;34m\u001b[0m\u001b[0m\n\u001b[1;32m    424\u001b[0m     \u001b[0;32mif\u001b[0m \u001b[0mconfig\u001b[0m\u001b[0;34m.\u001b[0m\u001b[0mjax_debug_nans\u001b[0m \u001b[0;32mand\u001b[0m \u001b[0mnp\u001b[0m\u001b[0;34m.\u001b[0m\u001b[0many\u001b[0m\u001b[0;34m(\u001b[0m\u001b[0mnp\u001b[0m\u001b[0;34m.\u001b[0m\u001b[0misnan\u001b[0m\u001b[0;34m(\u001b[0m\u001b[0mbuf\u001b[0m\u001b[0;34m.\u001b[0m\u001b[0mto_py\u001b[0m\u001b[0;34m(\u001b[0m\u001b[0;34m)\u001b[0m\u001b[0;34m)\u001b[0m\u001b[0;34m)\u001b[0m\u001b[0;34m:\u001b[0m\u001b[0;34m\u001b[0m\u001b[0;34m\u001b[0m\u001b[0m\n\u001b[0;32m--> 425\u001b[0;31m       \u001b[0;32mraise\u001b[0m \u001b[0mFloatingPointError\u001b[0m\u001b[0;34m(\u001b[0m\u001b[0;34mf\"invalid value (nan) encountered in {name}\"\u001b[0m\u001b[0;34m)\u001b[0m\u001b[0;34m\u001b[0m\u001b[0;34m\u001b[0m\u001b[0m\n\u001b[0m\u001b[1;32m    426\u001b[0m     \u001b[0;32mif\u001b[0m \u001b[0mconfig\u001b[0m\u001b[0;34m.\u001b[0m\u001b[0mjax_debug_infs\u001b[0m \u001b[0;32mand\u001b[0m \u001b[0mnp\u001b[0m\u001b[0;34m.\u001b[0m\u001b[0many\u001b[0m\u001b[0;34m(\u001b[0m\u001b[0mnp\u001b[0m\u001b[0;34m.\u001b[0m\u001b[0misinf\u001b[0m\u001b[0;34m(\u001b[0m\u001b[0mbuf\u001b[0m\u001b[0;34m.\u001b[0m\u001b[0mto_py\u001b[0m\u001b[0;34m(\u001b[0m\u001b[0;34m)\u001b[0m\u001b[0;34m)\u001b[0m\u001b[0;34m)\u001b[0m\u001b[0;34m:\u001b[0m\u001b[0;34m\u001b[0m\u001b[0;34m\u001b[0m\u001b[0m\n\u001b[1;32m    427\u001b[0m       \u001b[0;32mraise\u001b[0m \u001b[0mFloatingPointError\u001b[0m\u001b[0;34m(\u001b[0m\u001b[0;34mf\"invalid value (inf) encountered in {name}\"\u001b[0m\u001b[0;34m)\u001b[0m\u001b[0;34m\u001b[0m\u001b[0;34m\u001b[0m\u001b[0m\n",
      "\u001b[0;31mFloatingPointError\u001b[0m: invalid value (nan) encountered in sqrt"
     ]
    }
   ],
   "source": [
    "jnp.sqrt(jnp.diag(jnp.linalg.inv(jacsum[:, np.newaxis] * jacsum[np.newaxis, :])))"
   ]
  },
  {
   "cell_type": "code",
   "execution_count": 9,
   "id": "a8e15a8e",
   "metadata": {},
   "outputs": [
    {
     "ename": "TypeError",
     "evalue": "eval_for_mod() missing 2 required positional arguments: 'times' and 'mod_coords'",
     "output_type": "error",
     "traceback": [
      "\u001b[0;31m---------------------------------------------------------------------------\u001b[0m",
      "\u001b[0;31mTypeError\u001b[0m                                 Traceback (most recent call last)",
      "\u001b[0;32m/tmp/ipykernel_393437/2679515087.py\u001b[0m in \u001b[0;36m<module>\u001b[0;34m\u001b[0m\n\u001b[0;32m----> 1\u001b[0;31m \u001b[0meval_for_mod\u001b[0m\u001b[0;34m(\u001b[0m\u001b[0mevent_data\u001b[0m\u001b[0;34m[\u001b[0m\u001b[0;34m\"pos\"\u001b[0m\u001b[0;34m]\u001b[0m\u001b[0;34m[\u001b[0m\u001b[0;36m0\u001b[0m\u001b[0;34m]\u001b[0m\u001b[0;34m,\u001b[0m \u001b[0mevent_data\u001b[0m\u001b[0;34m[\u001b[0m\u001b[0;34m\"pos\"\u001b[0m\u001b[0;34m]\u001b[0m\u001b[0;34m[\u001b[0m\u001b[0;36m1\u001b[0m\u001b[0;34m]\u001b[0m\u001b[0;34m,\u001b[0m \u001b[0mevent_data\u001b[0m\u001b[0;34m[\u001b[0m\u001b[0;34m\"pos\"\u001b[0m\u001b[0;34m]\u001b[0m\u001b[0;34m[\u001b[0m\u001b[0;36m2\u001b[0m\u001b[0;34m]\u001b[0m\u001b[0;34m,\u001b[0m \u001b[0mevent_data\u001b[0m\u001b[0;34m[\u001b[0m\u001b[0;34m\"theta\"\u001b[0m\u001b[0;34m]\u001b[0m\u001b[0;34m,\u001b[0m \u001b[0mevent_data\u001b[0m\u001b[0;34m[\u001b[0m\u001b[0;34m\"phi\"\u001b[0m\u001b[0;34m]\u001b[0m\u001b[0;34m,\u001b[0m \u001b[0mevent_data\u001b[0m\u001b[0;34m[\u001b[0m\u001b[0;34m\"t0\"\u001b[0m\u001b[0;34m]\u001b[0m\u001b[0;34m,\u001b[0m \u001b[0;36m5E5\u001b[0m\u001b[0;34m)\u001b[0m\u001b[0;34m\u001b[0m\u001b[0;34m\u001b[0m\u001b[0m\n\u001b[0m",
      "\u001b[0;31mTypeError\u001b[0m: eval_for_mod() missing 2 required positional arguments: 'times' and 'mod_coords'"
     ]
    }
   ],
   "source": [
    "eval_for_mod(event_data[\"pos\"][0], event_data[\"pos\"][1], event_data[\"pos\"][2], event_data[\"theta\"], event_data[\"phi\"], event_data[\"t0\"], 5E5)"
   ]
  },
  {
   "cell_type": "code",
   "execution_count": 12,
   "id": "72761cdf",
   "metadata": {},
   "outputs": [
    {
     "name": "stdout",
     "output_type": "stream",
     "text": [
      "Pad len: 4864\n",
      "Pad len: 4864\n"
     ]
    },
    {
     "data": {
      "image/png": "[encoded data removed]",
      "text/plain": [
       "<Figure size 432x288 with 1 Axes>"
      ]
     },
     "metadata": {
      "needs_background": "light"
     },
     "output_type": "display_data"
    },
    {
     "data": {
      "image/png": "[encoded data removed]",
      "text/plain": [
       "<Figure size 432x288 with 1 Axes>"
      ]
     },
     "metadata": {
      "needs_background": "light"
     },
     "output_type": "display_data"
    }
   ],
   "source": [
    "def eval_energy(energy):\n",
    "    sources = make_realistic_cascade_source(event_data[\"pos\"], event_data[\"t0\"], event_dir, energy, 11, resolution=0.5)\n",
    "    return evlh(\n",
    "        pad_event(event3),\n",
    "        det.module_coords, sources[0], sources[1], sources[2], sources[3], c_medium_f(700) / 1E9\n",
    "    ).sum()\n",
    "\n",
    "eval_energy_j = jax.jit(eval_energy)\n",
    "\n",
    "def eval_x(x):\n",
    "\n",
    "    pos = jnp.asarray([event_data[\"pos\"][0], x, event_data[\"pos\"][2]])\n",
    "    sources = make_realistic_cascade_source(pos, event_data[\"t0\"], event_dir, event_data[\"energy\"], 11, resolution=0.5)\n",
    "    return evlh(\n",
    "        pad_event(event3),\n",
    "        det.module_coords, sources[0], sources[1], sources[2], sources[3], c_medium_f(700) / 1E9\n",
    "    ).sum()\n",
    "\n",
    "eval_x_j = jax.jit(eval_x)\n",
    "\n",
    "\n",
    "energies = jnp.logspace(3, 6, 10)\n",
    "for e in energies:\n",
    "    plt.plot(e, eval_energy_j(e), \"ok\")\n",
    "plt.semilogx()\n",
    "\n",
    "plt.figure()\n",
    "xs = np.linspace(-10, 10, 20)\n",
    "\n",
    "for x in xs:\n",
    "    plt.plot(x, eval_x_j(x), \"ok\")\n",
    "\n"
   ]
  },
  {
   "cell_type": "code",
   "execution_count": 5,
   "id": "3eedc59d",
   "metadata": {},
   "outputs": [
    {
     "data": {
      "text/plain": [
       "'\\nsources = make_realistic_cascade_source(event_data[\"pos\"], event_data[\"t0\"], event_dir, event_data[\"energy\"], 11)\\nsplit_ev = [\\n    gen_ph(det.module_coords, det.module_efficiencies, [sources[i]], seed=1, c_medium=c_medium_f(700) / 1E9)\\n    for i in range(len(sources))\\n]\\nspl_sum = ak.concatenate([ev for ev in split_ev if ak.count(ev) > 0], axis=1)\\n'"
      ]
     },
     "execution_count": 5,
     "metadata": {},
     "output_type": "execute_result"
    }
   ],
   "source": [
    "\"\"\"\n",
    "sources = make_realistic_cascade_source(event_data[\"pos\"], event_data[\"t0\"], event_dir, event_data[\"energy\"], 11)\n",
    "split_ev = [\n",
    "    gen_ph(det.module_coords, det.module_efficiencies, [sources[i]], seed=1, c_medium=c_medium_f(700) / 1E9)\n",
    "    for i in range(len(sources))\n",
    "]\n",
    "spl_sum = ak.concatenate([ev for ev in split_ev if ak.count(ev) > 0], axis=1)\n",
    "\"\"\"\n"
   ]
  },
  {
   "cell_type": "code",
   "execution_count": 6,
   "id": "b21eda95",
   "metadata": {},
   "outputs": [],
   "source": [
    "prop = proposal_setup()"
   ]
  },
  {
   "cell_type": "code",
   "execution_count": 7,
   "id": "e0b5fd2c-595e-4e71-95df-0673a4d40f3c",
   "metadata": {},
   "outputs": [],
   "source": [
    "track_event, track_record = generate_realistic_track(\n",
    "    det, event_data[\"pos\"], event_dir, track_len=300, t0=event_data[\"t0\"], energy=event_data[\"energy\"], pprop_func=gen_ph,\n",
    "    seed=1, \n",
    "    pprop_extras={\"c_medium\": c_medium_f(700) / 1E9},\n",
    "    propagator = prop\n",
    ")\n"
   ]
  },
  {
   "cell_type": "code",
   "execution_count": 8,
   "id": "30951be2",
   "metadata": {},
   "outputs": [],
   "source": [
    "event2, record2 = generate_cascade(\n",
    "    det, event_data[\"pos\"], event_data[\"t0\"], event_dir, energy=event_data[\"energy\"], particle_id=event_data[\"pid\"], pprop_func=gen_ph,\n",
    "    seed=1, \n",
    "    converter_func=make_realistic_cascade_source,\n",
    "    pprop_extras={\"c_medium\": c_medium_f(700) / 1E9},\n",
    "    converter_extras={\"resolution\": 0.5}\n",
    ")\n",
    "\n",
    "event3, record3 = generate_cascade(\n",
    "    det, event_data[\"pos\"], event_data[\"t0\"], event_dir, energy=event_data[\"energy\"], particle_id=event_data[\"pid\"], pprop_func=gen_ph,\n",
    "    seed=1, \n",
    "    converter_func=make_realistic_cascade_source,\n",
    "    pprop_extras={\"c_medium\": c_medium_f(700) / 1E9},\n",
    "    converter_extras={\"resolution\": 0.2}\n",
    ")\n"
   ]
  },
  {
   "cell_type": "code",
   "execution_count": 9,
   "id": "d05dec7e",
   "metadata": {},
   "outputs": [
    {
     "ename": "NameError",
     "evalue": "name 'event' is not defined",
     "output_type": "error",
     "traceback": [
      "\u001b[0;31m---------------------------------------------------------------------------\u001b[0m",
      "\u001b[0;31mNameError\u001b[0m                                 Traceback (most recent call last)",
      "\u001b[0;32m/tmp/ipykernel_468/2939902274.py\u001b[0m in \u001b[0;36m<module>\u001b[0;34m\u001b[0m\n\u001b[0;32m----> 1\u001b[0;31m \u001b[0mixso\u001b[0m \u001b[0;34m=\u001b[0m \u001b[0mak\u001b[0m\u001b[0;34m.\u001b[0m\u001b[0margsort\u001b[0m\u001b[0;34m(\u001b[0m\u001b[0mak\u001b[0m\u001b[0;34m.\u001b[0m\u001b[0mcount\u001b[0m\u001b[0;34m(\u001b[0m\u001b[0mevent\u001b[0m\u001b[0;34m,\u001b[0m \u001b[0maxis\u001b[0m\u001b[0;34m=\u001b[0m\u001b[0;36m1\u001b[0m\u001b[0;34m)\u001b[0m\u001b[0;34m)\u001b[0m\u001b[0;34m[\u001b[0m\u001b[0;34m:\u001b[0m\u001b[0;34m:\u001b[0m\u001b[0;34m-\u001b[0m\u001b[0;36m1\u001b[0m\u001b[0;34m]\u001b[0m\u001b[0;34m\u001b[0m\u001b[0;34m\u001b[0m\u001b[0m\n\u001b[0m\u001b[1;32m      2\u001b[0m \u001b[0;34m\u001b[0m\u001b[0m\n\u001b[1;32m      3\u001b[0m \u001b[0mfig\u001b[0m\u001b[0;34m,\u001b[0m \u001b[0maxs\u001b[0m \u001b[0;34m=\u001b[0m \u001b[0mplt\u001b[0m\u001b[0;34m.\u001b[0m\u001b[0msubplots\u001b[0m\u001b[0;34m(\u001b[0m\u001b[0;36m2\u001b[0m\u001b[0;34m,\u001b[0m \u001b[0;36m2\u001b[0m\u001b[0;34m,\u001b[0m \u001b[0mfigsize\u001b[0m\u001b[0;34m=\u001b[0m\u001b[0;34m(\u001b[0m\u001b[0;36m16\u001b[0m\u001b[0;34m,\u001b[0m \u001b[0;36m8\u001b[0m\u001b[0;34m)\u001b[0m\u001b[0;34m)\u001b[0m\u001b[0;34m\u001b[0m\u001b[0;34m\u001b[0m\u001b[0m\n\u001b[1;32m      4\u001b[0m \u001b[0;34m\u001b[0m\u001b[0m\n\u001b[1;32m      5\u001b[0m \u001b[0mbinning\u001b[0m \u001b[0;34m=\u001b[0m \u001b[0mnp\u001b[0m\u001b[0;34m.\u001b[0m\u001b[0mlinspace\u001b[0m\u001b[0;34m(\u001b[0m\u001b[0;36m200\u001b[0m\u001b[0;34m,\u001b[0m \u001b[0;36m800\u001b[0m\u001b[0;34m,\u001b[0m \u001b[0;36m100\u001b[0m\u001b[0;34m)\u001b[0m\u001b[0;34m\u001b[0m\u001b[0;34m\u001b[0m\u001b[0m\n",
      "\u001b[0;31mNameError\u001b[0m: name 'event' is not defined"
     ]
    }
   ],
   "source": [
    "ixso = ak.argsort(ak.count(event, axis=1))[::-1]\n",
    "\n",
    "fig, axs = plt.subplots(2, 2, figsize=(16, 8))\n",
    "\n",
    "binning = np.linspace(200, 800, 100)\n",
    "\n",
    "for ix, ax in zip(ixso, axs.ravel()):\n",
    "    times = event[ix]\n",
    "    sns.histplot(np.asarray(times), bins=binning, ax=ax)\n",
    "    ax.set_yscale(\"log\")\n",
    "\n"
   ]
  },
  {
   "cell_type": "code",
   "execution_count": 10,
   "id": "4d36d2ff",
   "metadata": {},
   "outputs": [
    {
     "data": {
      "image/png": "[encoded data removed]",
      "text/plain": [
       "<Figure size 1152x576 with 4 Axes>"
      ]
     },
     "metadata": {
      "needs_background": "light"
     },
     "output_type": "display_data"
    }
   ],
   "source": [
    "ixso = ak.argsort(ak.count(event2, axis=1))[::-1]\n",
    "\n",
    "fig, axs = plt.subplots(2, 2, figsize=(16, 8))\n",
    "\n",
    "binning = np.linspace(200, 800, 100)\n",
    "\n",
    "for ix, ax in zip(ixso, axs.ravel()):\n",
    "    times = event2[ix]\n",
    "    sns.histplot(np.asarray(times), bins=binning, ax=ax)\n",
    "\n",
    "    times = event3[ix]\n",
    "    sns.histplot(np.asarray(times), bins=binning, ax=ax, color=\"orange\")\n",
    "    ax.set_yscale(\"log\")\n",
    "\n",
    "    \"\"\"\n",
    "    \n",
    "    times = spl_sum[ix]\n",
    "    sns.histplot(np.asarray(times), bins=binning, ax=ax, color=\"blue\")\n",
    "    for spl in split_ev:\n",
    "        if ak.count(spl) > 0:\n",
    "            times = spl[ix]\n",
    "            sns.histplot(np.asarray(times), bins=binning, ax=ax, color=\"blue\")\n",
    "    \"\"\"\n"
   ]
  },
  {
   "cell_type": "code",
   "execution_count": 6,
   "id": "e822d7ff",
   "metadata": {},
   "outputs": [
    {
     "name": "stdout",
     "output_type": "stream",
     "text": [
      "Pad len: 256\n"
     ]
    },
    {
     "name": "stderr",
     "output_type": "stream",
     "text": [
      "2022-01-21 11:39:47.226879: W external/org_tensorflow/tensorflow/core/common_runtime/bfc_allocator.cc:275] Allocator (GPU_0_bfc) ran out of memory trying to allocate 1.41GiB with freed_by_count=0. The caller indicates that this is not a failure, but may mean that there could be performance gains if more memory were available.\n"
     ]
    },
    {
     "ename": "RuntimeError",
     "evalue": "RESOURCE_EXHAUSTED: Out of memory while trying to allocate 1518697216 bytes.",
     "output_type": "error",
     "traceback": [
      "\u001b[0;31m---------------------------------------------------------------------------\u001b[0m",
      "\u001b[0;31mJaxStackTraceBeforeTransformation\u001b[0m         Traceback (most recent call last)",
      "\u001b[0;32m/opt/conda/lib/python3.7/runpy.py\u001b[0m in \u001b[0;36m_run_module_as_main\u001b[0;34m(***failed resolving arguments***)\u001b[0m\n\u001b[1;32m    192\u001b[0m     return _run_code(code, main_globals, None,\n\u001b[0;32m--> 193\u001b[0;31m                      \"__main__\", mod_spec)\n\u001b[0m\u001b[1;32m    194\u001b[0m \u001b[0;34m\u001b[0m\u001b[0m\n",
      "\u001b[0;32m/opt/conda/lib/python3.7/runpy.py\u001b[0m in \u001b[0;36m_run_code\u001b[0;34m(***failed resolving arguments***)\u001b[0m\n\u001b[1;32m     84\u001b[0m                        __spec__ = mod_spec)\n\u001b[0;32m---> 85\u001b[0;31m     \u001b[0mexec\u001b[0m\u001b[0;34m(\u001b[0m\u001b[0mcode\u001b[0m\u001b[0;34m,\u001b[0m \u001b[0mrun_globals\u001b[0m\u001b[0;34m)\u001b[0m\u001b[0;34m\u001b[0m\u001b[0;34m\u001b[0m\u001b[0m\n\u001b[0m\u001b[1;32m     86\u001b[0m     \u001b[0;32mreturn\u001b[0m \u001b[0mrun_globals\u001b[0m\u001b[0;34m\u001b[0m\u001b[0;34m\u001b[0m\u001b[0m\n",
      "\u001b[0;32m/opt/conda/lib/python3.7/site-packages/ipykernel_launcher.py\u001b[0m in \u001b[0;36m<module>\u001b[0;34m\u001b[0m\n\u001b[1;32m     15\u001b[0m     \u001b[0;32mfrom\u001b[0m \u001b[0mipykernel\u001b[0m \u001b[0;32mimport\u001b[0m \u001b[0mkernelapp\u001b[0m \u001b[0;32mas\u001b[0m \u001b[0mapp\u001b[0m\u001b[0;34m\u001b[0m\u001b[0;34m\u001b[0m\u001b[0m\n\u001b[0;32m---> 16\u001b[0;31m     \u001b[0mapp\u001b[0m\u001b[0;34m.\u001b[0m\u001b[0mlaunch_new_instance\u001b[0m\u001b[0;34m(\u001b[0m\u001b[0;34m)\u001b[0m\u001b[0;34m\u001b[0m\u001b[0;34m\u001b[0m\u001b[0m\n\u001b[0m",
      "\u001b[0;32m/opt/conda/lib/python3.7/site-packages/traitlets/config/application.py\u001b[0m in \u001b[0;36mlaunch_instance\u001b[0;34m(***failed resolving arguments***)\u001b[0m\n\u001b[1;32m    845\u001b[0m         \u001b[0mapp\u001b[0m\u001b[0;34m.\u001b[0m\u001b[0minitialize\u001b[0m\u001b[0;34m(\u001b[0m\u001b[0margv\u001b[0m\u001b[0;34m)\u001b[0m\u001b[0;34m\u001b[0m\u001b[0;34m\u001b[0m\u001b[0m\n\u001b[0;32m--> 846\u001b[0;31m         \u001b[0mapp\u001b[0m\u001b[0;34m.\u001b[0m\u001b[0mstart\u001b[0m\u001b[0;34m(\u001b[0m\u001b[0;34m)\u001b[0m\u001b[0;34m\u001b[0m\u001b[0;34m\u001b[0m\u001b[0m\n\u001b[0m\u001b[1;32m    847\u001b[0m \u001b[0;34m\u001b[0m\u001b[0m\n",
      "\u001b[0;32m/opt/conda/lib/python3.7/site-packages/ipykernel/kernelapp.py\u001b[0m in \u001b[0;36mstart\u001b[0;34m(***failed resolving arguments***)\u001b[0m\n\u001b[1;32m    676\u001b[0m             \u001b[0;32mtry\u001b[0m\u001b[0;34m:\u001b[0m\u001b[0;34m\u001b[0m\u001b[0;34m\u001b[0m\u001b[0m\n\u001b[0;32m--> 677\u001b[0;31m                 \u001b[0mself\u001b[0m\u001b[0;34m.\u001b[0m\u001b[0mio_loop\u001b[0m\u001b[0;34m.\u001b[0m\u001b[0mstart\u001b[0m\u001b[0;34m(\u001b[0m\u001b[0;34m)\u001b[0m\u001b[0;34m\u001b[0m\u001b[0;34m\u001b[0m\u001b[0m\n\u001b[0m\u001b[1;32m    678\u001b[0m             \u001b[0;32mexcept\u001b[0m \u001b[0mKeyboardInterrupt\u001b[0m\u001b[0;34m:\u001b[0m\u001b[0;34m\u001b[0m\u001b[0;34m\u001b[0m\u001b[0m\n",
      "\u001b[0;32m/opt/conda/lib/python3.7/site-packages/tornado/platform/asyncio.py\u001b[0m in \u001b[0;36mstart\u001b[0;34m(***failed resolving arguments***)\u001b[0m\n\u001b[1;32m    198\u001b[0m             \u001b[0masyncio\u001b[0m\u001b[0;34m.\u001b[0m\u001b[0mset_event_loop\u001b[0m\u001b[0;34m(\u001b[0m\u001b[0mself\u001b[0m\u001b[0;34m.\u001b[0m\u001b[0masyncio_loop\u001b[0m\u001b[0;34m)\u001b[0m\u001b[0;34m\u001b[0m\u001b[0;34m\u001b[0m\u001b[0m\n\u001b[0;32m--> 199\u001b[0;31m             \u001b[0mself\u001b[0m\u001b[0;34m.\u001b[0m\u001b[0masyncio_loop\u001b[0m\u001b[0;34m.\u001b[0m\u001b[0mrun_forever\u001b[0m\u001b[0;34m(\u001b[0m\u001b[0;34m)\u001b[0m\u001b[0;34m\u001b[0m\u001b[0;34m\u001b[0m\u001b[0m\n\u001b[0m\u001b[1;32m    200\u001b[0m         \u001b[0;32mfinally\u001b[0m\u001b[0;34m:\u001b[0m\u001b[0;34m\u001b[0m\u001b[0;34m\u001b[0m\u001b[0m\n",
      "\u001b[0;32m/opt/conda/lib/python3.7/asyncio/base_events.py\u001b[0m in \u001b[0;36mrun_forever\u001b[0;34m(***failed resolving arguments***)\u001b[0m\n\u001b[1;32m    540\u001b[0m             \u001b[0;32mwhile\u001b[0m \u001b[0;32mTrue\u001b[0m\u001b[0;34m:\u001b[0m\u001b[0;34m\u001b[0m\u001b[0;34m\u001b[0m\u001b[0m\n\u001b[0;32m--> 541\u001b[0;31m                 \u001b[0mself\u001b[0m\u001b[0;34m.\u001b[0m\u001b[0m_run_once\u001b[0m\u001b[0;34m(\u001b[0m\u001b[0;34m)\u001b[0m\u001b[0;34m\u001b[0m\u001b[0;34m\u001b[0m\u001b[0m\n\u001b[0m\u001b[1;32m    542\u001b[0m                 \u001b[0;32mif\u001b[0m \u001b[0mself\u001b[0m\u001b[0;34m.\u001b[0m\u001b[0m_stopping\u001b[0m\u001b[0;34m:\u001b[0m\u001b[0;34m\u001b[0m\u001b[0;34m\u001b[0m\u001b[0m\n",
      "\u001b[0;32m/opt/conda/lib/python3.7/asyncio/base_events.py\u001b[0m in \u001b[0;36m_run_once\u001b[0;34m(***failed resolving arguments***)\u001b[0m\n\u001b[1;32m   1785\u001b[0m             \u001b[0;32melse\u001b[0m\u001b[0;34m:\u001b[0m\u001b[0;34m\u001b[0m\u001b[0;34m\u001b[0m\u001b[0m\n\u001b[0;32m-> 1786\u001b[0;31m                 \u001b[0mhandle\u001b[0m\u001b[0;34m.\u001b[0m\u001b[0m_run\u001b[0m\u001b[0;34m(\u001b[0m\u001b[0;34m)\u001b[0m\u001b[0;34m\u001b[0m\u001b[0;34m\u001b[0m\u001b[0m\n\u001b[0m\u001b[1;32m   1787\u001b[0m         \u001b[0mhandle\u001b[0m \u001b[0;34m=\u001b[0m \u001b[0;32mNone\u001b[0m  \u001b[0;31m# Needed to break cycles when an exception occurs.\u001b[0m\u001b[0;34m\u001b[0m\u001b[0;34m\u001b[0m\u001b[0m\n",
      "\u001b[0;32m/opt/conda/lib/python3.7/asyncio/events.py\u001b[0m in \u001b[0;36m_run\u001b[0;34m(***failed resolving arguments***)\u001b[0m\n\u001b[1;32m     87\u001b[0m         \u001b[0;32mtry\u001b[0m\u001b[0;34m:\u001b[0m\u001b[0;34m\u001b[0m\u001b[0;34m\u001b[0m\u001b[0m\n\u001b[0;32m---> 88\u001b[0;31m             \u001b[0mself\u001b[0m\u001b[0;34m.\u001b[0m\u001b[0m_context\u001b[0m\u001b[0;34m.\u001b[0m\u001b[0mrun\u001b[0m\u001b[0;34m(\u001b[0m\u001b[0mself\u001b[0m\u001b[0;34m.\u001b[0m\u001b[0m_callback\u001b[0m\u001b[0;34m,\u001b[0m \u001b[0;34m*\u001b[0m\u001b[0mself\u001b[0m\u001b[0;34m.\u001b[0m\u001b[0m_args\u001b[0m\u001b[0;34m)\u001b[0m\u001b[0;34m\u001b[0m\u001b[0;34m\u001b[0m\u001b[0m\n\u001b[0m\u001b[1;32m     89\u001b[0m         \u001b[0;32mexcept\u001b[0m \u001b[0mException\u001b[0m \u001b[0;32mas\u001b[0m \u001b[0mexc\u001b[0m\u001b[0;34m:\u001b[0m\u001b[0;34m\u001b[0m\u001b[0;34m\u001b[0m\u001b[0m\n",
      "\u001b[0;32m/opt/conda/lib/python3.7/site-packages/ipykernel/kernelbase.py\u001b[0m in \u001b[0;36mdispatch_queue\u001b[0;34m(***failed resolving arguments***)\u001b[0m\n\u001b[1;32m    456\u001b[0m             \u001b[0;32mtry\u001b[0m\u001b[0;34m:\u001b[0m\u001b[0;34m\u001b[0m\u001b[0;34m\u001b[0m\u001b[0m\n\u001b[0;32m--> 457\u001b[0;31m                 \u001b[0;32mawait\u001b[0m \u001b[0mself\u001b[0m\u001b[0;34m.\u001b[0m\u001b[0mprocess_one\u001b[0m\u001b[0;34m(\u001b[0m\u001b[0;34m)\u001b[0m\u001b[0;34m\u001b[0m\u001b[0;34m\u001b[0m\u001b[0m\n\u001b[0m\u001b[1;32m    458\u001b[0m             \u001b[0;32mexcept\u001b[0m \u001b[0mException\u001b[0m\u001b[0;34m:\u001b[0m\u001b[0;34m\u001b[0m\u001b[0;34m\u001b[0m\u001b[0m\n",
      "\u001b[0;32m/opt/conda/lib/python3.7/site-packages/ipykernel/kernelbase.py\u001b[0m in \u001b[0;36mprocess_one\u001b[0;34m(***failed resolving arguments***)\u001b[0m\n\u001b[1;32m    445\u001b[0m                 \u001b[0;32mreturn\u001b[0m \u001b[0;32mNone\u001b[0m\u001b[0;34m\u001b[0m\u001b[0;34m\u001b[0m\u001b[0m\n\u001b[0;32m--> 446\u001b[0;31m         \u001b[0;32mawait\u001b[0m \u001b[0mdispatch\u001b[0m\u001b[0;34m(\u001b[0m\u001b[0;34m*\u001b[0m\u001b[0margs\u001b[0m\u001b[0;34m)\u001b[0m\u001b[0;34m\u001b[0m\u001b[0;34m\u001b[0m\u001b[0m\n\u001b[0m\u001b[1;32m    447\u001b[0m \u001b[0;34m\u001b[0m\u001b[0m\n",
      "\u001b[0;32m/opt/conda/lib/python3.7/site-packages/ipykernel/kernelbase.py\u001b[0m in \u001b[0;36mdispatch_shell\u001b[0;34m(***failed resolving arguments***)\u001b[0m\n\u001b[1;32m    352\u001b[0m                 \u001b[0;32mif\u001b[0m \u001b[0minspect\u001b[0m\u001b[0;34m.\u001b[0m\u001b[0misawaitable\u001b[0m\u001b[0;34m(\u001b[0m\u001b[0mresult\u001b[0m\u001b[0;34m)\u001b[0m\u001b[0;34m:\u001b[0m\u001b[0;34m\u001b[0m\u001b[0;34m\u001b[0m\u001b[0m\n\u001b[0;32m--> 353\u001b[0;31m                     \u001b[0;32mawait\u001b[0m \u001b[0mresult\u001b[0m\u001b[0;34m\u001b[0m\u001b[0;34m\u001b[0m\u001b[0m\n\u001b[0m\u001b[1;32m    354\u001b[0m             \u001b[0;32mexcept\u001b[0m \u001b[0mException\u001b[0m\u001b[0;34m:\u001b[0m\u001b[0;34m\u001b[0m\u001b[0;34m\u001b[0m\u001b[0m\n",
      "\u001b[0;32m/opt/conda/lib/python3.7/site-packages/ipykernel/kernelbase.py\u001b[0m in \u001b[0;36mexecute_request\u001b[0;34m(***failed resolving arguments***)\u001b[0m\n\u001b[1;32m    647\u001b[0m         \u001b[0;32mif\u001b[0m \u001b[0minspect\u001b[0m\u001b[0;34m.\u001b[0m\u001b[0misawaitable\u001b[0m\u001b[0;34m(\u001b[0m\u001b[0mreply_content\u001b[0m\u001b[0;34m)\u001b[0m\u001b[0;34m:\u001b[0m\u001b[0;34m\u001b[0m\u001b[0;34m\u001b[0m\u001b[0m\n\u001b[0;32m--> 648\u001b[0;31m             \u001b[0mreply_content\u001b[0m \u001b[0;34m=\u001b[0m \u001b[0;32mawait\u001b[0m \u001b[0mreply_content\u001b[0m\u001b[0;34m\u001b[0m\u001b[0;34m\u001b[0m\u001b[0m\n\u001b[0m\u001b[1;32m    649\u001b[0m \u001b[0;34m\u001b[0m\u001b[0m\n",
      "\u001b[0;32m/opt/conda/lib/python3.7/site-packages/ipykernel/ipkernel.py\u001b[0m in \u001b[0;36mdo_execute\u001b[0;34m(***failed resolving arguments***)\u001b[0m\n\u001b[1;32m    352\u001b[0m                 \u001b[0;31m# letting shell dispatch to loop runners\u001b[0m\u001b[0;34m\u001b[0m\u001b[0;34m\u001b[0m\u001b[0;34m\u001b[0m\u001b[0m\n\u001b[0;32m--> 353\u001b[0;31m                 \u001b[0mres\u001b[0m \u001b[0;34m=\u001b[0m \u001b[0mshell\u001b[0m\u001b[0;34m.\u001b[0m\u001b[0mrun_cell\u001b[0m\u001b[0;34m(\u001b[0m\u001b[0mcode\u001b[0m\u001b[0;34m,\u001b[0m \u001b[0mstore_history\u001b[0m\u001b[0;34m=\u001b[0m\u001b[0mstore_history\u001b[0m\u001b[0;34m,\u001b[0m \u001b[0msilent\u001b[0m\u001b[0;34m=\u001b[0m\u001b[0msilent\u001b[0m\u001b[0;34m)\u001b[0m\u001b[0;34m\u001b[0m\u001b[0;34m\u001b[0m\u001b[0m\n\u001b[0m\u001b[1;32m    354\u001b[0m         \u001b[0;32mfinally\u001b[0m\u001b[0;34m:\u001b[0m\u001b[0;34m\u001b[0m\u001b[0;34m\u001b[0m\u001b[0m\n",
      "\u001b[0;32m/opt/conda/lib/python3.7/site-packages/ipykernel/zmqshell.py\u001b[0m in \u001b[0;36mrun_cell\u001b[0;34m(***failed resolving arguments***)\u001b[0m\n\u001b[1;32m    532\u001b[0m         \u001b[0mself\u001b[0m\u001b[0;34m.\u001b[0m\u001b[0m_last_traceback\u001b[0m \u001b[0;34m=\u001b[0m \u001b[0;32mNone\u001b[0m\u001b[0;34m\u001b[0m\u001b[0;34m\u001b[0m\u001b[0m\n\u001b[0;32m--> 533\u001b[0;31m         \u001b[0;32mreturn\u001b[0m \u001b[0msuper\u001b[0m\u001b[0;34m(\u001b[0m\u001b[0mZMQInteractiveShell\u001b[0m\u001b[0;34m,\u001b[0m \u001b[0mself\u001b[0m\u001b[0;34m)\u001b[0m\u001b[0;34m.\u001b[0m\u001b[0mrun_cell\u001b[0m\u001b[0;34m(\u001b[0m\u001b[0;34m*\u001b[0m\u001b[0margs\u001b[0m\u001b[0;34m,\u001b[0m \u001b[0;34m**\u001b[0m\u001b[0mkwargs\u001b[0m\u001b[0;34m)\u001b[0m\u001b[0;34m\u001b[0m\u001b[0;34m\u001b[0m\u001b[0m\n\u001b[0m\u001b[1;32m    534\u001b[0m \u001b[0;34m\u001b[0m\u001b[0m\n",
      "\u001b[0;32m/opt/conda/lib/python3.7/site-packages/IPython/core/interactiveshell.py\u001b[0m in \u001b[0;36mrun_cell\u001b[0;34m(***failed resolving arguments***)\u001b[0m\n\u001b[1;32m   2914\u001b[0m             result = self._run_cell(\n\u001b[0;32m-> 2915\u001b[0;31m                 raw_cell, store_history, silent, shell_futures)\n\u001b[0m\u001b[1;32m   2916\u001b[0m         \u001b[0;32mfinally\u001b[0m\u001b[0;34m:\u001b[0m\u001b[0;34m\u001b[0m\u001b[0;34m\u001b[0m\u001b[0m\n",
      "\u001b[0;32m/opt/conda/lib/python3.7/site-packages/IPython/core/interactiveshell.py\u001b[0m in \u001b[0;36m_run_cell\u001b[0;34m(***failed resolving arguments***)\u001b[0m\n\u001b[1;32m   2959\u001b[0m         \u001b[0;32mtry\u001b[0m\u001b[0;34m:\u001b[0m\u001b[0;34m\u001b[0m\u001b[0;34m\u001b[0m\u001b[0m\n\u001b[0;32m-> 2960\u001b[0;31m             \u001b[0;32mreturn\u001b[0m \u001b[0mrunner\u001b[0m\u001b[0;34m(\u001b[0m\u001b[0mcoro\u001b[0m\u001b[0;34m)\u001b[0m\u001b[0;34m\u001b[0m\u001b[0;34m\u001b[0m\u001b[0m\n\u001b[0m\u001b[1;32m   2961\u001b[0m         \u001b[0;32mexcept\u001b[0m \u001b[0mBaseException\u001b[0m \u001b[0;32mas\u001b[0m \u001b[0me\u001b[0m\u001b[0;34m:\u001b[0m\u001b[0;34m\u001b[0m\u001b[0;34m\u001b[0m\u001b[0m\n",
      "\u001b[0;32m/opt/conda/lib/python3.7/site-packages/IPython/core/async_helpers.py\u001b[0m in \u001b[0;36m_pseudo_sync_runner\u001b[0;34m(***failed resolving arguments***)\u001b[0m\n\u001b[1;32m     77\u001b[0m     \u001b[0;32mtry\u001b[0m\u001b[0;34m:\u001b[0m\u001b[0;34m\u001b[0m\u001b[0;34m\u001b[0m\u001b[0m\n\u001b[0;32m---> 78\u001b[0;31m         \u001b[0mcoro\u001b[0m\u001b[0;34m.\u001b[0m\u001b[0msend\u001b[0m\u001b[0;34m(\u001b[0m\u001b[0;32mNone\u001b[0m\u001b[0;34m)\u001b[0m\u001b[0;34m\u001b[0m\u001b[0;34m\u001b[0m\u001b[0m\n\u001b[0m\u001b[1;32m     79\u001b[0m     \u001b[0;32mexcept\u001b[0m \u001b[0mStopIteration\u001b[0m \u001b[0;32mas\u001b[0m \u001b[0mexc\u001b[0m\u001b[0;34m:\u001b[0m\u001b[0;34m\u001b[0m\u001b[0;34m\u001b[0m\u001b[0m\n",
      "\u001b[0;32m/opt/conda/lib/python3.7/site-packages/IPython/core/interactiveshell.py\u001b[0m in \u001b[0;36mrun_cell_async\u001b[0;34m(***failed resolving arguments***)\u001b[0m\n\u001b[1;32m   3185\u001b[0m                 has_raised = await self.run_ast_nodes(code_ast.body, cell_name,\n\u001b[0;32m-> 3186\u001b[0;31m                        interactivity=interactivity, compiler=compiler, result=result)\n\u001b[0m\u001b[1;32m   3187\u001b[0m \u001b[0;34m\u001b[0m\u001b[0m\n",
      "\u001b[0;32m/opt/conda/lib/python3.7/site-packages/IPython/core/interactiveshell.py\u001b[0m in \u001b[0;36mrun_ast_nodes\u001b[0;34m(***failed resolving arguments***)\u001b[0m\n\u001b[1;32m   3376\u001b[0m                         \u001b[0masy\u001b[0m \u001b[0;34m=\u001b[0m \u001b[0mcompare\u001b[0m\u001b[0;34m(\u001b[0m\u001b[0mcode\u001b[0m\u001b[0;34m)\u001b[0m\u001b[0;34m\u001b[0m\u001b[0;34m\u001b[0m\u001b[0m\n\u001b[0;32m-> 3377\u001b[0;31m                     \u001b[0;32mif\u001b[0m \u001b[0;34m(\u001b[0m\u001b[0;32mawait\u001b[0m \u001b[0mself\u001b[0m\u001b[0;34m.\u001b[0m\u001b[0mrun_code\u001b[0m\u001b[0;34m(\u001b[0m\u001b[0mcode\u001b[0m\u001b[0;34m,\u001b[0m \u001b[0mresult\u001b[0m\u001b[0;34m,\u001b[0m  \u001b[0masync_\u001b[0m\u001b[0;34m=\u001b[0m\u001b[0masy\u001b[0m\u001b[0;34m)\u001b[0m\u001b[0;34m)\u001b[0m\u001b[0;34m:\u001b[0m\u001b[0;34m\u001b[0m\u001b[0;34m\u001b[0m\u001b[0m\n\u001b[0m\u001b[1;32m   3378\u001b[0m                         \u001b[0;32mreturn\u001b[0m \u001b[0;32mTrue\u001b[0m\u001b[0;34m\u001b[0m\u001b[0;34m\u001b[0m\u001b[0m\n",
      "\u001b[0;32m/opt/conda/lib/python3.7/site-packages/IPython/core/interactiveshell.py\u001b[0m in \u001b[0;36mrun_code\u001b[0;34m(***failed resolving arguments***)\u001b[0m\n\u001b[1;32m   3456\u001b[0m                 \u001b[0;32melse\u001b[0m\u001b[0;34m:\u001b[0m\u001b[0;34m\u001b[0m\u001b[0;34m\u001b[0m\u001b[0m\n\u001b[0;32m-> 3457\u001b[0;31m                     \u001b[0mexec\u001b[0m\u001b[0;34m(\u001b[0m\u001b[0mcode_obj\u001b[0m\u001b[0;34m,\u001b[0m \u001b[0mself\u001b[0m\u001b[0;34m.\u001b[0m\u001b[0muser_global_ns\u001b[0m\u001b[0;34m,\u001b[0m \u001b[0mself\u001b[0m\u001b[0;34m.\u001b[0m\u001b[0muser_ns\u001b[0m\u001b[0;34m)\u001b[0m\u001b[0;34m\u001b[0m\u001b[0;34m\u001b[0m\u001b[0m\n\u001b[0m\u001b[1;32m   3458\u001b[0m             \u001b[0;32mfinally\u001b[0m\u001b[0;34m:\u001b[0m\u001b[0;34m\u001b[0m\u001b[0;34m\u001b[0m\u001b[0m\n",
      "\u001b[0;32m/tmp/ipykernel_282113/1999422913.py\u001b[0m in \u001b[0;36m<module>\u001b[0;34m\u001b[0m\n\u001b[1;32m      7\u001b[0m         \u001b[0mevent_data\u001b[0m \u001b[0;34m=\u001b[0m \u001b[0;34m{\u001b[0m\u001b[0;34m\"t0\"\u001b[0m\u001b[0;34m:\u001b[0m \u001b[0;36m0.\u001b[0m\u001b[0;34m,\u001b[0m \u001b[0;34m\"theta\"\u001b[0m\u001b[0;34m:\u001b[0m \u001b[0mnp\u001b[0m\u001b[0;34m.\u001b[0m\u001b[0mradians\u001b[0m\u001b[0;34m(\u001b[0m\u001b[0;36m30\u001b[0m\u001b[0;34m)\u001b[0m\u001b[0;34m,\u001b[0m \u001b[0;34m\"phi\"\u001b[0m\u001b[0;34m:\u001b[0m \u001b[0mnp\u001b[0m\u001b[0;34m.\u001b[0m\u001b[0mradians\u001b[0m\u001b[0;34m(\u001b[0m\u001b[0;36m25\u001b[0m\u001b[0;34m)\u001b[0m\u001b[0;34m,\u001b[0m \u001b[0;34m\"pos\"\u001b[0m\u001b[0;34m:\u001b[0m \u001b[0mnp\u001b[0m\u001b[0;34m.\u001b[0m\u001b[0masarray\u001b[0m\u001b[0;34m(\u001b[0m\u001b[0;34m[\u001b[0m\u001b[0;36m0\u001b[0m\u001b[0;34m,\u001b[0m \u001b[0;36m0\u001b[0m\u001b[0;34m,\u001b[0m \u001b[0;36m0.\u001b[0m\u001b[0;34m]\u001b[0m\u001b[0;34m)\u001b[0m\u001b[0;34m,\u001b[0m \u001b[0;34m\"energy\"\u001b[0m\u001b[0;34m:\u001b[0m \u001b[0menergy\u001b[0m\u001b[0;34m,\u001b[0m \u001b[0;34m\"pid\"\u001b[0m\u001b[0;34m:\u001b[0m \u001b[0;36m11\u001b[0m\u001b[0;34m}\u001b[0m\u001b[0;34m\u001b[0m\u001b[0;34m\u001b[0m\u001b[0m\n\u001b[0;32m----> 8\u001b[0;31m         \u001b[0mfisher\u001b[0m \u001b[0;34m=\u001b[0m \u001b[0mcalc_fisher_info_cascades\u001b[0m\u001b[0;34m(\u001b[0m\u001b[0mdet\u001b[0m\u001b[0;34m,\u001b[0m \u001b[0mevent_data\u001b[0m\u001b[0;34m,\u001b[0m \u001b[0msubkey\u001b[0m\u001b[0;34m,\u001b[0m \u001b[0mmake_realistic_cascade_source\u001b[0m\u001b[0;34m,\u001b[0m \u001b[0mgen_ph\u001b[0m\u001b[0;34m,\u001b[0m \u001b[0mevlh\u001b[0m\u001b[0;34m,\u001b[0m \u001b[0mc_medium_f\u001b[0m\u001b[0;34m(\u001b[0m\u001b[0;36m700\u001b[0m\u001b[0;34m)\u001b[0m\u001b[0;34m/\u001b[0m\u001b[0;36m1E9\u001b[0m\u001b[0;34m,\u001b[0m \u001b[0mn_ev\u001b[0m\u001b[0;34m=\u001b[0m\u001b[0;36m5\u001b[0m\u001b[0;34m)\u001b[0m\u001b[0;34m\u001b[0m\u001b[0;34m\u001b[0m\u001b[0m\n\u001b[0m\u001b[1;32m      9\u001b[0m         \u001b[0mfishers\u001b[0m\u001b[0;34m.\u001b[0m\u001b[0mappend\u001b[0m\u001b[0;34m(\u001b[0m\u001b[0;34m(\u001b[0m\u001b[0mfisher\u001b[0m\u001b[0;34m,\u001b[0m \u001b[0menergy\u001b[0m\u001b[0;34m,\u001b[0m \u001b[0mpos\u001b[0m\u001b[0;34m)\u001b[0m\u001b[0;34m)\u001b[0m\u001b[0;34m\u001b[0m\u001b[0;34m\u001b[0m\u001b[0m\n",
      "\u001b[0;32m/workspaces/repos/olympus/olympus/optimization/fisher_information.py\u001b[0m in \u001b[0;36mcalc_fisher_info_cascades\u001b[0;34m(***failed resolving arguments***)\u001b[0m\n\u001b[1;32m     91\u001b[0m                 \u001b[0mevent_data\u001b[0m\u001b[0;34m[\u001b[0m\u001b[0;34m\"t0\"\u001b[0m\u001b[0;34m]\u001b[0m\u001b[0;34m,\u001b[0m\u001b[0;34m\u001b[0m\u001b[0;34m\u001b[0m\u001b[0m\n\u001b[0;32m---> 92\u001b[0;31m                 \u001b[0mnp\u001b[0m\u001b[0;34m.\u001b[0m\u001b[0mlog10\u001b[0m\u001b[0;34m(\u001b[0m\u001b[0mevent_data\u001b[0m\u001b[0;34m[\u001b[0m\u001b[0;34m\"energy\"\u001b[0m\u001b[0;34m]\u001b[0m\u001b[0;34m)\u001b[0m\u001b[0;34m,\u001b[0m\u001b[0;34m\u001b[0m\u001b[0;34m\u001b[0m\u001b[0m\n\u001b[0m\u001b[1;32m     93\u001b[0m             )\n",
      "\u001b[0;32m/workspaces/repos/olympus/olympus/optimization/fisher_information.py\u001b[0m in \u001b[0;36mwrap_lh_call\u001b[0;34m(***failed resolving arguments***)\u001b[0m\n\u001b[1;32m     56\u001b[0m                 \u001b[0msource_nphotons\u001b[0m\u001b[0;34m,\u001b[0m\u001b[0;34m\u001b[0m\u001b[0;34m\u001b[0m\u001b[0m\n\u001b[0;32m---> 57\u001b[0;31m                 \u001b[0mc_medium\u001b[0m\u001b[0;34m,\u001b[0m\u001b[0;34m\u001b[0m\u001b[0;34m\u001b[0m\u001b[0m\n\u001b[0m\u001b[1;32m     58\u001b[0m             )\n",
      "\u001b[0;31mJaxStackTraceBeforeTransformation\u001b[0m: RuntimeError: RESOURCE_EXHAUSTED: Out of memory while trying to allocate 1518697216 bytes.\n\nThe preceding stack trace is the source of the JAX operation that, once transformed by JAX, triggered the following exception.\n\n--------------------",
      "\nThe above exception was the direct cause of the following exception:\n",
      "\u001b[0;31mRuntimeError\u001b[0m                              Traceback (most recent call last)",
      "\u001b[0;32m/tmp/ipykernel_282113/1999422913.py\u001b[0m in \u001b[0;36m<module>\u001b[0;34m\u001b[0m\n\u001b[1;32m      6\u001b[0m         \u001b[0mkey\u001b[0m\u001b[0;34m,\u001b[0m \u001b[0msubkey\u001b[0m \u001b[0;34m=\u001b[0m \u001b[0mrandom\u001b[0m\u001b[0;34m.\u001b[0m\u001b[0msplit\u001b[0m\u001b[0;34m(\u001b[0m\u001b[0mkey\u001b[0m\u001b[0;34m)\u001b[0m\u001b[0;34m\u001b[0m\u001b[0;34m\u001b[0m\u001b[0m\n\u001b[1;32m      7\u001b[0m         \u001b[0mevent_data\u001b[0m \u001b[0;34m=\u001b[0m \u001b[0;34m{\u001b[0m\u001b[0;34m\"t0\"\u001b[0m\u001b[0;34m:\u001b[0m \u001b[0;36m0.\u001b[0m\u001b[0;34m,\u001b[0m \u001b[0;34m\"theta\"\u001b[0m\u001b[0;34m:\u001b[0m \u001b[0mnp\u001b[0m\u001b[0;34m.\u001b[0m\u001b[0mradians\u001b[0m\u001b[0;34m(\u001b[0m\u001b[0;36m30\u001b[0m\u001b[0;34m)\u001b[0m\u001b[0;34m,\u001b[0m \u001b[0;34m\"phi\"\u001b[0m\u001b[0;34m:\u001b[0m \u001b[0mnp\u001b[0m\u001b[0;34m.\u001b[0m\u001b[0mradians\u001b[0m\u001b[0;34m(\u001b[0m\u001b[0;36m25\u001b[0m\u001b[0;34m)\u001b[0m\u001b[0;34m,\u001b[0m \u001b[0;34m\"pos\"\u001b[0m\u001b[0;34m:\u001b[0m \u001b[0mnp\u001b[0m\u001b[0;34m.\u001b[0m\u001b[0masarray\u001b[0m\u001b[0;34m(\u001b[0m\u001b[0;34m[\u001b[0m\u001b[0;36m0\u001b[0m\u001b[0;34m,\u001b[0m \u001b[0;36m0\u001b[0m\u001b[0;34m,\u001b[0m \u001b[0;36m0.\u001b[0m\u001b[0;34m]\u001b[0m\u001b[0;34m)\u001b[0m\u001b[0;34m,\u001b[0m \u001b[0;34m\"energy\"\u001b[0m\u001b[0;34m:\u001b[0m \u001b[0menergy\u001b[0m\u001b[0;34m,\u001b[0m \u001b[0;34m\"pid\"\u001b[0m\u001b[0;34m:\u001b[0m \u001b[0;36m11\u001b[0m\u001b[0;34m}\u001b[0m\u001b[0;34m\u001b[0m\u001b[0;34m\u001b[0m\u001b[0m\n\u001b[0;32m----> 8\u001b[0;31m         \u001b[0mfisher\u001b[0m \u001b[0;34m=\u001b[0m \u001b[0mcalc_fisher_info_cascades\u001b[0m\u001b[0;34m(\u001b[0m\u001b[0mdet\u001b[0m\u001b[0;34m,\u001b[0m \u001b[0mevent_data\u001b[0m\u001b[0;34m,\u001b[0m \u001b[0msubkey\u001b[0m\u001b[0;34m,\u001b[0m \u001b[0mmake_realistic_cascade_source\u001b[0m\u001b[0;34m,\u001b[0m \u001b[0mgen_ph\u001b[0m\u001b[0;34m,\u001b[0m \u001b[0mevlh\u001b[0m\u001b[0;34m,\u001b[0m \u001b[0mc_medium_f\u001b[0m\u001b[0;34m(\u001b[0m\u001b[0;36m700\u001b[0m\u001b[0;34m)\u001b[0m\u001b[0;34m/\u001b[0m\u001b[0;36m1E9\u001b[0m\u001b[0;34m,\u001b[0m \u001b[0mn_ev\u001b[0m\u001b[0;34m=\u001b[0m\u001b[0;36m5\u001b[0m\u001b[0;34m)\u001b[0m\u001b[0;34m\u001b[0m\u001b[0;34m\u001b[0m\u001b[0m\n\u001b[0m\u001b[1;32m      9\u001b[0m         \u001b[0mfishers\u001b[0m\u001b[0;34m.\u001b[0m\u001b[0mappend\u001b[0m\u001b[0;34m(\u001b[0m\u001b[0;34m(\u001b[0m\u001b[0mfisher\u001b[0m\u001b[0;34m,\u001b[0m \u001b[0menergy\u001b[0m\u001b[0;34m,\u001b[0m \u001b[0mpos\u001b[0m\u001b[0;34m)\u001b[0m\u001b[0;34m)\u001b[0m\u001b[0;34m\u001b[0m\u001b[0;34m\u001b[0m\u001b[0m\n",
      "\u001b[0;32m/workspaces/repos/olympus/olympus/optimization/fisher_information.py\u001b[0m in \u001b[0;36mcalc_fisher_info_cascades\u001b[0;34m(det, event_data, key, converter, ph_prop, lh_func, c_medium, n_ev)\u001b[0m\n\u001b[1;32m     90\u001b[0m                 \u001b[0mevent_data\u001b[0m\u001b[0;34m[\u001b[0m\u001b[0;34m\"phi\"\u001b[0m\u001b[0;34m]\u001b[0m\u001b[0;34m,\u001b[0m\u001b[0;34m\u001b[0m\u001b[0;34m\u001b[0m\u001b[0m\n\u001b[1;32m     91\u001b[0m                 \u001b[0mevent_data\u001b[0m\u001b[0;34m[\u001b[0m\u001b[0;34m\"t0\"\u001b[0m\u001b[0;34m]\u001b[0m\u001b[0;34m,\u001b[0m\u001b[0;34m\u001b[0m\u001b[0;34m\u001b[0m\u001b[0m\n\u001b[0;32m---> 92\u001b[0;31m                 \u001b[0mnp\u001b[0m\u001b[0;34m.\u001b[0m\u001b[0mlog10\u001b[0m\u001b[0;34m(\u001b[0m\u001b[0mevent_data\u001b[0m\u001b[0;34m[\u001b[0m\u001b[0;34m\"energy\"\u001b[0m\u001b[0;34m]\u001b[0m\u001b[0;34m)\u001b[0m\u001b[0;34m,\u001b[0m\u001b[0;34m\u001b[0m\u001b[0;34m\u001b[0m\u001b[0m\n\u001b[0m\u001b[1;32m     93\u001b[0m             )\n\u001b[1;32m     94\u001b[0m         )\n",
      "\u001b[0;32m/opt/conda/lib/python3.7/site-packages/jax/_src/api.py\u001b[0m in \u001b[0;36mjacfun\u001b[0;34m(*args, **kwargs)\u001b[0m\n\u001b[1;32m   1228\u001b[0m     \u001b[0my\u001b[0m\u001b[0;34m,\u001b[0m \u001b[0mpullback\u001b[0m \u001b[0;34m=\u001b[0m \u001b[0m_vjp\u001b[0m\u001b[0;34m(\u001b[0m\u001b[0mf_partial\u001b[0m\u001b[0;34m,\u001b[0m \u001b[0;34m*\u001b[0m\u001b[0mdyn_args\u001b[0m\u001b[0;34m)\u001b[0m\u001b[0;34m\u001b[0m\u001b[0;34m\u001b[0m\u001b[0m\n\u001b[1;32m   1229\u001b[0m     \u001b[0mtree_map\u001b[0m\u001b[0;34m(\u001b[0m\u001b[0mpartial\u001b[0m\u001b[0;34m(\u001b[0m\u001b[0m_check_output_dtype_jacrev\u001b[0m\u001b[0;34m,\u001b[0m \u001b[0mholomorphic\u001b[0m\u001b[0;34m)\u001b[0m\u001b[0;34m,\u001b[0m \u001b[0my\u001b[0m\u001b[0;34m)\u001b[0m\u001b[0;34m\u001b[0m\u001b[0;34m\u001b[0m\u001b[0m\n\u001b[0;32m-> 1230\u001b[0;31m     \u001b[0mjac\u001b[0m \u001b[0;34m=\u001b[0m \u001b[0mvmap\u001b[0m\u001b[0;34m(\u001b[0m\u001b[0mpullback\u001b[0m\u001b[0;34m)\u001b[0m\u001b[0;34m(\u001b[0m\u001b[0m_std_basis\u001b[0m\u001b[0;34m(\u001b[0m\u001b[0my\u001b[0m\u001b[0;34m)\u001b[0m\u001b[0;34m)\u001b[0m\u001b[0;34m\u001b[0m\u001b[0;34m\u001b[0m\u001b[0m\n\u001b[0m\u001b[1;32m   1231\u001b[0m     \u001b[0mjac\u001b[0m \u001b[0;34m=\u001b[0m \u001b[0mjac\u001b[0m\u001b[0;34m[\u001b[0m\u001b[0;36m0\u001b[0m\u001b[0;34m]\u001b[0m \u001b[0;32mif\u001b[0m \u001b[0misinstance\u001b[0m\u001b[0;34m(\u001b[0m\u001b[0margnums\u001b[0m\u001b[0;34m,\u001b[0m \u001b[0mint\u001b[0m\u001b[0;34m)\u001b[0m \u001b[0;32melse\u001b[0m \u001b[0mjac\u001b[0m\u001b[0;34m\u001b[0m\u001b[0;34m\u001b[0m\u001b[0m\n\u001b[1;32m   1232\u001b[0m     \u001b[0mexample_args\u001b[0m \u001b[0;34m=\u001b[0m \u001b[0mdyn_args\u001b[0m\u001b[0;34m[\u001b[0m\u001b[0;36m0\u001b[0m\u001b[0;34m]\u001b[0m \u001b[0;32mif\u001b[0m \u001b[0misinstance\u001b[0m\u001b[0;34m(\u001b[0m\u001b[0margnums\u001b[0m\u001b[0;34m,\u001b[0m \u001b[0mint\u001b[0m\u001b[0;34m)\u001b[0m \u001b[0;32melse\u001b[0m \u001b[0mdyn_args\u001b[0m\u001b[0;34m\u001b[0m\u001b[0;34m\u001b[0m\u001b[0m\n",
      "    \u001b[0;31m[... skipping hidden 24 frame]\u001b[0m\n",
      "\u001b[0;32m/opt/conda/lib/python3.7/site-packages/jax/_src/dispatch.py\u001b[0m in \u001b[0;36mbackend_compile\u001b[0;34m(backend, built_c, options)\u001b[0m\n\u001b[1;32m    512\u001b[0m   \u001b[0;31m# we use a separate function call to ensure that XLA compilation appears\u001b[0m\u001b[0;34m\u001b[0m\u001b[0;34m\u001b[0m\u001b[0;34m\u001b[0m\u001b[0m\n\u001b[1;32m    513\u001b[0m   \u001b[0;31m# separately in Python profiling results\u001b[0m\u001b[0;34m\u001b[0m\u001b[0;34m\u001b[0m\u001b[0;34m\u001b[0m\u001b[0m\n\u001b[0;32m--> 514\u001b[0;31m   \u001b[0;32mreturn\u001b[0m \u001b[0mbackend\u001b[0m\u001b[0;34m.\u001b[0m\u001b[0mcompile\u001b[0m\u001b[0;34m(\u001b[0m\u001b[0mbuilt_c\u001b[0m\u001b[0;34m,\u001b[0m \u001b[0mcompile_options\u001b[0m\u001b[0;34m=\u001b[0m\u001b[0moptions\u001b[0m\u001b[0;34m)\u001b[0m\u001b[0;34m\u001b[0m\u001b[0;34m\u001b[0m\u001b[0m\n\u001b[0m\u001b[1;32m    515\u001b[0m \u001b[0;34m\u001b[0m\u001b[0m\n\u001b[1;32m    516\u001b[0m \u001b[0;31m# TODO(phawkins): update users.\u001b[0m\u001b[0;34m\u001b[0m\u001b[0;34m\u001b[0m\u001b[0;34m\u001b[0m\u001b[0m\n",
      "\u001b[0;31mRuntimeError\u001b[0m: RESOURCE_EXHAUSTED: Out of memory while trying to allocate 1518697216 bytes."
     ]
    }
   ],
   "source": [
    "energies = np.logspace(3, 5, 10)\n",
    "fishers = []\n",
    "key = random.PRNGKey(0)\n",
    "for energy in energies:\n",
    "    for pos in [np.asarray([0, 0, 0.]), np.asarray([0, 50., 0.])]:\n",
    "        key, subkey = random.split(key)\n",
    "        event_data = {\"t0\": 0., \"theta\": np.radians(30), \"phi\": np.radians(25), \"pos\": np.asarray([0, 0, 0.]), \"energy\": energy, \"pid\": 11}\n",
    "        fisher = calc_fisher_info_cascades(det, event_data, subkey, make_realistic_cascade_source, gen_ph, evlh, c_medium_f(700)/1E9, n_ev=5)\n",
    "        fishers.append((fisher, energy, pos))"
   ]
  },
  {
   "cell_type": "code",
   "execution_count": null,
   "id": "d323042f",
   "metadata": {},
   "outputs": [],
   "source": [
    "cr_data = []\n",
    "for (fi, energy, pos) in fishers:\n",
    "    cr = np.sqrt(jnp.diag(jnp.linalg.inv(fi)))\n",
    "    cr_data.append([energy, tuple(pos)]  + list(cr))\n",
    "   \n",
    "    \n",
    "df = pd.DataFrame(cr_data, columns=[\"energy_sim\", \"pos_sim\", \"x\", \"y\", \"z\", \"theta\", \"phi\", \"t\", \"log10(energy/GeV)\" ])\n",
    "df[\"theta_deg\"] = np.degrees(df[\"theta\"])\n",
    "df[\"phi_deg\"] = np.degrees(df[\"phi\"])\n",
    "df.set_index(\"energy_sim\", inplace=True)"
   ]
  },
  {
   "cell_type": "code",
   "execution_count": null,
   "id": "1f39cb06",
   "metadata": {},
   "outputs": [],
   "source": [
    "for groupn, group in df.groupby(\"pos_sim\"):\n",
    "    plt.plot(group.index, group.theta_deg, label=groupn)\n",
    "    plt.loglog()\n",
    "    plt.xlabel(\"Energy [GeV]\")\n",
    "    plt.ylabel(\"Theta Resolution [deg]\")\n",
    "    plt.title(\"EM Cascade at [0, 0, 0] with 3 lines @ 100m spacing\")\n",
    "plt.legend()"
   ]
  },
  {
   "cell_type": "code",
   "execution_count": null,
   "id": "ad77b2dd",
   "metadata": {},
   "outputs": [],
   "source": [
    "for groupn, group in df.groupby(\"pos_sim\"):\n",
    "    plt.plot(group.index, group.phi_deg, label=groupn)\n",
    "    plt.loglog()\n",
    "    plt.xlabel(\"Energy [GeV]\")\n",
    "    plt.ylabel(\"Theta Resolution [deg]\")\n",
    "    plt.title(\"EM Cascade at [0, 0, 0] with 3 lines @ 100m spacing\")\n",
    "plt.legend()"
   ]
  },
  {
   "cell_type": "code",
   "execution_count": null,
   "id": "3adc5a69",
   "metadata": {},
   "outputs": [],
   "source": [
    "def eval_lh_time(time, energy):\n",
    "    sources = make_pointlike_cascade_source(event_data[\"pos\"], time, event_dir, energy, 11)\n",
    "    return eval_likelihood(event, det.module_coords, sources, c_medium_f(700) / 1E9)\n",
    "\n",
    "jax.grad(eval_lh_time)(11., 1E7)"
   ]
  },
  {
   "cell_type": "code",
   "execution_count": null,
   "id": "12bec2d5",
   "metadata": {},
   "outputs": [],
   "source": []
  },
  {
   "cell_type": "code",
   "execution_count": null,
   "id": "2cad30b9",
   "metadata": {},
   "outputs": [],
   "source": [
    "def eval_lh_energy(energy):\n",
    "    sources = make_pointlike_cascade_source(event_data[\"pos\"], event_data[\"t0\"], event_dir, energy, 11)\n",
    "    return eval_likelihood(event, det.module_coords, sources, c_medium_f(700) / 1E9)\n",
    "\n",
    "jax.grad(eval_lh_time)(11., 1E7)\n",
    "energies = jnp.logspace(1, 7, 50)\n",
    "lhs = jax.vmap((eval_lh_energy))(energies)\n",
    "plt.plot(energies, lhs)\n",
    "plt.semilogx()"
   ]
  },
  {
   "cell_type": "code",
   "execution_count": null,
   "id": "681162f9",
   "metadata": {},
   "outputs": [],
   "source": [
    "source = PhotonSource(jnp.asarray([0., 10., -2.]), 1E9, 0, jnp.asarray([0., 1, 0]))\n",
    "source2 = PhotonSource(jnp.asarray([0., 299., -50.]), 1E13, 300, jnp.asarray([0., 1, 0]))\n",
    "source3 = PhotonSource(jnp.asarray([0., -10., 3.]), 9E7, 300, jnp.asarray([0., 1, 0]))\n",
    "#det = Detector(make_hex_grid(4, 100, 20, 50))\n",
    "\n",
    "sources = [source, source2, source3]\n",
    "\n",
    "det = Detector(make_line(0, 0, 2, 50, np.random.RandomState(0), 1E3, 0))\n",
    "\n",
    "event = gen_ph(det.module_coords, det.module_efficiencies, [source, source2, source3], c_medium_f(700)/1E9, seed=2)\n",
    "\n",
    "eval_likelihood(event, det.module_coords, sources, c_medium_f(700) / 1E9)\n",
    "\n",
    "\n"
   ]
  },
  {
   "cell_type": "code",
   "execution_count": null,
   "id": "9cab9df2",
   "metadata": {},
   "outputs": [],
   "source": [
    "source = PhotonSource(jnp.asarray([0., 10., -2.]), 1E9, 0, jnp.asarray([0., 1, 0]))\n",
    "source2 = PhotonSource(jnp.asarray([0., 299., -50.]), 1E13, 300, jnp.asarray([1., 0, 0]))\n",
    "source3 = PhotonSource(jnp.asarray([0., -10., 3.]), 9E7, 300, jnp.asarray([0., 1, 0]))\n",
    "#det = Detector(make_hex_grid(4, 100, 20, 50))\n",
    "\n",
    "sources = [source, source2, source3]\n",
    "eval_likelihood(event, det.module_coords, sources, c_medium_f(700) / 1E9)"
   ]
  },
  {
   "cell_type": "code",
   "execution_count": null,
   "id": "6f3a10f0-f28e-4d93-a818-61505d02ab01",
   "metadata": {},
   "outputs": [],
   "source": [
    "c_medium = 0.299792458 / medium[\"n_ph\"]\n",
    "ixs = jnp.sum(event_binned, axis=1)\n",
    "#binning = np.linspace(-20, 100, 120)\n",
    "\n",
    "def add_tts(times, res):\n",
    "    return times + np.random.normal(0, scale=res, size=len(times))\n",
    "\n",
    "\n",
    "for res in [2]:\n",
    "    \n",
    "    fig, axs = plt.subplots(2, 2, figsize=(16, 8))\n",
    "\n",
    "    colors = sns.color_palette(\"colorblind\")\n",
    "    for ix, ax in zip(ixs, axs.ravel()):\n",
    "\n",
    "        det_dist = np.linalg.norm(event_data[\"pos\"] - det.module_coords[ix])\n",
    "\n",
    "        times = np.asarray(event[ix])\n",
    "        tgeo = event_data[\"t0\"] + det_dist / c_medium\n",
    "        \n",
    "        amps, steps = event_binned[0][ix]\n",
    "        amps = amps.detach().cpu()\n",
    "        steps = steps.detach().cpu()\n",
    "\n",
    "        #sns.histplot(add_tts(event3[ix], res)-tgeo, bins=binning, color=colors[0], ax=ax, alpha=0.7, element=\"step\", fill=False, label=\"Pointlike\")\n",
    "        ax.step(steps, np.append(amps, amps[-1]), where=\"post\")\n",
    "        sns.histplot(add_tts(times, res), bins=steps, ax=ax, alpha=0.7, element=\"step\", color=colors[1], fill=False, label=\"EM\")\n",
    "        \n",
    "       \n",
    "        \n",
    "        #sns.histplot(add_tts(event2[ix], res)-tgeo, bins=binning, ax=ax, alpha=0.7, element=\"step\", color=colors[2], fill=False, label=\"Hadr\")\n",
    "\n",
    "        ax.set_yscale(\"log\")\n",
    "        ax.set_title(f\"Module Pos: { det.module_coords[ix]}\")\n",
    "        ax.set_xlim(steps[0] - 10, steps[0] + 150)\n",
    "    axs[0][0].legend()"
   ]
  },
  {
   "cell_type": "code",
   "execution_count": null,
   "id": "5be334a0-0c42-4ead-9859-6fda243e1ffb",
   "metadata": {},
   "outputs": [],
   "source": [
    "test_energy = 5E5\n",
    "em_counts_func, em_long_func, em_angles_func = fennel_instance.em_yields(energy=test_energy, particle=11, mean=True, function=True)\n",
    "had_counts_func, had_long_func, had_em_func, had_angles_func = fennel_instance.hadron_yields(energy=test_energy, particle=211, mean=True, function=True)\n",
    "\n",
    "zgrid = np.linspace(0, 15*100, 1000)\n",
    "\n",
    "#em_counts_val = em_counts_func(test_energy, wavelengths, 11, mean=True)\n",
    "em_long_val = em_long_func(test_energy, zgrid, fennel_instance._particles[11])\n",
    "hadr_long_val = had_long_func(test_energy, zgrid, fennel_instance._particles[211])\n",
    "#em_angles_val = em_angles_func(angle_grid, 1.33, fennel_instance._particles[11])\n",
    "\n",
    "\n",
    "\n",
    "\n",
    "\n",
    "int_grid = np.linspace(0, 20, 40)\n",
    "integrals_em = []\n",
    "integrals_had = []\n",
    "integrand_em = lambda z: em_long_func(event_data[\"energy\"], z, particle=fennel_instance._particles[11])\n",
    "integrand_had = lambda z: had_long_func(event_data[\"energy\"], z, particle=fennel_instance._particles[211])\n",
    "\n",
    "norm_em = scipy.integrate.quad(integrand_em, 0, np.infty)[0]\n",
    "norm_had = scipy.integrate.quad(integrand_had, 0, np.infty)[0]\n",
    "wavelengths = np.linspace(350, 500, 100)\n",
    "nph_em = np.trapz(em_counts_func(test_energy, wavelengths, particle=11).ravel(), wavelengths)\n",
    "nph_had = np.trapz(had_counts_func(test_energy, wavelengths, particle=211).ravel(), wavelengths)\n",
    "\n",
    "\n",
    "event_dir = sph_to_cart_np(event_data[\"theta\"], event_data[\"phi\"])\n",
    "\n",
    "ph_sources_em = []\n",
    "ph_sources_had = []\n",
    "for i in range(len(int_grid)-1):\n",
    "    \n",
    "    inte_em = scipy.integrate.quad(integrand_em, int_grid[i]*100, int_grid[i+1]*100)\n",
    "    integrals_em.append(inte_em[0]/norm_em*nph_em)\n",
    "    \n",
    "    inte_had = scipy.integrate.quad(integrand_had, int_grid[i]*100, int_grid[i+1]*100)\n",
    "    integrals_had.append(inte_had[0]/norm_had*nph_had)\n",
    "    \n",
    "    dist_along = 0.5*(int_grid[i] + int_grid[i+1])\n",
    "    src_pos = dist_along * event_dir + event_data[\"pos\"]\n",
    "    ph_sources_em.append(\n",
    "        PhotonSource(src_pos, inte_em[0]/norm_em*nph_em, event_data[\"t0\"] + dist_along / 0.299792458, event_dir)\n",
    "    )\n",
    "    \n",
    "    ph_sources_had.append(\n",
    "        PhotonSource(src_pos, inte_had[0]/norm_had*nph_had, event_data[\"t0\"] + dist_along / 0.299792458, event_dir)\n",
    "    )\n",
    "\n",
    "half = 0.5*(int_grid[1:] + int_grid[:-1])\n",
    "    \n",
    "plt.plot(half, integrals_em)\n",
    "plt.plot(half, integrals_had)"
   ]
  },
  {
   "cell_type": "code",
   "execution_count": null,
   "id": "0b87da82-07e6-4ce4-8c67-884b05282403",
   "metadata": {},
   "outputs": [],
   "source": [
    "event = gen_ph(det.module_coords, det.module_efficiencies, ph_sources_em)\n",
    "event2 = gen_ph(det.module_coords, det.module_efficiencies, ph_sources_had)\n",
    "\n",
    "event3 = gen_ph(det.module_coords, det.module_efficiencies,\n",
    "                [PhotonSource(event_data[\"pos\"], nph, event_data[\"t0\"], event_dir)])\n"
   ]
  },
  {
   "cell_type": "code",
   "execution_count": null,
   "id": "88c25be8-cb99-4c84-a98a-6a8aa6fed792",
   "metadata": {},
   "outputs": [],
   "source": [
    "det_dist"
   ]
  },
  {
   "cell_type": "code",
   "execution_count": null,
   "id": "4dc6dc83-71f8-4038-b40a-8c5d14c3b1e4",
   "metadata": {},
   "outputs": [],
   "source": []
  },
  {
   "cell_type": "code",
   "execution_count": null,
   "id": "26790383-ba9e-490e-b645-9e59d047f31e",
   "metadata": {},
   "outputs": [],
   "source": [
    "ixs = ak.argsort(ak.count(event, axis=1), ascending=False)\n",
    "binning = np.linspace(-20, 100, 120)\n",
    "\n",
    "def add_tts(times, res):\n",
    "    return times + np.random.normal(0, scale=res, size=len(times))\n",
    "\n",
    "\n",
    "for res in [0, 3,]:\n",
    "    \n",
    "    fig, axs = plt.subplots(2, 2, figsize=(16, 8))\n",
    "\n",
    "    colors = sns.color_palette(\"colorblind\")\n",
    "    for ix, ax in zip(ixs, axs.ravel()):\n",
    "\n",
    "        det_dist = np.linalg.norm(event_data[\"pos\"] - det.module_coords[ix])\n",
    "\n",
    "        times = np.asarray(event[ix])\n",
    "        tgeo = event_data[\"t0\"] + det_dist / c_medium\n",
    "\n",
    "        #sns.histplot(add_tts(event3[ix], res)-tgeo, bins=binning, color=colors[0], ax=ax, alpha=0.7, element=\"step\", fill=False, label=\"Pointlike\")\n",
    "        sns.histplot(add_tts(times, res)-tgeo, bins=binning, ax=ax, alpha=0.7, element=\"step\", color=colors[1], fill=False, label=\"EM\")\n",
    "        #sns.histplot(add_tts(event2[ix], res)-tgeo, bins=binning, ax=ax, alpha=0.7, element=\"step\", color=colors[2], fill=False, label=\"Hadr\")\n",
    "\n",
    "        ax.set_yscale(\"log\")\n",
    "        ax.set_title(f\"Module Pos: { det.module_coords[ix]}\")\n",
    "    axs[0][0].legend()"
   ]
  },
  {
   "cell_type": "code",
   "execution_count": null,
   "id": "56dcc726-d688-4435-b5fc-c87431177726",
   "metadata": {},
   "outputs": [],
   "source": [
    "event_data[\"dir\"]"
   ]
  },
  {
   "cell_type": "code",
   "execution_count": null,
   "id": "0e99a947-7904-42b1-bcfd-23068f942d4b",
   "metadata": {},
   "outputs": [],
   "source": [
    "\n",
    "plt.plot(wavelengths, em_counts_func(test_energy, wavelengths, particle=11))\n",
    " / (5.3 * 250 * 1E2 * test_energy  )"
   ]
  },
  {
   "cell_type": "code",
   "execution_count": null,
   "id": "95679b05-2b59-4135-a235-6d33b01dd5c2",
   "metadata": {},
   "outputs": [],
   "source": []
  },
  {
   "cell_type": "code",
   "execution_count": null,
   "id": "2c812bbb-0888-402d-a7b5-0c504ba7a54e",
   "metadata": {},
   "outputs": [],
   "source": []
  },
  {
   "cell_type": "code",
   "execution_count": null,
   "id": "86868c01-f4bc-4cf3-8333-f39b9d725fc3",
   "metadata": {},
   "outputs": [],
   "source": [
    "config['advanced']['wavelengths']"
   ]
  },
  {
   "cell_type": "code",
   "execution_count": null,
   "id": "66dfed88-19ec-46f4-bb3a-5b5384110abc",
   "metadata": {},
   "outputs": [],
   "source": [
    "em_counts_val / np.diff(wavelengths)[0]"
   ]
  },
  {
   "cell_type": "code",
   "execution_count": null,
   "id": "cecbfe92-1a01-49a3-8189-96793d142977",
   "metadata": {},
   "outputs": [],
   "source": [
    "event_data = {\"t0\":, 0, \"theta\": np.radians(10), \"phi\": np.radians(20), \"pos\": np.asarray([0, 0, 0.]), \"energy\": 1E5}\n",
    "event, record = generate_cascade(\n",
    "    det, pos, t0_gen, cdir, n_photons=amp_gen, pprop_func=gen_ph\n",
    ")"
   ]
  }
 ],
 "metadata": {
  "kernelspec": {
   "display_name": "Python 3 (ipykernel)",
   "language": "python",
   "name": "python3"
  },
  "language_info": {
   "codemirror_mode": {
    "name": "ipython",
    "version": 3
   },
   "file_extension": ".py",
   "mimetype": "text/x-python",
   "name": "python",
   "nbconvert_exporter": "python",
   "pygments_lexer": "ipython3",
   "version": "3.7.10"
  }
 },
 "nbformat": 4,
 "nbformat_minor": 5
}
